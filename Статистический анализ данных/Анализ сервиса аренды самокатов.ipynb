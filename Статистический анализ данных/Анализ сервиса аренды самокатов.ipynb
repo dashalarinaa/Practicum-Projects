{
 "cells": [
  {
   "cell_type": "markdown",
   "id": "f2f73249",
   "metadata": {
    "toc": true
   },
   "source": [
    "<h1>Содержание<span class=\"tocSkip\"></span></h1>\n",
    "<div class=\"toc\"><ul class=\"toc-item\"><li><span><a href=\"#Шаг-1.-Загрузка-данных\" data-toc-modified-id=\"Шаг-1.-Загрузка-данных-1\"><span class=\"toc-item-num\">1&nbsp;&nbsp;</span>Шаг 1. Загрузка данных</a></span></li><li><span><a href=\"#Шаг-2.-Предобработка-данных\" data-toc-modified-id=\"Шаг-2.-Предобработка-данных-2\"><span class=\"toc-item-num\">2&nbsp;&nbsp;</span>Шаг 2. Предобработка данных</a></span></li><li><span><a href=\"#Шаг-3.-Исследовательский-анализ-данных\" data-toc-modified-id=\"Шаг-3.-Исследовательский-анализ-данных-3\"><span class=\"toc-item-num\">3&nbsp;&nbsp;</span>Шаг 3. Исследовательский анализ данных</a></span><ul class=\"toc-item\"><li><span><a href=\"#Частота-встречаемости-городов\" data-toc-modified-id=\"Частота-встречаемости-городов-3.1\"><span class=\"toc-item-num\">3.1&nbsp;&nbsp;</span>Частота встречаемости городов</a></span></li><li><span><a href=\"#Соотношение-пользователей-с-подпиской-и-без-подписки\" data-toc-modified-id=\"Соотношение-пользователей-с-подпиской-и-без-подписки-3.2\"><span class=\"toc-item-num\">3.2&nbsp;&nbsp;</span>Соотношение пользователей с подпиской и без подписки</a></span></li><li><span><a href=\"#Возраст-пользователей\" data-toc-modified-id=\"Возраст-пользователей-3.3\"><span class=\"toc-item-num\">3.3&nbsp;&nbsp;</span>Возраст пользователей</a></span></li><li><span><a href=\"#Расстояние,-которое-пользователь-преодолел-за-одну-поездку\" data-toc-modified-id=\"Расстояние,-которое-пользователь-преодолел-за-одну-поездку-3.4\"><span class=\"toc-item-num\">3.4&nbsp;&nbsp;</span>Расстояние, которое пользователь преодолел за одну поездку</a></span></li><li><span><a href=\"#Продолжительность-поездок\" data-toc-modified-id=\"Продолжительность-поездок-3.5\"><span class=\"toc-item-num\">3.5&nbsp;&nbsp;</span>Продолжительность поездок</a></span></li></ul></li><li><span><a href=\"#Шаг-4.-Объединение-данных\" data-toc-modified-id=\"Шаг-4.-Объединение-данных-4\"><span class=\"toc-item-num\">4&nbsp;&nbsp;</span>Шаг 4. Объединение данных</a></span><ul class=\"toc-item\"><li><span><a href=\"#Объединение-данных-о-пользователях,-поездках-и-подписках-в-один-датафрейм\" data-toc-modified-id=\"Объединение-данных-о-пользователях,-поездках-и-подписках-в-один-датафрейм-4.1\"><span class=\"toc-item-num\">4.1&nbsp;&nbsp;</span>Объединение данных о пользователях, поездках и подписках в один датафрейм</a></span></li><li><span><a href=\"#Создание-двух-датафреймов-из-датафрейма,-созданного-на-этапе-4.1:\" data-toc-modified-id=\"Создание-двух-датафреймов-из-датафрейма,-созданного-на-этапе-4.1:-4.2\"><span class=\"toc-item-num\">4.2&nbsp;&nbsp;</span>Создание двух датафреймов из датафрейма, созданного на этапе 4.1:</a></span></li><li><span><a href=\"#Визуализация-информации-о-расстоянии-и-времени-поездок-для-пользователей-обеих-категорий\" data-toc-modified-id=\"Визуализация-информации-о-расстоянии-и-времени-поездок-для-пользователей-обеих-категорий-4.3\"><span class=\"toc-item-num\">4.3&nbsp;&nbsp;</span>Визуализация информации о расстоянии и времени поездок для пользователей обеих категорий</a></span></li></ul></li><li><span><a href=\"#Шаг-5.-Подсчёт-выручки\" data-toc-modified-id=\"Шаг-5.-Подсчёт-выручки-5\"><span class=\"toc-item-num\">5&nbsp;&nbsp;</span>Шаг 5. Подсчёт выручки</a></span><ul class=\"toc-item\"><li><span><a href=\"#Создание-датафрейма-с-агрегированными-данными-о-поездках\" data-toc-modified-id=\"Создание-датафрейма-с-агрегированными-данными-о-поездках-5.1\"><span class=\"toc-item-num\">5.1&nbsp;&nbsp;</span>Создание датафрейма с агрегированными данными о поездках</a></span></li><li><span><a href=\"#Выручка-по-каждому-пользователю\" data-toc-modified-id=\"Выручка-по-каждому-пользователю-5.2\"><span class=\"toc-item-num\">5.2&nbsp;&nbsp;</span>Выручка по каждому пользователю</a></span></li></ul></li><li><span><a href=\"#Шаг-6.-Проверка-гипотез\" data-toc-modified-id=\"Шаг-6.-Проверка-гипотез-6\"><span class=\"toc-item-num\">6&nbsp;&nbsp;</span>Шаг 6. Проверка гипотез</a></span><ul class=\"toc-item\"><li><span><a href=\"#Тратят-ли-пользователи-с-подпиской-больше-времени-на-поездки?\" data-toc-modified-id=\"Тратят-ли-пользователи-с-подпиской-больше-времени-на-поездки?-6.1\"><span class=\"toc-item-num\">6.1&nbsp;&nbsp;</span>Тратят ли пользователи с подпиской больше времени на поездки?</a></span></li><li><span><a href=\"#Можно-ли-сказать,-что-среднее-расстояние,-которое-проезжают-пользователи-с-подпиской-за-одну-поездку,-не-превышает-3130-метров?\" data-toc-modified-id=\"Можно-ли-сказать,-что-среднее-расстояние,-которое-проезжают-пользователи-с-подпиской-за-одну-поездку,-не-превышает-3130-метров?-6.2\"><span class=\"toc-item-num\">6.2&nbsp;&nbsp;</span>Можно ли сказать, что среднее расстояние, которое проезжают пользователи с подпиской за одну поездку, не превышает 3130 метров?</a></span></li><li><span><a href=\"#Будет-ли-помесячная-выручка-от-пользователей-с-подпиской-по-месяцам-выше,-чем-выручка-от-пользователей-без-подписки?\" data-toc-modified-id=\"Будет-ли-помесячная-выручка-от-пользователей-с-подпиской-по-месяцам-выше,-чем-выручка-от-пользователей-без-подписки?-6.3\"><span class=\"toc-item-num\">6.3&nbsp;&nbsp;</span>Будет ли помесячная выручка от пользователей с подпиской по месяцам выше, чем выручка от пользователей без подписки?</a></span></li><li><span><a href=\"#Гипотеза-об-обновлении-сервера\" data-toc-modified-id=\"Гипотеза-об-обновлении-сервера-6.4\"><span class=\"toc-item-num\">6.4&nbsp;&nbsp;</span>Гипотеза об обновлении сервера</a></span></li></ul></li><li><span><a href=\"#Шаг-7.-Распределения\" data-toc-modified-id=\"Шаг-7.-Распределения-7\"><span class=\"toc-item-num\">7&nbsp;&nbsp;</span>Шаг 7. Распределения</a></span><ul class=\"toc-item\"><li><span><a href=\"#Акция-с-промокодами\" data-toc-modified-id=\"Акция-с-промокодами-7.1\"><span class=\"toc-item-num\">7.1&nbsp;&nbsp;</span>Акция с промокодами</a></span></li><li><span><a href=\"#Задача-на-PUSH-уведомления\" data-toc-modified-id=\"Задача-на-PUSH-уведомления-7.2\"><span class=\"toc-item-num\">7.2&nbsp;&nbsp;</span>Задача на PUSH-уведомления</a></span></li></ul></li><li><span><a href=\"#Вывод\" data-toc-modified-id=\"Вывод-8\"><span class=\"toc-item-num\">8&nbsp;&nbsp;</span>Вывод</a></span></li></ul></div>"
   ]
  },
  {
   "cell_type": "markdown",
   "id": "67fb04b1",
   "metadata": {},
   "source": [
    "# Анализ сервиса аренды самокатов\n",
    "\n",
    "Представлены данные популярного сервиса аренды самокатов GoFast. Необходимо проанализировать данные и проверить некоторые гипотезы, которые могут помочь бизнесу вырасти.\n",
    "Чтобы совершать поездки по городу, пользователи сервиса GoFast пользуются мобильным приложением. Сервисом можно пользоваться:\n",
    "без подписки\n",
    "- абонентская плата отсутствует;\n",
    "- стоимость одной минуты поездки — 8 рублей;\n",
    "- стоимость старта (начала поездки) —50 рублей;\n",
    "с подпиской Ultra\n",
    "- абонентская плата — 199 рублей в месяц;\n",
    "- стоимость одной минуты поездки — 6 рублей;\n",
    "- стоимость старта — бесплатно.\n",
    "\n",
    "\n",
    "**Описание данных:**\n",
    "\n",
    "Пользователи\n",
    "- user_id\tуникальный идентификатор пользователя\n",
    "- name\tимя пользователя\n",
    "- age\tвозраст\n",
    "- city\tгород\n",
    "- subscription_type\tтип подписки (free, ultra)\n",
    "\n",
    "Поездки \n",
    "- user_id\tуникальный идентификатор пользователя\n",
    "- distance\tрасстояние, которое пользователь проехал в текущей сессии (в метрах)\n",
    "- duration\tпродолжительность сессии (в минутах) — время с того момента, как пользователь нажал кнопку «Начать поездку» до момента, как он нажал кнопку «Завершить поездку»\n",
    "- date\tдата совершения поездки\n",
    "\n",
    "Подписки \n",
    "- subscription_type\tтип подписки\n",
    "- minute_price\tстоимость одной минуты поездки по данной подписке\n",
    "- start_ride_price\tстоимость начала поездки\n",
    "- subscription_fee\tстоимость ежемесячного платежа\n",
    "\n",
    "**Ход работы:**\n",
    "1. Предварительно познакомимся с данными, обработаем таблицу на наличие явных/неявных дубликатов, пропусков и пр., добавим столбцы, необходимые для дальнейшего исследования.\n",
    "2. Проведем исследовательский анализ данных - изучим данные таблицы по столбцам, избавимся от выбросов, подготовим датафрейм к дальнейшим вычислениям.\n",
    "3. Подготовим отдельные таблицы (пользователи по подписке и без).\n",
    "4. Рассчитаем помесячную выручку с каждого пользователя.\n",
    "5. Проверим ряд гипотез на достоверность."
   ]
  },
  {
   "cell_type": "code",
   "execution_count": 1,
   "id": "40884b27",
   "metadata": {},
   "outputs": [],
   "source": [
    "import pandas as pd\n",
    "import matplotlib.pyplot as plt\n",
    "import seaborn as sns\n",
    "from scipy import stats\n",
    "import numpy as np\n",
    "from math import sqrt\n"
   ]
  },
  {
   "cell_type": "markdown",
   "id": "41705e4c",
   "metadata": {},
   "source": [
    "#### Шаг 1. Загрузка данных"
   ]
  },
  {
   "cell_type": "code",
   "execution_count": 2,
   "id": "633ee050",
   "metadata": {
    "scrolled": true
   },
   "outputs": [
    {
     "data": {
      "text/html": [
       "<div>\n",
       "<style scoped>\n",
       "    .dataframe tbody tr th:only-of-type {\n",
       "        vertical-align: middle;\n",
       "    }\n",
       "\n",
       "    .dataframe tbody tr th {\n",
       "        vertical-align: top;\n",
       "    }\n",
       "\n",
       "    .dataframe thead th {\n",
       "        text-align: right;\n",
       "    }\n",
       "</style>\n",
       "<table border=\"1\" class=\"dataframe\">\n",
       "  <thead>\n",
       "    <tr style=\"text-align: right;\">\n",
       "      <th></th>\n",
       "      <th>user_id</th>\n",
       "      <th>name</th>\n",
       "      <th>age</th>\n",
       "      <th>city</th>\n",
       "      <th>subscription_type</th>\n",
       "    </tr>\n",
       "  </thead>\n",
       "  <tbody>\n",
       "    <tr>\n",
       "      <th>0</th>\n",
       "      <td>1</td>\n",
       "      <td>Кира</td>\n",
       "      <td>22</td>\n",
       "      <td>Тюмень</td>\n",
       "      <td>ultra</td>\n",
       "    </tr>\n",
       "    <tr>\n",
       "      <th>1</th>\n",
       "      <td>2</td>\n",
       "      <td>Станислав</td>\n",
       "      <td>31</td>\n",
       "      <td>Омск</td>\n",
       "      <td>ultra</td>\n",
       "    </tr>\n",
       "    <tr>\n",
       "      <th>2</th>\n",
       "      <td>3</td>\n",
       "      <td>Алексей</td>\n",
       "      <td>20</td>\n",
       "      <td>Москва</td>\n",
       "      <td>ultra</td>\n",
       "    </tr>\n",
       "    <tr>\n",
       "      <th>3</th>\n",
       "      <td>4</td>\n",
       "      <td>Константин</td>\n",
       "      <td>26</td>\n",
       "      <td>Ростов-на-Дону</td>\n",
       "      <td>ultra</td>\n",
       "    </tr>\n",
       "    <tr>\n",
       "      <th>4</th>\n",
       "      <td>5</td>\n",
       "      <td>Адель</td>\n",
       "      <td>28</td>\n",
       "      <td>Омск</td>\n",
       "      <td>ultra</td>\n",
       "    </tr>\n",
       "  </tbody>\n",
       "</table>\n",
       "</div>"
      ],
      "text/plain": [
       "   user_id        name  age            city subscription_type\n",
       "0        1        Кира   22          Тюмень             ultra\n",
       "1        2   Станислав   31            Омск             ultra\n",
       "2        3     Алексей   20          Москва             ultra\n",
       "3        4  Константин   26  Ростов-на-Дону             ultra\n",
       "4        5       Адель   28            Омск             ultra"
      ]
     },
     "execution_count": 2,
     "metadata": {},
     "output_type": "execute_result"
    }
   ],
   "source": [
    "users = pd.read_csv('/datasets/users_go.csv')\n",
    "users.head()"
   ]
  },
  {
   "cell_type": "code",
   "execution_count": 3,
   "id": "c00899e2",
   "metadata": {
    "scrolled": true
   },
   "outputs": [
    {
     "name": "stdout",
     "output_type": "stream",
     "text": [
      "<class 'pandas.core.frame.DataFrame'>\n",
      "RangeIndex: 1565 entries, 0 to 1564\n",
      "Data columns (total 5 columns):\n",
      " #   Column             Non-Null Count  Dtype \n",
      "---  ------             --------------  ----- \n",
      " 0   user_id            1565 non-null   int64 \n",
      " 1   name               1565 non-null   object\n",
      " 2   age                1565 non-null   int64 \n",
      " 3   city               1565 non-null   object\n",
      " 4   subscription_type  1565 non-null   object\n",
      "dtypes: int64(2), object(3)\n",
      "memory usage: 61.3+ KB\n"
     ]
    }
   ],
   "source": [
    "users.info()"
   ]
  },
  {
   "cell_type": "code",
   "execution_count": 4,
   "id": "c1bafe7b",
   "metadata": {},
   "outputs": [
    {
     "data": {
      "text/html": [
       "<div>\n",
       "<style scoped>\n",
       "    .dataframe tbody tr th:only-of-type {\n",
       "        vertical-align: middle;\n",
       "    }\n",
       "\n",
       "    .dataframe tbody tr th {\n",
       "        vertical-align: top;\n",
       "    }\n",
       "\n",
       "    .dataframe thead th {\n",
       "        text-align: right;\n",
       "    }\n",
       "</style>\n",
       "<table border=\"1\" class=\"dataframe\">\n",
       "  <thead>\n",
       "    <tr style=\"text-align: right;\">\n",
       "      <th></th>\n",
       "      <th>user_id</th>\n",
       "      <th>age</th>\n",
       "    </tr>\n",
       "  </thead>\n",
       "  <tbody>\n",
       "    <tr>\n",
       "      <th>count</th>\n",
       "      <td>1565.000000</td>\n",
       "      <td>1565.000000</td>\n",
       "    </tr>\n",
       "    <tr>\n",
       "      <th>mean</th>\n",
       "      <td>762.633866</td>\n",
       "      <td>24.922045</td>\n",
       "    </tr>\n",
       "    <tr>\n",
       "      <th>std</th>\n",
       "      <td>443.260155</td>\n",
       "      <td>4.553496</td>\n",
       "    </tr>\n",
       "    <tr>\n",
       "      <th>min</th>\n",
       "      <td>1.000000</td>\n",
       "      <td>12.000000</td>\n",
       "    </tr>\n",
       "    <tr>\n",
       "      <th>25%</th>\n",
       "      <td>378.000000</td>\n",
       "      <td>22.000000</td>\n",
       "    </tr>\n",
       "    <tr>\n",
       "      <th>50%</th>\n",
       "      <td>762.000000</td>\n",
       "      <td>25.000000</td>\n",
       "    </tr>\n",
       "    <tr>\n",
       "      <th>75%</th>\n",
       "      <td>1146.000000</td>\n",
       "      <td>28.000000</td>\n",
       "    </tr>\n",
       "    <tr>\n",
       "      <th>max</th>\n",
       "      <td>1534.000000</td>\n",
       "      <td>43.000000</td>\n",
       "    </tr>\n",
       "  </tbody>\n",
       "</table>\n",
       "</div>"
      ],
      "text/plain": [
       "           user_id          age\n",
       "count  1565.000000  1565.000000\n",
       "mean    762.633866    24.922045\n",
       "std     443.260155     4.553496\n",
       "min       1.000000    12.000000\n",
       "25%     378.000000    22.000000\n",
       "50%     762.000000    25.000000\n",
       "75%    1146.000000    28.000000\n",
       "max    1534.000000    43.000000"
      ]
     },
     "execution_count": 4,
     "metadata": {},
     "output_type": "execute_result"
    }
   ],
   "source": [
    "users.describe()"
   ]
  },
  {
   "cell_type": "code",
   "execution_count": 5,
   "id": "e8d2208c",
   "metadata": {},
   "outputs": [
    {
     "data": {
      "text/html": [
       "<div>\n",
       "<style scoped>\n",
       "    .dataframe tbody tr th:only-of-type {\n",
       "        vertical-align: middle;\n",
       "    }\n",
       "\n",
       "    .dataframe tbody tr th {\n",
       "        vertical-align: top;\n",
       "    }\n",
       "\n",
       "    .dataframe thead th {\n",
       "        text-align: right;\n",
       "    }\n",
       "</style>\n",
       "<table border=\"1\" class=\"dataframe\">\n",
       "  <thead>\n",
       "    <tr style=\"text-align: right;\">\n",
       "      <th></th>\n",
       "      <th>user_id</th>\n",
       "      <th>distance</th>\n",
       "      <th>duration</th>\n",
       "      <th>date</th>\n",
       "    </tr>\n",
       "  </thead>\n",
       "  <tbody>\n",
       "    <tr>\n",
       "      <th>0</th>\n",
       "      <td>1</td>\n",
       "      <td>4409.919140</td>\n",
       "      <td>25.599769</td>\n",
       "      <td>2021-01-01</td>\n",
       "    </tr>\n",
       "    <tr>\n",
       "      <th>1</th>\n",
       "      <td>1</td>\n",
       "      <td>2617.592153</td>\n",
       "      <td>15.816871</td>\n",
       "      <td>2021-01-18</td>\n",
       "    </tr>\n",
       "    <tr>\n",
       "      <th>2</th>\n",
       "      <td>1</td>\n",
       "      <td>754.159807</td>\n",
       "      <td>6.232113</td>\n",
       "      <td>2021-04-20</td>\n",
       "    </tr>\n",
       "    <tr>\n",
       "      <th>3</th>\n",
       "      <td>1</td>\n",
       "      <td>2694.783254</td>\n",
       "      <td>18.511000</td>\n",
       "      <td>2021-08-11</td>\n",
       "    </tr>\n",
       "    <tr>\n",
       "      <th>4</th>\n",
       "      <td>1</td>\n",
       "      <td>4028.687306</td>\n",
       "      <td>26.265803</td>\n",
       "      <td>2021-08-28</td>\n",
       "    </tr>\n",
       "  </tbody>\n",
       "</table>\n",
       "</div>"
      ],
      "text/plain": [
       "   user_id     distance   duration        date\n",
       "0        1  4409.919140  25.599769  2021-01-01\n",
       "1        1  2617.592153  15.816871  2021-01-18\n",
       "2        1   754.159807   6.232113  2021-04-20\n",
       "3        1  2694.783254  18.511000  2021-08-11\n",
       "4        1  4028.687306  26.265803  2021-08-28"
      ]
     },
     "execution_count": 5,
     "metadata": {},
     "output_type": "execute_result"
    }
   ],
   "source": [
    "rides = pd.read_csv('/datasets/rides_go.csv')\n",
    "rides.head()"
   ]
  },
  {
   "cell_type": "code",
   "execution_count": 6,
   "id": "e4afc32e",
   "metadata": {
    "scrolled": true
   },
   "outputs": [
    {
     "name": "stdout",
     "output_type": "stream",
     "text": [
      "<class 'pandas.core.frame.DataFrame'>\n",
      "RangeIndex: 18068 entries, 0 to 18067\n",
      "Data columns (total 4 columns):\n",
      " #   Column    Non-Null Count  Dtype  \n",
      "---  ------    --------------  -----  \n",
      " 0   user_id   18068 non-null  int64  \n",
      " 1   distance  18068 non-null  float64\n",
      " 2   duration  18068 non-null  float64\n",
      " 3   date      18068 non-null  object \n",
      "dtypes: float64(2), int64(1), object(1)\n",
      "memory usage: 564.8+ KB\n"
     ]
    }
   ],
   "source": [
    "rides.info()"
   ]
  },
  {
   "cell_type": "code",
   "execution_count": 7,
   "id": "44d442ad",
   "metadata": {},
   "outputs": [
    {
     "data": {
      "text/html": [
       "<div>\n",
       "<style scoped>\n",
       "    .dataframe tbody tr th:only-of-type {\n",
       "        vertical-align: middle;\n",
       "    }\n",
       "\n",
       "    .dataframe tbody tr th {\n",
       "        vertical-align: top;\n",
       "    }\n",
       "\n",
       "    .dataframe thead th {\n",
       "        text-align: right;\n",
       "    }\n",
       "</style>\n",
       "<table border=\"1\" class=\"dataframe\">\n",
       "  <thead>\n",
       "    <tr style=\"text-align: right;\">\n",
       "      <th></th>\n",
       "      <th>user_id</th>\n",
       "      <th>distance</th>\n",
       "      <th>duration</th>\n",
       "    </tr>\n",
       "  </thead>\n",
       "  <tbody>\n",
       "    <tr>\n",
       "      <th>count</th>\n",
       "      <td>18068.000000</td>\n",
       "      <td>18068.000000</td>\n",
       "      <td>18068.000000</td>\n",
       "    </tr>\n",
       "    <tr>\n",
       "      <th>mean</th>\n",
       "      <td>842.869936</td>\n",
       "      <td>3070.659976</td>\n",
       "      <td>17.805011</td>\n",
       "    </tr>\n",
       "    <tr>\n",
       "      <th>std</th>\n",
       "      <td>434.734317</td>\n",
       "      <td>1116.831209</td>\n",
       "      <td>6.091051</td>\n",
       "    </tr>\n",
       "    <tr>\n",
       "      <th>min</th>\n",
       "      <td>1.000000</td>\n",
       "      <td>0.855683</td>\n",
       "      <td>0.500000</td>\n",
       "    </tr>\n",
       "    <tr>\n",
       "      <th>25%</th>\n",
       "      <td>487.000000</td>\n",
       "      <td>2543.226360</td>\n",
       "      <td>13.597563</td>\n",
       "    </tr>\n",
       "    <tr>\n",
       "      <th>50%</th>\n",
       "      <td>889.000000</td>\n",
       "      <td>3133.609994</td>\n",
       "      <td>17.678395</td>\n",
       "    </tr>\n",
       "    <tr>\n",
       "      <th>75%</th>\n",
       "      <td>1213.250000</td>\n",
       "      <td>3776.222735</td>\n",
       "      <td>21.724800</td>\n",
       "    </tr>\n",
       "    <tr>\n",
       "      <th>max</th>\n",
       "      <td>1534.000000</td>\n",
       "      <td>7211.007745</td>\n",
       "      <td>40.823963</td>\n",
       "    </tr>\n",
       "  </tbody>\n",
       "</table>\n",
       "</div>"
      ],
      "text/plain": [
       "            user_id      distance      duration\n",
       "count  18068.000000  18068.000000  18068.000000\n",
       "mean     842.869936   3070.659976     17.805011\n",
       "std      434.734317   1116.831209      6.091051\n",
       "min        1.000000      0.855683      0.500000\n",
       "25%      487.000000   2543.226360     13.597563\n",
       "50%      889.000000   3133.609994     17.678395\n",
       "75%     1213.250000   3776.222735     21.724800\n",
       "max     1534.000000   7211.007745     40.823963"
      ]
     },
     "execution_count": 7,
     "metadata": {},
     "output_type": "execute_result"
    }
   ],
   "source": [
    "rides.describe()"
   ]
  },
  {
   "cell_type": "code",
   "execution_count": 8,
   "id": "c5eb058d",
   "metadata": {},
   "outputs": [
    {
     "data": {
      "text/html": [
       "<div>\n",
       "<style scoped>\n",
       "    .dataframe tbody tr th:only-of-type {\n",
       "        vertical-align: middle;\n",
       "    }\n",
       "\n",
       "    .dataframe tbody tr th {\n",
       "        vertical-align: top;\n",
       "    }\n",
       "\n",
       "    .dataframe thead th {\n",
       "        text-align: right;\n",
       "    }\n",
       "</style>\n",
       "<table border=\"1\" class=\"dataframe\">\n",
       "  <thead>\n",
       "    <tr style=\"text-align: right;\">\n",
       "      <th></th>\n",
       "      <th>subscription_type</th>\n",
       "      <th>minute_price</th>\n",
       "      <th>start_ride_price</th>\n",
       "      <th>subscription_fee</th>\n",
       "    </tr>\n",
       "  </thead>\n",
       "  <tbody>\n",
       "    <tr>\n",
       "      <th>0</th>\n",
       "      <td>free</td>\n",
       "      <td>8</td>\n",
       "      <td>50</td>\n",
       "      <td>0</td>\n",
       "    </tr>\n",
       "    <tr>\n",
       "      <th>1</th>\n",
       "      <td>ultra</td>\n",
       "      <td>6</td>\n",
       "      <td>0</td>\n",
       "      <td>199</td>\n",
       "    </tr>\n",
       "  </tbody>\n",
       "</table>\n",
       "</div>"
      ],
      "text/plain": [
       "  subscription_type  minute_price  start_ride_price  subscription_fee\n",
       "0              free             8                50                 0\n",
       "1             ultra             6                 0               199"
      ]
     },
     "execution_count": 8,
     "metadata": {},
     "output_type": "execute_result"
    }
   ],
   "source": [
    "subscriptions = pd.read_csv('/datasets/subscriptions_go.csv')\n",
    "subscriptions.head()"
   ]
  },
  {
   "cell_type": "code",
   "execution_count": 9,
   "id": "40d22da7",
   "metadata": {},
   "outputs": [
    {
     "name": "stdout",
     "output_type": "stream",
     "text": [
      "<class 'pandas.core.frame.DataFrame'>\n",
      "RangeIndex: 2 entries, 0 to 1\n",
      "Data columns (total 4 columns):\n",
      " #   Column             Non-Null Count  Dtype \n",
      "---  ------             --------------  ----- \n",
      " 0   subscription_type  2 non-null      object\n",
      " 1   minute_price       2 non-null      int64 \n",
      " 2   start_ride_price   2 non-null      int64 \n",
      " 3   subscription_fee   2 non-null      int64 \n",
      "dtypes: int64(3), object(1)\n",
      "memory usage: 192.0+ bytes\n"
     ]
    }
   ],
   "source": [
    "subscriptions.info()"
   ]
  },
  {
   "cell_type": "markdown",
   "id": "55c4bebf",
   "metadata": {},
   "source": [
    "**По таблице users предварительно нет пропусков, типы данных по столбцам корректные, смущает только минимальный возраст пользователя - 12 лет, т.к. согласно ПДД, лицам в возрасте до 14 лет запрещено кататься на электрическом самокате без сопровождения взрослых.  \n",
    "По таблице rides предварительно нет пропусков, не соответствует тип данных даты, можно скорректировать наименования столбцов, добавив единицы измерения.\n",
    "По таблице subscriptions просто приведены 2 вида подписок, никаких показателей вычислять тут нет необходимости, типы данных, наименования и пр. корректны.**"
   ]
  },
  {
   "cell_type": "markdown",
   "id": "18aada2b",
   "metadata": {},
   "source": [
    "#### Шаг 2. Предобработка данных"
   ]
  },
  {
   "cell_type": "markdown",
   "id": "62037299",
   "metadata": {},
   "source": [
    "Данные в таблицe subscriptions не требуют предварительной обработки, поэтому сразу перейдем к таблицам users и rides."
   ]
  },
  {
   "cell_type": "code",
   "execution_count": 10,
   "id": "78a3e66d",
   "metadata": {},
   "outputs": [
    {
     "data": {
      "text/plain": [
       "31"
      ]
     },
     "execution_count": 10,
     "metadata": {},
     "output_type": "execute_result"
    }
   ],
   "source": [
    "users.duplicated().sum()"
   ]
  },
  {
   "cell_type": "code",
   "execution_count": 11,
   "id": "70a8cc58",
   "metadata": {},
   "outputs": [],
   "source": [
    "users = users.drop_duplicates().reset_index(drop=True)"
   ]
  },
  {
   "cell_type": "code",
   "execution_count": 12,
   "id": "995f3f81",
   "metadata": {
    "scrolled": true
   },
   "outputs": [
    {
     "data": {
      "text/plain": [
       "1       1\n",
       "1020    1\n",
       "1029    1\n",
       "1028    1\n",
       "1027    1\n",
       "       ..\n",
       "510     1\n",
       "509     1\n",
       "508     1\n",
       "507     1\n",
       "1534    1\n",
       "Name: user_id, Length: 1534, dtype: int64"
      ]
     },
     "execution_count": 12,
     "metadata": {},
     "output_type": "execute_result"
    }
   ],
   "source": [
    "users['user_id'].value_counts(ascending=False)"
   ]
  },
  {
   "cell_type": "code",
   "execution_count": 13,
   "id": "141e052f",
   "metadata": {},
   "outputs": [
    {
     "name": "stdout",
     "output_type": "stream",
     "text": [
      "<class 'pandas.core.frame.DataFrame'>\n",
      "RangeIndex: 1534 entries, 0 to 1533\n",
      "Data columns (total 5 columns):\n",
      " #   Column             Non-Null Count  Dtype \n",
      "---  ------             --------------  ----- \n",
      " 0   user_id            1534 non-null   int64 \n",
      " 1   name               1534 non-null   object\n",
      " 2   age                1534 non-null   int64 \n",
      " 3   city               1534 non-null   object\n",
      " 4   subscription_type  1534 non-null   object\n",
      "dtypes: int64(2), object(3)\n",
      "memory usage: 60.0+ KB\n"
     ]
    }
   ],
   "source": [
    "users.info()"
   ]
  },
  {
   "cell_type": "code",
   "execution_count": 14,
   "id": "954638f6",
   "metadata": {},
   "outputs": [
    {
     "name": "stdout",
     "output_type": "stream",
     "text": [
      "Поездки представлены за период с 2021-01-01 по 2021-12-30\n"
     ]
    }
   ],
   "source": [
    "print('Поездки представлены за период с', rides['date'].min(), 'по', rides['date'].max())"
   ]
  },
  {
   "cell_type": "code",
   "execution_count": 15,
   "id": "81b2192d",
   "metadata": {},
   "outputs": [],
   "source": [
    "rides['date'] = pd.to_datetime(rides['date'], format='%Y-%m-%d')"
   ]
  },
  {
   "cell_type": "code",
   "execution_count": 16,
   "id": "ff0f129e",
   "metadata": {},
   "outputs": [],
   "source": [
    "rides['month'] = pd.DatetimeIndex(rides['date']).month"
   ]
  },
  {
   "cell_type": "code",
   "execution_count": 17,
   "id": "7bc5d0c2",
   "metadata": {},
   "outputs": [],
   "source": [
    "rides = rides.rename(columns={'distance': 'distance_m', 'duration': 'duration_min'})"
   ]
  },
  {
   "cell_type": "code",
   "execution_count": 18,
   "id": "9b25c4d5",
   "metadata": {},
   "outputs": [
    {
     "name": "stdout",
     "output_type": "stream",
     "text": [
      "<class 'pandas.core.frame.DataFrame'>\n",
      "RangeIndex: 18068 entries, 0 to 18067\n",
      "Data columns (total 5 columns):\n",
      " #   Column        Non-Null Count  Dtype         \n",
      "---  ------        --------------  -----         \n",
      " 0   user_id       18068 non-null  int64         \n",
      " 1   distance_m    18068 non-null  float64       \n",
      " 2   duration_min  18068 non-null  float64       \n",
      " 3   date          18068 non-null  datetime64[ns]\n",
      " 4   month         18068 non-null  int64         \n",
      "dtypes: datetime64[ns](1), float64(2), int64(2)\n",
      "memory usage: 705.9 KB\n"
     ]
    }
   ],
   "source": [
    "rides.info()"
   ]
  },
  {
   "cell_type": "code",
   "execution_count": 19,
   "id": "a234b924",
   "metadata": {},
   "outputs": [
    {
     "data": {
      "text/plain": [
       "0"
      ]
     },
     "execution_count": 19,
     "metadata": {},
     "output_type": "execute_result"
    }
   ],
   "source": [
    "rides.duplicated().sum()"
   ]
  },
  {
   "cell_type": "markdown",
   "id": "bb0ef582",
   "metadata": {},
   "source": [
    "**Убрали дубликаты в таблицe users, проверили, что у каждого user_id только одно значение. В таблице rides привели данные к нужному типу данных, переименовали столбцы, проверили дубликаты. Пропущенных значений нигде нет.**"
   ]
  },
  {
   "cell_type": "markdown",
   "id": "4477d68f",
   "metadata": {},
   "source": [
    "#### Шаг 3. Исследовательский анализ данных"
   ]
  },
  {
   "cell_type": "markdown",
   "id": "52133723",
   "metadata": {},
   "source": [
    "##### Частота встречаемости городов\n"
   ]
  },
  {
   "cell_type": "code",
   "execution_count": 20,
   "id": "12638254",
   "metadata": {},
   "outputs": [
    {
     "data": {
      "text/plain": [
       "Пятигорск         219\n",
       "Екатеринбург      204\n",
       "Ростов-на-Дону    198\n",
       "Краснодар         193\n",
       "Сочи              189\n",
       "Омск              183\n",
       "Тюмень            180\n",
       "Москва            168\n",
       "Name: city, dtype: int64"
      ]
     },
     "execution_count": 20,
     "metadata": {},
     "output_type": "execute_result"
    }
   ],
   "source": [
    "users['city'].value_counts()"
   ]
  },
  {
   "cell_type": "code",
   "execution_count": 21,
   "id": "f8ff1a10",
   "metadata": {},
   "outputs": [
    {
     "data": {
      "text/plain": [
       "Text(0, 0.5, 'Город')"
      ]
     },
     "execution_count": 21,
     "metadata": {},
     "output_type": "execute_result"
    },
    {
     "data": {
      "image/png": "[encoded data removed]",
      "text/plain": [
       "<Figure size 432x288 with 1 Axes>"
      ]
     },
     "metadata": {
      "needs_background": "light"
     },
     "output_type": "display_data"
    }
   ],
   "source": [
    "users['city'].value_counts().plot.barh()\n",
    "plt.title('Частота встречаемости городов', fontweight='bold')\n",
    "plt.xlabel('Частота', labelpad=10)\n",
    "plt.ylabel('Город')"
   ]
  },
  {
   "cell_type": "code",
   "execution_count": 22,
   "id": "ca3b1584",
   "metadata": {
    "scrolled": false
   },
   "outputs": [
    {
     "data": {
      "text/plain": [
       "count          1534\n",
       "unique            8\n",
       "top       Пятигорск\n",
       "freq            219\n",
       "Name: city, dtype: object"
      ]
     },
     "execution_count": 22,
     "metadata": {},
     "output_type": "execute_result"
    }
   ],
   "source": [
    "users['city'].describe()"
   ]
  },
  {
   "cell_type": "markdown",
   "id": "ca86d8d8",
   "metadata": {},
   "source": [
    "**Данные представлены по 8 городам. Наибольшее количество поездок представлено в Пятигорске, наименьшее - в Москве.**"
   ]
  },
  {
   "cell_type": "markdown",
   "id": "48223923",
   "metadata": {},
   "source": [
    "##### Соотношение пользователей с подпиской и без подписки\n"
   ]
  },
  {
   "cell_type": "code",
   "execution_count": 23,
   "id": "86a3b1bf",
   "metadata": {
    "scrolled": true
   },
   "outputs": [
    {
     "data": {
      "text/plain": [
       "free     0.544329\n",
       "ultra    0.455671\n",
       "Name: subscription_type, dtype: float64"
      ]
     },
     "execution_count": 23,
     "metadata": {},
     "output_type": "execute_result"
    }
   ],
   "source": [
    "users['subscription_type'].value_counts(normalize=True)"
   ]
  },
  {
   "cell_type": "code",
   "execution_count": 24,
   "id": "cbf2d285",
   "metadata": {
    "scrolled": true
   },
   "outputs": [
    {
     "data": {
      "text/plain": [
       "Text(0.5, 1.0, 'Соотношение пользователей с подпиской и без')"
      ]
     },
     "execution_count": 24,
     "metadata": {},
     "output_type": "execute_result"
    },
    {
     "data": {
      "image/png": "[encoded data removed]",
      "text/plain": [
       "<Figure size 432x288 with 1 Axes>"
      ]
     },
     "metadata": {},
     "output_type": "display_data"
    }
   ],
   "source": [
    "explode = (0.05, 0.05)\n",
    "users['subscription_type'].value_counts().plot.pie(autopct='%1.1f%%', explode=explode, shadow=True)\n",
    "plt.title('Соотношение пользователей с подпиской и без', fontweight='bold')"
   ]
  },
  {
   "cell_type": "markdown",
   "id": "77a59e10",
   "metadata": {},
   "source": [
    "**Почти 55% пользователей берут самокаты без подписки, 45% используют подписку.**"
   ]
  },
  {
   "cell_type": "markdown",
   "id": "77b43f88",
   "metadata": {},
   "source": [
    "##### Возраст пользователей\n"
   ]
  },
  {
   "cell_type": "code",
   "execution_count": 25,
   "id": "291a4cb1",
   "metadata": {},
   "outputs": [],
   "source": [
    "def age_category(row):\n",
    "    age = row['age']\n",
    "    if age < 18:\n",
    "        return 'До 18 лет'\n",
    "    if 18 <= age <= 25:\n",
    "        return '18-25 лет'\n",
    "    if 26 <= age <= 35:\n",
    "        return '26-35 лет'\n",
    "    if age >= 36:\n",
    "        return 'Больше 36 лет' \n"
   ]
  },
  {
   "cell_type": "code",
   "execution_count": 26,
   "id": "48b73554",
   "metadata": {},
   "outputs": [],
   "source": [
    "users['age_category'] = users.apply(age_category, axis=1)\n"
   ]
  },
  {
   "cell_type": "code",
   "execution_count": 27,
   "id": "9891269f",
   "metadata": {
    "scrolled": false
   },
   "outputs": [
    {
     "data": {
      "text/plain": [
       "age_category\n",
       "18-25 лет        782\n",
       "26-35 лет        660\n",
       "До 18 лет         79\n",
       "Больше 36 лет     13\n",
       "Name: age, dtype: int64"
      ]
     },
     "execution_count": 27,
     "metadata": {},
     "output_type": "execute_result"
    }
   ],
   "source": [
    "users.groupby('age_category')['age'].count().sort_values(ascending=False)"
   ]
  },
  {
   "cell_type": "code",
   "execution_count": 28,
   "id": "07a5aa9c",
   "metadata": {},
   "outputs": [
    {
     "data": {
      "text/plain": [
       "Text(0, 0.5, 'Кол-во')"
      ]
     },
     "execution_count": 28,
     "metadata": {},
     "output_type": "execute_result"
    },
    {
     "data": {
      "image/png": "[encoded data removed]",
      "text/plain": [
       "<Figure size 432x288 with 1 Axes>"
      ]
     },
     "metadata": {
      "needs_background": "light"
     },
     "output_type": "display_data"
    }
   ],
   "source": [
    "users['age_category'].value_counts().plot.bar()\n",
    "plt.title('Распределение пользователей\\n по возрастным категориям', fontweight='bold')\n",
    "plt.xlabel('Категория')\n",
    "plt.ylabel('Кол-во')"
   ]
  },
  {
   "cell_type": "code",
   "execution_count": 29,
   "id": "fba524d1",
   "metadata": {
    "scrolled": true
   },
   "outputs": [
    {
     "data": {
      "text/plain": [
       "Text(0.5, 0, 'Возраст, лет')"
      ]
     },
     "execution_count": 29,
     "metadata": {},
     "output_type": "execute_result"
    },
    {
     "data": {
      "image/png": "[encoded data removed]",
      "text/plain": [
       "<Figure size 432x288 with 1 Axes>"
      ]
     },
     "metadata": {
      "needs_background": "light"
     },
     "output_type": "display_data"
    }
   ],
   "source": [
    "users['age'].hist(bins=20, range=(10, 50))\n",
    "plt.title('Возраст пользователей', fontweight='bold')\n",
    "plt.ylabel('Кол-во')\n",
    "plt.xlabel('Возраст, лет')\n"
   ]
  },
  {
   "cell_type": "code",
   "execution_count": 30,
   "id": "ad92ddf4",
   "metadata": {},
   "outputs": [
    {
     "data": {
      "text/plain": [
       "24.903520208604956"
      ]
     },
     "execution_count": 30,
     "metadata": {},
     "output_type": "execute_result"
    }
   ],
   "source": [
    "users['age'].mean()"
   ]
  },
  {
   "cell_type": "code",
   "execution_count": 31,
   "id": "be9b434d",
   "metadata": {
    "scrolled": true
   },
   "outputs": [
    {
     "data": {
      "text/plain": [
       "25.0"
      ]
     },
     "execution_count": 31,
     "metadata": {},
     "output_type": "execute_result"
    }
   ],
   "source": [
    "users['age'].median()"
   ]
  },
  {
   "cell_type": "markdown",
   "id": "e984c96b",
   "metadata": {},
   "source": [
    "**Средний возраст пользователей - 25 лет. Медиана и и среднее практически сопадают. Мы также разбили данные на возрастные категории, наибольший спрос на самокаты в категории от 18 до 25 лет. Люди от 36 лет в гораздо меньшей степени пользуются электросамокатами.**"
   ]
  },
  {
   "cell_type": "markdown",
   "id": "a96b5118",
   "metadata": {},
   "source": [
    "##### Расстояние, которое пользователь преодолел за одну поездку\n"
   ]
  },
  {
   "cell_type": "code",
   "execution_count": 32,
   "id": "001c8d3c",
   "metadata": {},
   "outputs": [
    {
     "data": {
      "text/plain": [
       "count    18068.000000\n",
       "mean      3070.659976\n",
       "std       1116.831209\n",
       "min          0.855683\n",
       "25%       2543.226360\n",
       "50%       3133.609994\n",
       "75%       3776.222735\n",
       "max       7211.007745\n",
       "Name: distance_m, dtype: float64"
      ]
     },
     "execution_count": 32,
     "metadata": {},
     "output_type": "execute_result"
    }
   ],
   "source": [
    "rides['distance_m'].describe()"
   ]
  },
  {
   "cell_type": "code",
   "execution_count": 33,
   "id": "72791d62",
   "metadata": {},
   "outputs": [
    {
     "data": {
      "text/plain": [
       "Text(0, 0.5, 'Кол-во')"
      ]
     },
     "execution_count": 33,
     "metadata": {},
     "output_type": "execute_result"
    },
    {
     "data": {
      "image/png": "[encoded data removed]",
      "text/plain": [
       "<Figure size 432x288 with 1 Axes>"
      ]
     },
     "metadata": {
      "needs_background": "light"
     },
     "output_type": "display_data"
    }
   ],
   "source": [
    "rides['distance_m'].hist(bins=20)\n",
    "plt.title('Расстояния за одну поездку', fontweight='bold')\n",
    "plt.xlabel('Расстояние, м')\n",
    "plt.ylabel('Кол-во')"
   ]
  },
  {
   "cell_type": "code",
   "execution_count": 34,
   "id": "d90bdb92",
   "metadata": {},
   "outputs": [
    {
     "data": {
      "text/plain": [
       "Text(0.5, 1.0, 'Диаграма размаха значений расстояний поездок, м')"
      ]
     },
     "execution_count": 34,
     "metadata": {},
     "output_type": "execute_result"
    },
    {
     "data": {
      "image/png": "[encoded data removed]",
      "text/plain": [
       "<Figure size 432x288 with 1 Axes>"
      ]
     },
     "metadata": {
      "needs_background": "light"
     },
     "output_type": "display_data"
    }
   ],
   "source": [
    "sns.boxplot(x=rides['distance_m'])\n",
    "plt.title('Диаграма размаха значений расстояний поездок, м',fontweight='bold')"
   ]
  },
  {
   "cell_type": "code",
   "execution_count": 35,
   "id": "5d49e69c",
   "metadata": {},
   "outputs": [
    {
     "data": {
      "text/plain": [
       "1232.9963753558854"
      ]
     },
     "execution_count": 35,
     "metadata": {},
     "output_type": "execute_result"
    }
   ],
   "source": [
    "iqr_value = stats.iqr(rides['distance_m'])\n",
    "iqr_value"
   ]
  },
  {
   "cell_type": "code",
   "execution_count": 36,
   "id": "ff2384fb",
   "metadata": {},
   "outputs": [
    {
     "data": {
      "text/plain": [
       "3776.2227353267394"
      ]
     },
     "execution_count": 36,
     "metadata": {},
     "output_type": "execute_result"
    }
   ],
   "source": [
    "p75 = np.percentile(rides['distance_m'], 75)\n",
    "p75"
   ]
  },
  {
   "cell_type": "code",
   "execution_count": 37,
   "id": "a212e3b4",
   "metadata": {},
   "outputs": [
    {
     "data": {
      "text/plain": [
       "2543.226359970854"
      ]
     },
     "execution_count": 37,
     "metadata": {},
     "output_type": "execute_result"
    }
   ],
   "source": [
    "p25 = np.percentile(rides['distance_m'], 25)\n",
    "p25"
   ]
  },
  {
   "cell_type": "code",
   "execution_count": 38,
   "id": "4c75bedd",
   "metadata": {
    "scrolled": false
   },
   "outputs": [
    {
     "data": {
      "text/html": [
       "<div>\n",
       "<style scoped>\n",
       "    .dataframe tbody tr th:only-of-type {\n",
       "        vertical-align: middle;\n",
       "    }\n",
       "\n",
       "    .dataframe tbody tr th {\n",
       "        vertical-align: top;\n",
       "    }\n",
       "\n",
       "    .dataframe thead th {\n",
       "        text-align: right;\n",
       "    }\n",
       "</style>\n",
       "<table border=\"1\" class=\"dataframe\">\n",
       "  <thead>\n",
       "    <tr style=\"text-align: right;\">\n",
       "      <th></th>\n",
       "      <th>user_id</th>\n",
       "      <th>distance_m</th>\n",
       "      <th>duration_min</th>\n",
       "      <th>date</th>\n",
       "      <th>month</th>\n",
       "    </tr>\n",
       "  </thead>\n",
       "  <tbody>\n",
       "    <tr>\n",
       "      <th>100</th>\n",
       "      <td>10</td>\n",
       "      <td>680.952663</td>\n",
       "      <td>5.150377</td>\n",
       "      <td>2021-02-21</td>\n",
       "      <td>2</td>\n",
       "    </tr>\n",
       "    <tr>\n",
       "      <th>149</th>\n",
       "      <td>15</td>\n",
       "      <td>634.891669</td>\n",
       "      <td>15.809350</td>\n",
       "      <td>2021-04-05</td>\n",
       "      <td>4</td>\n",
       "    </tr>\n",
       "    <tr>\n",
       "      <th>153</th>\n",
       "      <td>15</td>\n",
       "      <td>671.851433</td>\n",
       "      <td>12.031109</td>\n",
       "      <td>2021-11-15</td>\n",
       "      <td>11</td>\n",
       "    </tr>\n",
       "    <tr>\n",
       "      <th>197</th>\n",
       "      <td>21</td>\n",
       "      <td>518.341543</td>\n",
       "      <td>10.151870</td>\n",
       "      <td>2021-02-03</td>\n",
       "      <td>2</td>\n",
       "    </tr>\n",
       "    <tr>\n",
       "      <th>204</th>\n",
       "      <td>21</td>\n",
       "      <td>517.912395</td>\n",
       "      <td>14.219625</td>\n",
       "      <td>2021-10-01</td>\n",
       "      <td>10</td>\n",
       "    </tr>\n",
       "    <tr>\n",
       "      <th>...</th>\n",
       "      <td>...</td>\n",
       "      <td>...</td>\n",
       "      <td>...</td>\n",
       "      <td>...</td>\n",
       "      <td>...</td>\n",
       "    </tr>\n",
       "    <tr>\n",
       "      <th>18018</th>\n",
       "      <td>1531</td>\n",
       "      <td>375.107762</td>\n",
       "      <td>5.406654</td>\n",
       "      <td>2021-06-27</td>\n",
       "      <td>6</td>\n",
       "    </tr>\n",
       "    <tr>\n",
       "      <th>18031</th>\n",
       "      <td>1532</td>\n",
       "      <td>303.787850</td>\n",
       "      <td>7.792490</td>\n",
       "      <td>2021-05-21</td>\n",
       "      <td>5</td>\n",
       "    </tr>\n",
       "    <tr>\n",
       "      <th>18037</th>\n",
       "      <td>1532</td>\n",
       "      <td>662.468186</td>\n",
       "      <td>9.528773</td>\n",
       "      <td>2021-11-18</td>\n",
       "      <td>11</td>\n",
       "    </tr>\n",
       "    <tr>\n",
       "      <th>18043</th>\n",
       "      <td>1533</td>\n",
       "      <td>310.488247</td>\n",
       "      <td>10.642389</td>\n",
       "      <td>2021-02-21</td>\n",
       "      <td>2</td>\n",
       "    </tr>\n",
       "    <tr>\n",
       "      <th>18058</th>\n",
       "      <td>1534</td>\n",
       "      <td>195.447469</td>\n",
       "      <td>6.469074</td>\n",
       "      <td>2021-06-11</td>\n",
       "      <td>6</td>\n",
       "    </tr>\n",
       "  </tbody>\n",
       "</table>\n",
       "<p>1036 rows × 5 columns</p>\n",
       "</div>"
      ],
      "text/plain": [
       "       user_id  distance_m  duration_min       date  month\n",
       "100         10  680.952663      5.150377 2021-02-21      2\n",
       "149         15  634.891669     15.809350 2021-04-05      4\n",
       "153         15  671.851433     12.031109 2021-11-15     11\n",
       "197         21  518.341543     10.151870 2021-02-03      2\n",
       "204         21  517.912395     14.219625 2021-10-01     10\n",
       "...        ...         ...           ...        ...    ...\n",
       "18018     1531  375.107762      5.406654 2021-06-27      6\n",
       "18031     1532  303.787850      7.792490 2021-05-21      5\n",
       "18037     1532  662.468186      9.528773 2021-11-18     11\n",
       "18043     1533  310.488247     10.642389 2021-02-21      2\n",
       "18058     1534  195.447469      6.469074 2021-06-11      6\n",
       "\n",
       "[1036 rows x 5 columns]"
      ]
     },
     "execution_count": 38,
     "metadata": {},
     "output_type": "execute_result"
    }
   ],
   "source": [
    "rides_extra = rides.loc[(rides['distance_m'] > 1.5 * iqr_value + p75) | (rides['distance_m'] < p25 - iqr_value*1.5)]\n",
    "rides_extra"
   ]
  },
  {
   "cell_type": "code",
   "execution_count": 39,
   "id": "49d653f4",
   "metadata": {},
   "outputs": [],
   "source": [
    "new_rides = rides.loc[(rides['distance_m'] < 1.5 * iqr_value + p75) & (rides['distance_m'] > p25 - iqr_value*1.5)]"
   ]
  },
  {
   "cell_type": "code",
   "execution_count": 40,
   "id": "6612fbf4",
   "metadata": {},
   "outputs": [
    {
     "name": "stdout",
     "output_type": "stream",
     "text": [
      "<class 'pandas.core.frame.DataFrame'>\n",
      "Int64Index: 17032 entries, 0 to 18067\n",
      "Data columns (total 5 columns):\n",
      " #   Column        Non-Null Count  Dtype         \n",
      "---  ------        --------------  -----         \n",
      " 0   user_id       17032 non-null  int64         \n",
      " 1   distance_m    17032 non-null  float64       \n",
      " 2   duration_min  17032 non-null  float64       \n",
      " 3   date          17032 non-null  datetime64[ns]\n",
      " 4   month         17032 non-null  int64         \n",
      "dtypes: datetime64[ns](1), float64(2), int64(2)\n",
      "memory usage: 798.4 KB\n"
     ]
    }
   ],
   "source": [
    "new_rides.info()"
   ]
  },
  {
   "cell_type": "code",
   "execution_count": 41,
   "id": "f318d08a",
   "metadata": {
    "scrolled": true
   },
   "outputs": [
    {
     "data": {
      "text/plain": [
       "count    17032.000000\n",
       "mean      3191.828731\n",
       "std        928.872994\n",
       "min        693.961245\n",
       "25%       2643.794329\n",
       "50%       3173.942690\n",
       "75%       3806.190184\n",
       "max       5623.316154\n",
       "Name: distance_m, dtype: float64"
      ]
     },
     "execution_count": 41,
     "metadata": {},
     "output_type": "execute_result"
    }
   ],
   "source": [
    "new_rides['distance_m'].describe()"
   ]
  },
  {
   "cell_type": "markdown",
   "id": "2905080a",
   "metadata": {},
   "source": [
    "**Поскольку среднее и медиана не очент сильно отличаются друг от друга, а выбросы составляют 5% от общих данных, решила оставить их и далее продолжить работать с исходной таблицей rides.**"
   ]
  },
  {
   "cell_type": "markdown",
   "id": "e2e451f6",
   "metadata": {},
   "source": [
    "##### Продолжительность поездок"
   ]
  },
  {
   "cell_type": "code",
   "execution_count": 42,
   "id": "8ba80fdf",
   "metadata": {
    "scrolled": false
   },
   "outputs": [
    {
     "data": {
      "text/plain": [
       "Text(0, 0.5, 'Количество')"
      ]
     },
     "execution_count": 42,
     "metadata": {},
     "output_type": "execute_result"
    },
    {
     "data": {
      "image/png": "[encoded data removed]",
      "text/plain": [
       "<Figure size 432x288 with 1 Axes>"
      ]
     },
     "metadata": {
      "needs_background": "light"
     },
     "output_type": "display_data"
    }
   ],
   "source": [
    "rides['duration_min'].hist(bins=30)\n",
    "plt.title('Длительность поездок', fontweight='bold')\n",
    "plt.xlabel('Длительность, мин')\n",
    "plt.ylabel('Количество')"
   ]
  },
  {
   "cell_type": "code",
   "execution_count": 43,
   "id": "49be27ff",
   "metadata": {},
   "outputs": [
    {
     "data": {
      "text/plain": [
       "count    18068.000000\n",
       "mean        17.805011\n",
       "std          6.091051\n",
       "min          0.500000\n",
       "25%         13.597563\n",
       "50%         17.678395\n",
       "75%         21.724800\n",
       "max         40.823963\n",
       "Name: duration_min, dtype: float64"
      ]
     },
     "execution_count": 43,
     "metadata": {},
     "output_type": "execute_result"
    }
   ],
   "source": [
    "rides['duration_min'].describe()"
   ]
  },
  {
   "cell_type": "code",
   "execution_count": 44,
   "id": "23c847ed",
   "metadata": {
    "scrolled": true
   },
   "outputs": [
    {
     "data": {
      "text/plain": [
       "Text(0.5, 1.0, 'Диаграма размаха значений\\n длительности поездок, мин')"
      ]
     },
     "execution_count": 44,
     "metadata": {},
     "output_type": "execute_result"
    },
    {
     "data": {
      "image/png": "[encoded data removed]",
      "text/plain": [
       "<Figure size 432x288 with 1 Axes>"
      ]
     },
     "metadata": {
      "needs_background": "light"
     },
     "output_type": "display_data"
    }
   ],
   "source": [
    "sns.boxplot(x=rides['duration_min'])\n",
    "plt.title('Диаграма размаха значений\\n длительности поездок, мин',fontweight='bold')"
   ]
  },
  {
   "cell_type": "code",
   "execution_count": 45,
   "id": "9f9ef445",
   "metadata": {
    "scrolled": true
   },
   "outputs": [
    {
     "data": {
      "text/html": [
       "<div>\n",
       "<style scoped>\n",
       "    .dataframe tbody tr th:only-of-type {\n",
       "        vertical-align: middle;\n",
       "    }\n",
       "\n",
       "    .dataframe tbody tr th {\n",
       "        vertical-align: top;\n",
       "    }\n",
       "\n",
       "    .dataframe thead th {\n",
       "        text-align: right;\n",
       "    }\n",
       "</style>\n",
       "<table border=\"1\" class=\"dataframe\">\n",
       "  <thead>\n",
       "    <tr style=\"text-align: right;\">\n",
       "      <th></th>\n",
       "      <th>user_id</th>\n",
       "      <th>distance_m</th>\n",
       "      <th>duration_min</th>\n",
       "      <th>date</th>\n",
       "      <th>month</th>\n",
       "    </tr>\n",
       "  </thead>\n",
       "  <tbody>\n",
       "    <tr>\n",
       "      <th>6531</th>\n",
       "      <td>701</td>\n",
       "      <td>4196.445201</td>\n",
       "      <td>0.5</td>\n",
       "      <td>2021-08-31</td>\n",
       "      <td>8</td>\n",
       "    </tr>\n",
       "    <tr>\n",
       "      <th>14615</th>\n",
       "      <td>1287</td>\n",
       "      <td>5944.789947</td>\n",
       "      <td>0.5</td>\n",
       "      <td>2021-12-09</td>\n",
       "      <td>12</td>\n",
       "    </tr>\n",
       "    <tr>\n",
       "      <th>14574</th>\n",
       "      <td>1285</td>\n",
       "      <td>6316.574814</td>\n",
       "      <td>0.5</td>\n",
       "      <td>2021-09-25</td>\n",
       "      <td>9</td>\n",
       "    </tr>\n",
       "    <tr>\n",
       "      <th>14417</th>\n",
       "      <td>1273</td>\n",
       "      <td>4178.876258</td>\n",
       "      <td>0.5</td>\n",
       "      <td>2021-04-30</td>\n",
       "      <td>4</td>\n",
       "    </tr>\n",
       "    <tr>\n",
       "      <th>14342</th>\n",
       "      <td>1268</td>\n",
       "      <td>4177.139336</td>\n",
       "      <td>0.5</td>\n",
       "      <td>2021-06-09</td>\n",
       "      <td>6</td>\n",
       "    </tr>\n",
       "    <tr>\n",
       "      <th>...</th>\n",
       "      <td>...</td>\n",
       "      <td>...</td>\n",
       "      <td>...</td>\n",
       "      <td>...</td>\n",
       "      <td>...</td>\n",
       "    </tr>\n",
       "    <tr>\n",
       "      <th>9581</th>\n",
       "      <td>928</td>\n",
       "      <td>4857.412920</td>\n",
       "      <td>0.5</td>\n",
       "      <td>2021-06-06</td>\n",
       "      <td>6</td>\n",
       "    </tr>\n",
       "    <tr>\n",
       "      <th>9497</th>\n",
       "      <td>922</td>\n",
       "      <td>4620.899239</td>\n",
       "      <td>0.5</td>\n",
       "      <td>2021-01-05</td>\n",
       "      <td>1</td>\n",
       "    </tr>\n",
       "    <tr>\n",
       "      <th>9282</th>\n",
       "      <td>907</td>\n",
       "      <td>4520.123807</td>\n",
       "      <td>0.5</td>\n",
       "      <td>2021-04-24</td>\n",
       "      <td>4</td>\n",
       "    </tr>\n",
       "    <tr>\n",
       "      <th>10426</th>\n",
       "      <td>987</td>\n",
       "      <td>5375.139265</td>\n",
       "      <td>0.5</td>\n",
       "      <td>2021-03-16</td>\n",
       "      <td>3</td>\n",
       "    </tr>\n",
       "    <tr>\n",
       "      <th>17909</th>\n",
       "      <td>1524</td>\n",
       "      <td>4103.998874</td>\n",
       "      <td>0.5</td>\n",
       "      <td>2021-06-18</td>\n",
       "      <td>6</td>\n",
       "    </tr>\n",
       "  </tbody>\n",
       "</table>\n",
       "<p>95 rows × 5 columns</p>\n",
       "</div>"
      ],
      "text/plain": [
       "       user_id   distance_m  duration_min       date  month\n",
       "6531       701  4196.445201           0.5 2021-08-31      8\n",
       "14615     1287  5944.789947           0.5 2021-12-09     12\n",
       "14574     1285  6316.574814           0.5 2021-09-25      9\n",
       "14417     1273  4178.876258           0.5 2021-04-30      4\n",
       "14342     1268  4177.139336           0.5 2021-06-09      6\n",
       "...        ...          ...           ...        ...    ...\n",
       "9581       928  4857.412920           0.5 2021-06-06      6\n",
       "9497       922  4620.899239           0.5 2021-01-05      1\n",
       "9282       907  4520.123807           0.5 2021-04-24      4\n",
       "10426      987  5375.139265           0.5 2021-03-16      3\n",
       "17909     1524  4103.998874           0.5 2021-06-18      6\n",
       "\n",
       "[95 rows x 5 columns]"
      ]
     },
     "execution_count": 45,
     "metadata": {},
     "output_type": "execute_result"
    }
   ],
   "source": [
    "rides_min_duration = rides.loc[rides['duration_min'] < (np.percentile(rides['duration_min'], 25) - stats.iqr(rides['duration_min'])*1.5)]\n",
    "rides_min_duration.sort_values('duration_min')"
   ]
  },
  {
   "cell_type": "code",
   "execution_count": 46,
   "id": "c968e867",
   "metadata": {
    "scrolled": true
   },
   "outputs": [
    {
     "data": {
      "text/html": [
       "<div>\n",
       "<style scoped>\n",
       "    .dataframe tbody tr th:only-of-type {\n",
       "        vertical-align: middle;\n",
       "    }\n",
       "\n",
       "    .dataframe tbody tr th {\n",
       "        vertical-align: top;\n",
       "    }\n",
       "\n",
       "    .dataframe thead th {\n",
       "        text-align: right;\n",
       "    }\n",
       "</style>\n",
       "<table border=\"1\" class=\"dataframe\">\n",
       "  <thead>\n",
       "    <tr style=\"text-align: right;\">\n",
       "      <th></th>\n",
       "      <th>user_id</th>\n",
       "      <th>distance_m</th>\n",
       "      <th>duration_min</th>\n",
       "      <th>month</th>\n",
       "    </tr>\n",
       "  </thead>\n",
       "  <tbody>\n",
       "    <tr>\n",
       "      <th>count</th>\n",
       "      <td>95.000000</td>\n",
       "      <td>95.000000</td>\n",
       "      <td>95.0</td>\n",
       "      <td>95.000000</td>\n",
       "    </tr>\n",
       "    <tr>\n",
       "      <th>mean</th>\n",
       "      <td>1092.210526</td>\n",
       "      <td>5113.176549</td>\n",
       "      <td>0.5</td>\n",
       "      <td>6.484211</td>\n",
       "    </tr>\n",
       "    <tr>\n",
       "      <th>std</th>\n",
       "      <td>244.028551</td>\n",
       "      <td>658.254104</td>\n",
       "      <td>0.0</td>\n",
       "      <td>3.709858</td>\n",
       "    </tr>\n",
       "    <tr>\n",
       "      <th>min</th>\n",
       "      <td>701.000000</td>\n",
       "      <td>4030.308008</td>\n",
       "      <td>0.5</td>\n",
       "      <td>1.000000</td>\n",
       "    </tr>\n",
       "    <tr>\n",
       "      <th>25%</th>\n",
       "      <td>901.000000</td>\n",
       "      <td>4611.510820</td>\n",
       "      <td>0.5</td>\n",
       "      <td>3.000000</td>\n",
       "    </tr>\n",
       "    <tr>\n",
       "      <th>50%</th>\n",
       "      <td>1069.000000</td>\n",
       "      <td>5052.769411</td>\n",
       "      <td>0.5</td>\n",
       "      <td>6.000000</td>\n",
       "    </tr>\n",
       "    <tr>\n",
       "      <th>75%</th>\n",
       "      <td>1310.500000</td>\n",
       "      <td>5488.459099</td>\n",
       "      <td>0.5</td>\n",
       "      <td>10.000000</td>\n",
       "    </tr>\n",
       "    <tr>\n",
       "      <th>max</th>\n",
       "      <td>1524.000000</td>\n",
       "      <td>7211.007745</td>\n",
       "      <td>0.5</td>\n",
       "      <td>12.000000</td>\n",
       "    </tr>\n",
       "  </tbody>\n",
       "</table>\n",
       "</div>"
      ],
      "text/plain": [
       "           user_id   distance_m  duration_min      month\n",
       "count    95.000000    95.000000          95.0  95.000000\n",
       "mean   1092.210526  5113.176549           0.5   6.484211\n",
       "std     244.028551   658.254104           0.0   3.709858\n",
       "min     701.000000  4030.308008           0.5   1.000000\n",
       "25%     901.000000  4611.510820           0.5   3.000000\n",
       "50%    1069.000000  5052.769411           0.5   6.000000\n",
       "75%    1310.500000  5488.459099           0.5  10.000000\n",
       "max    1524.000000  7211.007745           0.5  12.000000"
      ]
     },
     "execution_count": 46,
     "metadata": {},
     "output_type": "execute_result"
    }
   ],
   "source": [
    "rides_min_duration.describe()"
   ]
  },
  {
   "cell_type": "markdown",
   "id": "47fea09d",
   "metadata": {},
   "source": [
    "**Средняя продолжительность поездок составляет примерно 17 минут. Поскольку средняя и медиана практически совпадают, не будет удалять выбросы, очевидно, их немного и они существенно не влияют на показатели.**\n",
    "\n",
    "**Также был обнаружен небольшой пик по длительности поездок около нуля. Сделала отдельную таблицу с такими поездками, странно, что при поездках в 30 секунд средняя дистанция в 5 км. Но поскольку таких данных меньше 1%, оставляем их**"
   ]
  },
  {
   "cell_type": "markdown",
   "id": "c84a8953",
   "metadata": {},
   "source": [
    "***В данных представлены пользователи из 8 городов в возрасте от 12 до 43 лет. Средняя продолжительность поездки составляет 17 минут, средняя дистанция - 3.1 км. В ходе анализа обнаружили выбросы в размере 5 %  от исходных данных, но т.к. среднее и медиана не сильно отличаются друг от друга, было принято решение их оставить.***"
   ]
  },
  {
   "cell_type": "markdown",
   "id": "ffc9da9d",
   "metadata": {},
   "source": [
    "#### Шаг 4. Объединение данных"
   ]
  },
  {
   "cell_type": "markdown",
   "id": "026c9305",
   "metadata": {},
   "source": [
    "##### Объединение данных о пользователях, поездках и подписках в один датафрейм"
   ]
  },
  {
   "cell_type": "code",
   "execution_count": 47,
   "id": "1127934c",
   "metadata": {},
   "outputs": [],
   "source": [
    "df = users.merge(subscriptions, on='subscription_type', how='left')\n"
   ]
  },
  {
   "cell_type": "code",
   "execution_count": 48,
   "id": "77aa432e",
   "metadata": {
    "scrolled": true
   },
   "outputs": [
    {
     "data": {
      "text/html": [
       "<div>\n",
       "<style scoped>\n",
       "    .dataframe tbody tr th:only-of-type {\n",
       "        vertical-align: middle;\n",
       "    }\n",
       "\n",
       "    .dataframe tbody tr th {\n",
       "        vertical-align: top;\n",
       "    }\n",
       "\n",
       "    .dataframe thead th {\n",
       "        text-align: right;\n",
       "    }\n",
       "</style>\n",
       "<table border=\"1\" class=\"dataframe\">\n",
       "  <thead>\n",
       "    <tr style=\"text-align: right;\">\n",
       "      <th></th>\n",
       "      <th>user_id</th>\n",
       "      <th>name</th>\n",
       "      <th>age</th>\n",
       "      <th>city</th>\n",
       "      <th>subscription_type</th>\n",
       "      <th>age_category</th>\n",
       "      <th>minute_price</th>\n",
       "      <th>start_ride_price</th>\n",
       "      <th>subscription_fee</th>\n",
       "      <th>distance_m</th>\n",
       "      <th>duration_min</th>\n",
       "      <th>date</th>\n",
       "      <th>month</th>\n",
       "    </tr>\n",
       "  </thead>\n",
       "  <tbody>\n",
       "    <tr>\n",
       "      <th>0</th>\n",
       "      <td>1</td>\n",
       "      <td>Кира</td>\n",
       "      <td>22</td>\n",
       "      <td>Тюмень</td>\n",
       "      <td>ultra</td>\n",
       "      <td>18-25 лет</td>\n",
       "      <td>6</td>\n",
       "      <td>0</td>\n",
       "      <td>199</td>\n",
       "      <td>4409.919140</td>\n",
       "      <td>25.599769</td>\n",
       "      <td>2021-01-01</td>\n",
       "      <td>1</td>\n",
       "    </tr>\n",
       "    <tr>\n",
       "      <th>1</th>\n",
       "      <td>1</td>\n",
       "      <td>Кира</td>\n",
       "      <td>22</td>\n",
       "      <td>Тюмень</td>\n",
       "      <td>ultra</td>\n",
       "      <td>18-25 лет</td>\n",
       "      <td>6</td>\n",
       "      <td>0</td>\n",
       "      <td>199</td>\n",
       "      <td>2617.592153</td>\n",
       "      <td>15.816871</td>\n",
       "      <td>2021-01-18</td>\n",
       "      <td>1</td>\n",
       "    </tr>\n",
       "    <tr>\n",
       "      <th>2</th>\n",
       "      <td>1</td>\n",
       "      <td>Кира</td>\n",
       "      <td>22</td>\n",
       "      <td>Тюмень</td>\n",
       "      <td>ultra</td>\n",
       "      <td>18-25 лет</td>\n",
       "      <td>6</td>\n",
       "      <td>0</td>\n",
       "      <td>199</td>\n",
       "      <td>754.159807</td>\n",
       "      <td>6.232113</td>\n",
       "      <td>2021-04-20</td>\n",
       "      <td>4</td>\n",
       "    </tr>\n",
       "    <tr>\n",
       "      <th>3</th>\n",
       "      <td>1</td>\n",
       "      <td>Кира</td>\n",
       "      <td>22</td>\n",
       "      <td>Тюмень</td>\n",
       "      <td>ultra</td>\n",
       "      <td>18-25 лет</td>\n",
       "      <td>6</td>\n",
       "      <td>0</td>\n",
       "      <td>199</td>\n",
       "      <td>2694.783254</td>\n",
       "      <td>18.511000</td>\n",
       "      <td>2021-08-11</td>\n",
       "      <td>8</td>\n",
       "    </tr>\n",
       "    <tr>\n",
       "      <th>4</th>\n",
       "      <td>1</td>\n",
       "      <td>Кира</td>\n",
       "      <td>22</td>\n",
       "      <td>Тюмень</td>\n",
       "      <td>ultra</td>\n",
       "      <td>18-25 лет</td>\n",
       "      <td>6</td>\n",
       "      <td>0</td>\n",
       "      <td>199</td>\n",
       "      <td>4028.687306</td>\n",
       "      <td>26.265803</td>\n",
       "      <td>2021-08-28</td>\n",
       "      <td>8</td>\n",
       "    </tr>\n",
       "  </tbody>\n",
       "</table>\n",
       "</div>"
      ],
      "text/plain": [
       "   user_id  name  age    city subscription_type age_category  minute_price  \\\n",
       "0        1  Кира   22  Тюмень             ultra    18-25 лет             6   \n",
       "1        1  Кира   22  Тюмень             ultra    18-25 лет             6   \n",
       "2        1  Кира   22  Тюмень             ultra    18-25 лет             6   \n",
       "3        1  Кира   22  Тюмень             ultra    18-25 лет             6   \n",
       "4        1  Кира   22  Тюмень             ultra    18-25 лет             6   \n",
       "\n",
       "   start_ride_price  subscription_fee   distance_m  duration_min       date  \\\n",
       "0                 0               199  4409.919140     25.599769 2021-01-01   \n",
       "1                 0               199  2617.592153     15.816871 2021-01-18   \n",
       "2                 0               199   754.159807      6.232113 2021-04-20   \n",
       "3                 0               199  2694.783254     18.511000 2021-08-11   \n",
       "4                 0               199  4028.687306     26.265803 2021-08-28   \n",
       "\n",
       "   month  \n",
       "0      1  \n",
       "1      1  \n",
       "2      4  \n",
       "3      8  \n",
       "4      8  "
      ]
     },
     "execution_count": 48,
     "metadata": {},
     "output_type": "execute_result"
    }
   ],
   "source": [
    "df = df.merge(rides, on='user_id', how='right')\n",
    "df.head()"
   ]
  },
  {
   "cell_type": "code",
   "execution_count": 49,
   "id": "b6d8c2e4",
   "metadata": {
    "scrolled": false
   },
   "outputs": [
    {
     "name": "stdout",
     "output_type": "stream",
     "text": [
      "<class 'pandas.core.frame.DataFrame'>\n",
      "Int64Index: 18068 entries, 0 to 18067\n",
      "Data columns (total 13 columns):\n",
      " #   Column             Non-Null Count  Dtype         \n",
      "---  ------             --------------  -----         \n",
      " 0   user_id            18068 non-null  int64         \n",
      " 1   name               18068 non-null  object        \n",
      " 2   age                18068 non-null  int64         \n",
      " 3   city               18068 non-null  object        \n",
      " 4   subscription_type  18068 non-null  object        \n",
      " 5   age_category       18068 non-null  object        \n",
      " 6   minute_price       18068 non-null  int64         \n",
      " 7   start_ride_price   18068 non-null  int64         \n",
      " 8   subscription_fee   18068 non-null  int64         \n",
      " 9   distance_m         18068 non-null  float64       \n",
      " 10  duration_min       18068 non-null  float64       \n",
      " 11  date               18068 non-null  datetime64[ns]\n",
      " 12  month              18068 non-null  int64         \n",
      "dtypes: datetime64[ns](1), float64(2), int64(6), object(4)\n",
      "memory usage: 1.9+ MB\n"
     ]
    }
   ],
   "source": [
    "df.info()"
   ]
  },
  {
   "cell_type": "code",
   "execution_count": 50,
   "id": "e10c6d9a",
   "metadata": {},
   "outputs": [
    {
     "name": "stdout",
     "output_type": "stream",
     "text": [
      "Длина таблицы совпадает с данными до объединения\n"
     ]
    }
   ],
   "source": [
    "if len(rides) == len(df):\n",
    "    print('Длина таблицы совпадает с данными до объединения')\n",
    "else:\n",
    "    print('Длина таблицы не совпадает с данными до объединения')"
   ]
  },
  {
   "cell_type": "code",
   "execution_count": 51,
   "id": "9f9772e1",
   "metadata": {},
   "outputs": [
    {
     "data": {
      "text/plain": [
       "user_id              0\n",
       "name                 0\n",
       "age                  0\n",
       "city                 0\n",
       "subscription_type    0\n",
       "age_category         0\n",
       "minute_price         0\n",
       "start_ride_price     0\n",
       "subscription_fee     0\n",
       "distance_m           0\n",
       "duration_min         0\n",
       "date                 0\n",
       "month                0\n",
       "dtype: int64"
      ]
     },
     "execution_count": 51,
     "metadata": {},
     "output_type": "execute_result"
    }
   ],
   "source": [
    "df.isna().sum()"
   ]
  },
  {
   "cell_type": "markdown",
   "id": "52cb363a",
   "metadata": {},
   "source": [
    "##### Создание двух датафреймов из датафрейма, созданного на этапе 4.1:\n",
    "- c данными о пользователях без подписки;\n",
    "- с данными о пользователях с подпиской."
   ]
  },
  {
   "cell_type": "code",
   "execution_count": 52,
   "id": "b19868d9",
   "metadata": {
    "scrolled": true
   },
   "outputs": [
    {
     "name": "stdout",
     "output_type": "stream",
     "text": [
      "<class 'pandas.core.frame.DataFrame'>\n",
      "Int64Index: 11568 entries, 6500 to 18067\n",
      "Data columns (total 13 columns):\n",
      " #   Column             Non-Null Count  Dtype         \n",
      "---  ------             --------------  -----         \n",
      " 0   user_id            11568 non-null  int64         \n",
      " 1   name               11568 non-null  object        \n",
      " 2   age                11568 non-null  int64         \n",
      " 3   city               11568 non-null  object        \n",
      " 4   subscription_type  11568 non-null  object        \n",
      " 5   age_category       11568 non-null  object        \n",
      " 6   minute_price       11568 non-null  int64         \n",
      " 7   start_ride_price   11568 non-null  int64         \n",
      " 8   subscription_fee   11568 non-null  int64         \n",
      " 9   distance_m         11568 non-null  float64       \n",
      " 10  duration_min       11568 non-null  float64       \n",
      " 11  date               11568 non-null  datetime64[ns]\n",
      " 12  month              11568 non-null  int64         \n",
      "dtypes: datetime64[ns](1), float64(2), int64(6), object(4)\n",
      "memory usage: 1.2+ MB\n"
     ]
    }
   ],
   "source": [
    "df_free = df.query('subscription_type == \"free\"')\n",
    "df_free.info()"
   ]
  },
  {
   "cell_type": "code",
   "execution_count": 53,
   "id": "6885944a",
   "metadata": {},
   "outputs": [
    {
     "data": {
      "text/html": [
       "<div>\n",
       "<style scoped>\n",
       "    .dataframe tbody tr th:only-of-type {\n",
       "        vertical-align: middle;\n",
       "    }\n",
       "\n",
       "    .dataframe tbody tr th {\n",
       "        vertical-align: top;\n",
       "    }\n",
       "\n",
       "    .dataframe thead th {\n",
       "        text-align: right;\n",
       "    }\n",
       "</style>\n",
       "<table border=\"1\" class=\"dataframe\">\n",
       "  <thead>\n",
       "    <tr style=\"text-align: right;\">\n",
       "      <th></th>\n",
       "      <th>user_id</th>\n",
       "      <th>age</th>\n",
       "      <th>minute_price</th>\n",
       "      <th>start_ride_price</th>\n",
       "      <th>subscription_fee</th>\n",
       "      <th>distance_m</th>\n",
       "      <th>duration_min</th>\n",
       "      <th>month</th>\n",
       "    </tr>\n",
       "  </thead>\n",
       "  <tbody>\n",
       "    <tr>\n",
       "      <th>count</th>\n",
       "      <td>11568.000000</td>\n",
       "      <td>11568.000000</td>\n",
       "      <td>11568.0</td>\n",
       "      <td>11568.0</td>\n",
       "      <td>11568.0</td>\n",
       "      <td>11568.000000</td>\n",
       "      <td>11568.000000</td>\n",
       "      <td>11568.000000</td>\n",
       "    </tr>\n",
       "    <tr>\n",
       "      <th>mean</th>\n",
       "      <td>1120.527230</td>\n",
       "      <td>24.893326</td>\n",
       "      <td>8.0</td>\n",
       "      <td>50.0</td>\n",
       "      <td>0.0</td>\n",
       "      <td>3045.495282</td>\n",
       "      <td>17.390909</td>\n",
       "      <td>6.522994</td>\n",
       "    </tr>\n",
       "    <tr>\n",
       "      <th>std</th>\n",
       "      <td>241.165628</td>\n",
       "      <td>4.481100</td>\n",
       "      <td>0.0</td>\n",
       "      <td>0.0</td>\n",
       "      <td>0.0</td>\n",
       "      <td>1246.173806</td>\n",
       "      <td>6.326803</td>\n",
       "      <td>3.449770</td>\n",
       "    </tr>\n",
       "    <tr>\n",
       "      <th>min</th>\n",
       "      <td>700.000000</td>\n",
       "      <td>12.000000</td>\n",
       "      <td>8.0</td>\n",
       "      <td>50.0</td>\n",
       "      <td>0.0</td>\n",
       "      <td>0.855683</td>\n",
       "      <td>0.500000</td>\n",
       "      <td>1.000000</td>\n",
       "    </tr>\n",
       "    <tr>\n",
       "      <th>25%</th>\n",
       "      <td>915.000000</td>\n",
       "      <td>22.000000</td>\n",
       "      <td>8.0</td>\n",
       "      <td>50.0</td>\n",
       "      <td>0.0</td>\n",
       "      <td>2366.562689</td>\n",
       "      <td>12.958437</td>\n",
       "      <td>4.000000</td>\n",
       "    </tr>\n",
       "    <tr>\n",
       "      <th>50%</th>\n",
       "      <td>1123.000000</td>\n",
       "      <td>25.000000</td>\n",
       "      <td>8.0</td>\n",
       "      <td>50.0</td>\n",
       "      <td>0.0</td>\n",
       "      <td>3114.648465</td>\n",
       "      <td>17.326890</td>\n",
       "      <td>7.000000</td>\n",
       "    </tr>\n",
       "    <tr>\n",
       "      <th>75%</th>\n",
       "      <td>1328.000000</td>\n",
       "      <td>28.000000</td>\n",
       "      <td>8.0</td>\n",
       "      <td>50.0</td>\n",
       "      <td>0.0</td>\n",
       "      <td>3905.697894</td>\n",
       "      <td>21.594071</td>\n",
       "      <td>9.000000</td>\n",
       "    </tr>\n",
       "    <tr>\n",
       "      <th>max</th>\n",
       "      <td>1534.000000</td>\n",
       "      <td>43.000000</td>\n",
       "      <td>8.0</td>\n",
       "      <td>50.0</td>\n",
       "      <td>0.0</td>\n",
       "      <td>7211.007745</td>\n",
       "      <td>34.948498</td>\n",
       "      <td>12.000000</td>\n",
       "    </tr>\n",
       "  </tbody>\n",
       "</table>\n",
       "</div>"
      ],
      "text/plain": [
       "            user_id           age  minute_price  start_ride_price  \\\n",
       "count  11568.000000  11568.000000       11568.0           11568.0   \n",
       "mean    1120.527230     24.893326           8.0              50.0   \n",
       "std      241.165628      4.481100           0.0               0.0   \n",
       "min      700.000000     12.000000           8.0              50.0   \n",
       "25%      915.000000     22.000000           8.0              50.0   \n",
       "50%     1123.000000     25.000000           8.0              50.0   \n",
       "75%     1328.000000     28.000000           8.0              50.0   \n",
       "max     1534.000000     43.000000           8.0              50.0   \n",
       "\n",
       "       subscription_fee    distance_m  duration_min         month  \n",
       "count           11568.0  11568.000000  11568.000000  11568.000000  \n",
       "mean                0.0   3045.495282     17.390909      6.522994  \n",
       "std                 0.0   1246.173806      6.326803      3.449770  \n",
       "min                 0.0      0.855683      0.500000      1.000000  \n",
       "25%                 0.0   2366.562689     12.958437      4.000000  \n",
       "50%                 0.0   3114.648465     17.326890      7.000000  \n",
       "75%                 0.0   3905.697894     21.594071      9.000000  \n",
       "max                 0.0   7211.007745     34.948498     12.000000  "
      ]
     },
     "execution_count": 53,
     "metadata": {},
     "output_type": "execute_result"
    }
   ],
   "source": [
    "df_free.describe()"
   ]
  },
  {
   "cell_type": "code",
   "execution_count": 54,
   "id": "ab20bde6",
   "metadata": {
    "scrolled": true
   },
   "outputs": [
    {
     "name": "stdout",
     "output_type": "stream",
     "text": [
      "<class 'pandas.core.frame.DataFrame'>\n",
      "Int64Index: 6500 entries, 0 to 6499\n",
      "Data columns (total 13 columns):\n",
      " #   Column             Non-Null Count  Dtype         \n",
      "---  ------             --------------  -----         \n",
      " 0   user_id            6500 non-null   int64         \n",
      " 1   name               6500 non-null   object        \n",
      " 2   age                6500 non-null   int64         \n",
      " 3   city               6500 non-null   object        \n",
      " 4   subscription_type  6500 non-null   object        \n",
      " 5   age_category       6500 non-null   object        \n",
      " 6   minute_price       6500 non-null   int64         \n",
      " 7   start_ride_price   6500 non-null   int64         \n",
      " 8   subscription_fee   6500 non-null   int64         \n",
      " 9   distance_m         6500 non-null   float64       \n",
      " 10  duration_min       6500 non-null   float64       \n",
      " 11  date               6500 non-null   datetime64[ns]\n",
      " 12  month              6500 non-null   int64         \n",
      "dtypes: datetime64[ns](1), float64(2), int64(6), object(4)\n",
      "memory usage: 710.9+ KB\n"
     ]
    }
   ],
   "source": [
    "df_ultra = df.query('subscription_type == \"ultra\"')\n",
    "df_ultra.info()"
   ]
  },
  {
   "cell_type": "code",
   "execution_count": 55,
   "id": "5f999ffe",
   "metadata": {},
   "outputs": [
    {
     "data": {
      "text/html": [
       "<div>\n",
       "<style scoped>\n",
       "    .dataframe tbody tr th:only-of-type {\n",
       "        vertical-align: middle;\n",
       "    }\n",
       "\n",
       "    .dataframe tbody tr th {\n",
       "        vertical-align: top;\n",
       "    }\n",
       "\n",
       "    .dataframe thead th {\n",
       "        text-align: right;\n",
       "    }\n",
       "</style>\n",
       "<table border=\"1\" class=\"dataframe\">\n",
       "  <thead>\n",
       "    <tr style=\"text-align: right;\">\n",
       "      <th></th>\n",
       "      <th>user_id</th>\n",
       "      <th>age</th>\n",
       "      <th>minute_price</th>\n",
       "      <th>start_ride_price</th>\n",
       "      <th>subscription_fee</th>\n",
       "      <th>distance_m</th>\n",
       "      <th>duration_min</th>\n",
       "      <th>month</th>\n",
       "    </tr>\n",
       "  </thead>\n",
       "  <tbody>\n",
       "    <tr>\n",
       "      <th>count</th>\n",
       "      <td>6500.000000</td>\n",
       "      <td>6500.000000</td>\n",
       "      <td>6500.0</td>\n",
       "      <td>6500.0</td>\n",
       "      <td>6500.0</td>\n",
       "      <td>6500.000000</td>\n",
       "      <td>6500.000000</td>\n",
       "      <td>6500.000000</td>\n",
       "    </tr>\n",
       "    <tr>\n",
       "      <th>mean</th>\n",
       "      <td>348.725385</td>\n",
       "      <td>24.892615</td>\n",
       "      <td>6.0</td>\n",
       "      <td>0.0</td>\n",
       "      <td>199.0</td>\n",
       "      <td>3115.445388</td>\n",
       "      <td>18.541985</td>\n",
       "      <td>6.422308</td>\n",
       "    </tr>\n",
       "    <tr>\n",
       "      <th>std</th>\n",
       "      <td>201.099339</td>\n",
       "      <td>4.757208</td>\n",
       "      <td>0.0</td>\n",
       "      <td>0.0</td>\n",
       "      <td>0.0</td>\n",
       "      <td>836.895330</td>\n",
       "      <td>5.572048</td>\n",
       "      <td>3.414616</td>\n",
       "    </tr>\n",
       "    <tr>\n",
       "      <th>min</th>\n",
       "      <td>1.000000</td>\n",
       "      <td>12.000000</td>\n",
       "      <td>6.0</td>\n",
       "      <td>0.0</td>\n",
       "      <td>199.0</td>\n",
       "      <td>244.210438</td>\n",
       "      <td>3.760353</td>\n",
       "      <td>1.000000</td>\n",
       "    </tr>\n",
       "    <tr>\n",
       "      <th>25%</th>\n",
       "      <td>175.000000</td>\n",
       "      <td>22.000000</td>\n",
       "      <td>6.0</td>\n",
       "      <td>0.0</td>\n",
       "      <td>199.0</td>\n",
       "      <td>2785.444017</td>\n",
       "      <td>14.524654</td>\n",
       "      <td>4.000000</td>\n",
       "    </tr>\n",
       "    <tr>\n",
       "      <th>50%</th>\n",
       "      <td>351.000000</td>\n",
       "      <td>25.000000</td>\n",
       "      <td>6.0</td>\n",
       "      <td>0.0</td>\n",
       "      <td>199.0</td>\n",
       "      <td>3148.637229</td>\n",
       "      <td>18.178153</td>\n",
       "      <td>6.000000</td>\n",
       "    </tr>\n",
       "    <tr>\n",
       "      <th>75%</th>\n",
       "      <td>525.000000</td>\n",
       "      <td>28.000000</td>\n",
       "      <td>6.0</td>\n",
       "      <td>0.0</td>\n",
       "      <td>199.0</td>\n",
       "      <td>3560.574425</td>\n",
       "      <td>21.884129</td>\n",
       "      <td>9.000000</td>\n",
       "    </tr>\n",
       "    <tr>\n",
       "      <th>max</th>\n",
       "      <td>699.000000</td>\n",
       "      <td>38.000000</td>\n",
       "      <td>6.0</td>\n",
       "      <td>0.0</td>\n",
       "      <td>199.0</td>\n",
       "      <td>5699.769662</td>\n",
       "      <td>40.823963</td>\n",
       "      <td>12.000000</td>\n",
       "    </tr>\n",
       "  </tbody>\n",
       "</table>\n",
       "</div>"
      ],
      "text/plain": [
       "           user_id          age  minute_price  start_ride_price  \\\n",
       "count  6500.000000  6500.000000        6500.0            6500.0   \n",
       "mean    348.725385    24.892615           6.0               0.0   \n",
       "std     201.099339     4.757208           0.0               0.0   \n",
       "min       1.000000    12.000000           6.0               0.0   \n",
       "25%     175.000000    22.000000           6.0               0.0   \n",
       "50%     351.000000    25.000000           6.0               0.0   \n",
       "75%     525.000000    28.000000           6.0               0.0   \n",
       "max     699.000000    38.000000           6.0               0.0   \n",
       "\n",
       "       subscription_fee   distance_m  duration_min        month  \n",
       "count            6500.0  6500.000000   6500.000000  6500.000000  \n",
       "mean              199.0  3115.445388     18.541985     6.422308  \n",
       "std                 0.0   836.895330      5.572048     3.414616  \n",
       "min               199.0   244.210438      3.760353     1.000000  \n",
       "25%               199.0  2785.444017     14.524654     4.000000  \n",
       "50%               199.0  3148.637229     18.178153     6.000000  \n",
       "75%               199.0  3560.574425     21.884129     9.000000  \n",
       "max               199.0  5699.769662     40.823963    12.000000  "
      ]
     },
     "execution_count": 55,
     "metadata": {},
     "output_type": "execute_result"
    }
   ],
   "source": [
    "df_ultra.describe()"
   ]
  },
  {
   "cell_type": "markdown",
   "id": "8fa24a88",
   "metadata": {},
   "source": [
    "##### Визуализация информации о расстоянии и времени поездок для пользователей обеих категорий"
   ]
  },
  {
   "cell_type": "code",
   "execution_count": 56,
   "id": "c054fe66",
   "metadata": {
    "scrolled": false
   },
   "outputs": [
    {
     "data": {
      "text/plain": [
       "Text(0, 0.5, 'Количество пользователей')"
      ]
     },
     "execution_count": 56,
     "metadata": {},
     "output_type": "execute_result"
    },
    {
     "data": {
      "image/png": "[encoded data removed]",
      "text/plain": [
       "<Figure size 864x360 with 1 Axes>"
      ]
     },
     "metadata": {
      "needs_background": "light"
     },
     "output_type": "display_data"
    }
   ],
   "source": [
    "ax = df_free.plot(kind='hist',\n",
    "    y='distance_m',\n",
    "    histtype='step',\n",
    "    linewidth=5,\n",
    "    alpha=0.7,\n",
    "    figsize=(12,5),\n",
    "    label='free',\n",
    "    bins=20)\n",
    "df_ultra.plot(kind='hist',\n",
    "    y='distance_m',\n",
    "    histtype='step',\n",
    "    linewidth=5,\n",
    "    alpha=0.7,\n",
    "    ax=ax, \n",
    "    grid=True, \n",
    "    label='ultra')\n",
    "plt.title('Расстояние одной поездки для пользователей с подпиской и без')\n",
    "plt.xlabel('Расстояние, м')\n",
    "plt.ylabel('Количество пользователей')\n"
   ]
  },
  {
   "cell_type": "markdown",
   "id": "6a1c6ea2",
   "metadata": {},
   "source": [
    "**В целом, можно сказать, что пользователи как по подписке, так и по обычному тарифу больше всего используют самокаты на дистанции в 2.2- 4.2 км, однако на промежутке 2.4 - 3.5 км пользователи по подписке существенно превышают остальных.**"
   ]
  },
  {
   "cell_type": "code",
   "execution_count": 57,
   "id": "78c94bbf",
   "metadata": {
    "scrolled": true
   },
   "outputs": [
    {
     "data": {
      "text/plain": [
       "Text(0, 0.5, 'Количество пользователей')"
      ]
     },
     "execution_count": 57,
     "metadata": {},
     "output_type": "execute_result"
    },
    {
     "data": {
      "image/png": "[encoded data removed]",
      "text/plain": [
       "<Figure size 864x360 with 1 Axes>"
      ]
     },
     "metadata": {
      "needs_background": "light"
     },
     "output_type": "display_data"
    }
   ],
   "source": [
    "ax = df_free.plot(kind='hist',\n",
    "    y='duration_min',\n",
    "    histtype='step',\n",
    "    linewidth=5,\n",
    "    alpha=0.7,\n",
    "    figsize=(12,5),\n",
    "    label='free',\n",
    "    bins=20)\n",
    "df_ultra.plot(kind='hist',\n",
    "    y='duration_min',\n",
    "    histtype='step',\n",
    "    linewidth=5,\n",
    "    alpha=0.7,\n",
    "    ax=ax, \n",
    "    grid=True, \n",
    "    label='ultra')\n",
    "plt.title('Длительность одной поездки для пользователей с подпиской и без')\n",
    "plt.xlabel('Длительность, мин')\n",
    "plt.ylabel('Количество пользователей')"
   ]
  },
  {
   "cell_type": "markdown",
   "id": "59616839",
   "metadata": {},
   "source": [
    "**Можно заметить, что большинство поездок длится от 10 до 25 минут как по подписке, так и по стандартному тарифу. Поездок длительностью от 12 до25 минут больше среди пользователей с подпиской. На графике можно заметить, что самые длительные поездки осуществлены пользователями с подпиской, в то время как самые короткие поездки совершают пользователи по стандартному тарифу.**"
   ]
  },
  {
   "cell_type": "markdown",
   "id": "efc18d18",
   "metadata": {},
   "source": [
    "#### Шаг 5. Подсчёт выручки"
   ]
  },
  {
   "cell_type": "markdown",
   "id": "aaf42307",
   "metadata": {},
   "source": [
    "##### Создание датафрейма с агрегированными данными о поездках \n",
    "- на основе датафрейма с объединёнными данными из шага 4: найти суммарное расстояние, количество поездок и суммарное время для каждого пользователя за каждый месяц.\n",
    "\n"
   ]
  },
  {
   "cell_type": "code",
   "execution_count": 58,
   "id": "e3deeabd",
   "metadata": {},
   "outputs": [],
   "source": [
    "df['duration_min'] = np.ceil(df['duration_min']).astype('int')"
   ]
  },
  {
   "cell_type": "code",
   "execution_count": 59,
   "id": "33c5ff6a",
   "metadata": {},
   "outputs": [
    {
     "data": {
      "text/html": [
       "<div>\n",
       "<style scoped>\n",
       "    .dataframe tbody tr th:only-of-type {\n",
       "        vertical-align: middle;\n",
       "    }\n",
       "\n",
       "    .dataframe tbody tr th {\n",
       "        vertical-align: top;\n",
       "    }\n",
       "\n",
       "    .dataframe thead th {\n",
       "        text-align: right;\n",
       "    }\n",
       "</style>\n",
       "<table border=\"1\" class=\"dataframe\">\n",
       "  <thead>\n",
       "    <tr style=\"text-align: right;\">\n",
       "      <th></th>\n",
       "      <th></th>\n",
       "      <th>rides</th>\n",
       "      <th>sum_distance</th>\n",
       "      <th>sum_duration</th>\n",
       "    </tr>\n",
       "    <tr>\n",
       "      <th>user_id</th>\n",
       "      <th>month</th>\n",
       "      <th></th>\n",
       "      <th></th>\n",
       "      <th></th>\n",
       "    </tr>\n",
       "  </thead>\n",
       "  <tbody>\n",
       "    <tr>\n",
       "      <th rowspan=\"5\" valign=\"top\">1</th>\n",
       "      <th>1</th>\n",
       "      <td>2</td>\n",
       "      <td>7027.511294</td>\n",
       "      <td>42</td>\n",
       "    </tr>\n",
       "    <tr>\n",
       "      <th>4</th>\n",
       "      <td>1</td>\n",
       "      <td>754.159807</td>\n",
       "      <td>7</td>\n",
       "    </tr>\n",
       "    <tr>\n",
       "      <th>8</th>\n",
       "      <td>2</td>\n",
       "      <td>6723.470560</td>\n",
       "      <td>46</td>\n",
       "    </tr>\n",
       "    <tr>\n",
       "      <th>10</th>\n",
       "      <td>2</td>\n",
       "      <td>5809.911100</td>\n",
       "      <td>32</td>\n",
       "    </tr>\n",
       "    <tr>\n",
       "      <th>11</th>\n",
       "      <td>3</td>\n",
       "      <td>7003.499363</td>\n",
       "      <td>56</td>\n",
       "    </tr>\n",
       "    <tr>\n",
       "      <th>...</th>\n",
       "      <th>...</th>\n",
       "      <td>...</td>\n",
       "      <td>...</td>\n",
       "      <td>...</td>\n",
       "    </tr>\n",
       "    <tr>\n",
       "      <th rowspan=\"5\" valign=\"top\">1534</th>\n",
       "      <th>6</th>\n",
       "      <td>2</td>\n",
       "      <td>3409.468534</td>\n",
       "      <td>26</td>\n",
       "    </tr>\n",
       "    <tr>\n",
       "      <th>8</th>\n",
       "      <td>2</td>\n",
       "      <td>7622.453034</td>\n",
       "      <td>48</td>\n",
       "    </tr>\n",
       "    <tr>\n",
       "      <th>9</th>\n",
       "      <td>1</td>\n",
       "      <td>4928.173852</td>\n",
       "      <td>23</td>\n",
       "    </tr>\n",
       "    <tr>\n",
       "      <th>11</th>\n",
       "      <td>4</td>\n",
       "      <td>13350.015305</td>\n",
       "      <td>78</td>\n",
       "    </tr>\n",
       "    <tr>\n",
       "      <th>12</th>\n",
       "      <td>1</td>\n",
       "      <td>2371.711192</td>\n",
       "      <td>16</td>\n",
       "    </tr>\n",
       "  </tbody>\n",
       "</table>\n",
       "<p>11331 rows × 3 columns</p>\n",
       "</div>"
      ],
      "text/plain": [
       "               rides  sum_distance  sum_duration\n",
       "user_id month                                   \n",
       "1       1          2   7027.511294            42\n",
       "        4          1    754.159807             7\n",
       "        8          2   6723.470560            46\n",
       "        10         2   5809.911100            32\n",
       "        11         3   7003.499363            56\n",
       "...              ...           ...           ...\n",
       "1534    6          2   3409.468534            26\n",
       "        8          2   7622.453034            48\n",
       "        9          1   4928.173852            23\n",
       "        11         4  13350.015305            78\n",
       "        12         1   2371.711192            16\n",
       "\n",
       "[11331 rows x 3 columns]"
      ]
     },
     "execution_count": 59,
     "metadata": {},
     "output_type": "execute_result"
    }
   ],
   "source": [
    "df_pivot = df.pivot_table(index=['user_id', 'month'], aggfunc={'distance_m':['count', 'sum'], 'duration_min': 'sum'})\n",
    "df_pivot.columns = ['rides', 'sum_distance', 'sum_duration']\n",
    "df_pivot"
   ]
  },
  {
   "cell_type": "code",
   "execution_count": 60,
   "id": "da1d0380",
   "metadata": {},
   "outputs": [],
   "source": [
    "df_pivot = df_pivot.reset_index()"
   ]
  },
  {
   "cell_type": "code",
   "execution_count": 61,
   "id": "3dfe56f5",
   "metadata": {},
   "outputs": [
    {
     "data": {
      "text/html": [
       "<div>\n",
       "<style scoped>\n",
       "    .dataframe tbody tr th:only-of-type {\n",
       "        vertical-align: middle;\n",
       "    }\n",
       "\n",
       "    .dataframe tbody tr th {\n",
       "        vertical-align: top;\n",
       "    }\n",
       "\n",
       "    .dataframe thead th {\n",
       "        text-align: right;\n",
       "    }\n",
       "</style>\n",
       "<table border=\"1\" class=\"dataframe\">\n",
       "  <thead>\n",
       "    <tr style=\"text-align: right;\">\n",
       "      <th></th>\n",
       "      <th>user_id</th>\n",
       "      <th>month</th>\n",
       "      <th>rides</th>\n",
       "      <th>sum_distance</th>\n",
       "      <th>sum_duration</th>\n",
       "    </tr>\n",
       "  </thead>\n",
       "  <tbody>\n",
       "    <tr>\n",
       "      <th>0</th>\n",
       "      <td>1</td>\n",
       "      <td>1</td>\n",
       "      <td>2</td>\n",
       "      <td>7027.511294</td>\n",
       "      <td>42</td>\n",
       "    </tr>\n",
       "    <tr>\n",
       "      <th>1</th>\n",
       "      <td>1</td>\n",
       "      <td>4</td>\n",
       "      <td>1</td>\n",
       "      <td>754.159807</td>\n",
       "      <td>7</td>\n",
       "    </tr>\n",
       "    <tr>\n",
       "      <th>2</th>\n",
       "      <td>1</td>\n",
       "      <td>8</td>\n",
       "      <td>2</td>\n",
       "      <td>6723.470560</td>\n",
       "      <td>46</td>\n",
       "    </tr>\n",
       "    <tr>\n",
       "      <th>3</th>\n",
       "      <td>1</td>\n",
       "      <td>10</td>\n",
       "      <td>2</td>\n",
       "      <td>5809.911100</td>\n",
       "      <td>32</td>\n",
       "    </tr>\n",
       "    <tr>\n",
       "      <th>4</th>\n",
       "      <td>1</td>\n",
       "      <td>11</td>\n",
       "      <td>3</td>\n",
       "      <td>7003.499363</td>\n",
       "      <td>56</td>\n",
       "    </tr>\n",
       "    <tr>\n",
       "      <th>...</th>\n",
       "      <td>...</td>\n",
       "      <td>...</td>\n",
       "      <td>...</td>\n",
       "      <td>...</td>\n",
       "      <td>...</td>\n",
       "    </tr>\n",
       "    <tr>\n",
       "      <th>11326</th>\n",
       "      <td>1534</td>\n",
       "      <td>6</td>\n",
       "      <td>2</td>\n",
       "      <td>3409.468534</td>\n",
       "      <td>26</td>\n",
       "    </tr>\n",
       "    <tr>\n",
       "      <th>11327</th>\n",
       "      <td>1534</td>\n",
       "      <td>8</td>\n",
       "      <td>2</td>\n",
       "      <td>7622.453034</td>\n",
       "      <td>48</td>\n",
       "    </tr>\n",
       "    <tr>\n",
       "      <th>11328</th>\n",
       "      <td>1534</td>\n",
       "      <td>9</td>\n",
       "      <td>1</td>\n",
       "      <td>4928.173852</td>\n",
       "      <td>23</td>\n",
       "    </tr>\n",
       "    <tr>\n",
       "      <th>11329</th>\n",
       "      <td>1534</td>\n",
       "      <td>11</td>\n",
       "      <td>4</td>\n",
       "      <td>13350.015305</td>\n",
       "      <td>78</td>\n",
       "    </tr>\n",
       "    <tr>\n",
       "      <th>11330</th>\n",
       "      <td>1534</td>\n",
       "      <td>12</td>\n",
       "      <td>1</td>\n",
       "      <td>2371.711192</td>\n",
       "      <td>16</td>\n",
       "    </tr>\n",
       "  </tbody>\n",
       "</table>\n",
       "<p>11331 rows × 5 columns</p>\n",
       "</div>"
      ],
      "text/plain": [
       "       user_id  month  rides  sum_distance  sum_duration\n",
       "0            1      1      2   7027.511294            42\n",
       "1            1      4      1    754.159807             7\n",
       "2            1      8      2   6723.470560            46\n",
       "3            1     10      2   5809.911100            32\n",
       "4            1     11      3   7003.499363            56\n",
       "...        ...    ...    ...           ...           ...\n",
       "11326     1534      6      2   3409.468534            26\n",
       "11327     1534      8      2   7622.453034            48\n",
       "11328     1534      9      1   4928.173852            23\n",
       "11329     1534     11      4  13350.015305            78\n",
       "11330     1534     12      1   2371.711192            16\n",
       "\n",
       "[11331 rows x 5 columns]"
      ]
     },
     "execution_count": 61,
     "metadata": {},
     "output_type": "execute_result"
    }
   ],
   "source": [
    "df_pivot"
   ]
  },
  {
   "cell_type": "markdown",
   "id": "1cce0e61",
   "metadata": {},
   "source": [
    "##### Выручка по каждому пользователю\n",
    "\n",
    "- в этот же датафрейм добавить столбец с помесячной выручкой, которую принёс каждый пользователь. Для этого обратиться к информации об условиях оплаты для подписчиков и тех, у кого нет подписки. "
   ]
  },
  {
   "cell_type": "code",
   "execution_count": 62,
   "id": "acee9ded",
   "metadata": {},
   "outputs": [],
   "source": [
    "df_pivot = df_pivot.merge(users, on='user_id', how='left')"
   ]
  },
  {
   "cell_type": "code",
   "execution_count": 63,
   "id": "82bc9897",
   "metadata": {},
   "outputs": [],
   "source": [
    "df_pivot = df_pivot.merge(subscriptions, on='subscription_type', how='left')"
   ]
  },
  {
   "cell_type": "code",
   "execution_count": 64,
   "id": "931f18c7",
   "metadata": {
    "scrolled": true
   },
   "outputs": [
    {
     "name": "stdout",
     "output_type": "stream",
     "text": [
      "<class 'pandas.core.frame.DataFrame'>\n",
      "Int64Index: 11331 entries, 0 to 11330\n",
      "Data columns (total 13 columns):\n",
      " #   Column             Non-Null Count  Dtype  \n",
      "---  ------             --------------  -----  \n",
      " 0   user_id            11331 non-null  int64  \n",
      " 1   month              11331 non-null  int64  \n",
      " 2   rides              11331 non-null  int64  \n",
      " 3   sum_distance       11331 non-null  float64\n",
      " 4   sum_duration       11331 non-null  int64  \n",
      " 5   name               11331 non-null  object \n",
      " 6   age                11331 non-null  int64  \n",
      " 7   city               11331 non-null  object \n",
      " 8   subscription_type  11331 non-null  object \n",
      " 9   age_category       11331 non-null  object \n",
      " 10  minute_price       11331 non-null  int64  \n",
      " 11  start_ride_price   11331 non-null  int64  \n",
      " 12  subscription_fee   11331 non-null  int64  \n",
      "dtypes: float64(1), int64(8), object(4)\n",
      "memory usage: 1.2+ MB\n"
     ]
    }
   ],
   "source": [
    "df_pivot.info()"
   ]
  },
  {
   "cell_type": "code",
   "execution_count": 65,
   "id": "f3161747",
   "metadata": {},
   "outputs": [],
   "source": [
    "#def income(row):\n",
    "    #return row['rides'] * row['start_ride_price'] + row['sum_duration'] * row['minute_price'] + row['subscription_fee']"
   ]
  },
  {
   "cell_type": "code",
   "execution_count": 66,
   "id": "b4d45e63",
   "metadata": {},
   "outputs": [],
   "source": [
    "#df_pivot['income'] = df_pivot.apply(income, axis=1)"
   ]
  },
  {
   "cell_type": "code",
   "execution_count": 67,
   "id": "290ed33a",
   "metadata": {},
   "outputs": [],
   "source": [
    "df_pivot['income'] = df_pivot['rides'] * df_pivot['start_ride_price'] + df_pivot['sum_duration'] * df_pivot['minute_price'] + df_pivot['subscription_fee']"
   ]
  },
  {
   "cell_type": "code",
   "execution_count": 68,
   "id": "df20bc5f",
   "metadata": {},
   "outputs": [
    {
     "data": {
      "text/html": [
       "<div>\n",
       "<style scoped>\n",
       "    .dataframe tbody tr th:only-of-type {\n",
       "        vertical-align: middle;\n",
       "    }\n",
       "\n",
       "    .dataframe tbody tr th {\n",
       "        vertical-align: top;\n",
       "    }\n",
       "\n",
       "    .dataframe thead th {\n",
       "        text-align: right;\n",
       "    }\n",
       "</style>\n",
       "<table border=\"1\" class=\"dataframe\">\n",
       "  <thead>\n",
       "    <tr style=\"text-align: right;\">\n",
       "      <th></th>\n",
       "      <th>user_id</th>\n",
       "      <th>month</th>\n",
       "      <th>subscription_type</th>\n",
       "      <th>income</th>\n",
       "    </tr>\n",
       "  </thead>\n",
       "  <tbody>\n",
       "    <tr>\n",
       "      <th>0</th>\n",
       "      <td>1</td>\n",
       "      <td>1</td>\n",
       "      <td>ultra</td>\n",
       "      <td>451</td>\n",
       "    </tr>\n",
       "    <tr>\n",
       "      <th>1</th>\n",
       "      <td>1</td>\n",
       "      <td>4</td>\n",
       "      <td>ultra</td>\n",
       "      <td>241</td>\n",
       "    </tr>\n",
       "    <tr>\n",
       "      <th>2</th>\n",
       "      <td>1</td>\n",
       "      <td>8</td>\n",
       "      <td>ultra</td>\n",
       "      <td>475</td>\n",
       "    </tr>\n",
       "    <tr>\n",
       "      <th>3</th>\n",
       "      <td>1</td>\n",
       "      <td>10</td>\n",
       "      <td>ultra</td>\n",
       "      <td>391</td>\n",
       "    </tr>\n",
       "    <tr>\n",
       "      <th>4</th>\n",
       "      <td>1</td>\n",
       "      <td>11</td>\n",
       "      <td>ultra</td>\n",
       "      <td>535</td>\n",
       "    </tr>\n",
       "    <tr>\n",
       "      <th>...</th>\n",
       "      <td>...</td>\n",
       "      <td>...</td>\n",
       "      <td>...</td>\n",
       "      <td>...</td>\n",
       "    </tr>\n",
       "    <tr>\n",
       "      <th>11326</th>\n",
       "      <td>1534</td>\n",
       "      <td>6</td>\n",
       "      <td>free</td>\n",
       "      <td>308</td>\n",
       "    </tr>\n",
       "    <tr>\n",
       "      <th>11327</th>\n",
       "      <td>1534</td>\n",
       "      <td>8</td>\n",
       "      <td>free</td>\n",
       "      <td>484</td>\n",
       "    </tr>\n",
       "    <tr>\n",
       "      <th>11328</th>\n",
       "      <td>1534</td>\n",
       "      <td>9</td>\n",
       "      <td>free</td>\n",
       "      <td>234</td>\n",
       "    </tr>\n",
       "    <tr>\n",
       "      <th>11329</th>\n",
       "      <td>1534</td>\n",
       "      <td>11</td>\n",
       "      <td>free</td>\n",
       "      <td>824</td>\n",
       "    </tr>\n",
       "    <tr>\n",
       "      <th>11330</th>\n",
       "      <td>1534</td>\n",
       "      <td>12</td>\n",
       "      <td>free</td>\n",
       "      <td>178</td>\n",
       "    </tr>\n",
       "  </tbody>\n",
       "</table>\n",
       "<p>11331 rows × 4 columns</p>\n",
       "</div>"
      ],
      "text/plain": [
       "       user_id  month subscription_type  income\n",
       "0            1      1             ultra     451\n",
       "1            1      4             ultra     241\n",
       "2            1      8             ultra     475\n",
       "3            1     10             ultra     391\n",
       "4            1     11             ultra     535\n",
       "...        ...    ...               ...     ...\n",
       "11326     1534      6              free     308\n",
       "11327     1534      8              free     484\n",
       "11328     1534      9              free     234\n",
       "11329     1534     11              free     824\n",
       "11330     1534     12              free     178\n",
       "\n",
       "[11331 rows x 4 columns]"
      ]
     },
     "execution_count": 68,
     "metadata": {},
     "output_type": "execute_result"
    }
   ],
   "source": [
    "df_income = df_pivot.loc[:, ['user_id', 'month', 'subscription_type', 'income']]\n",
    "df_income"
   ]
  },
  {
   "cell_type": "markdown",
   "id": "7be92941",
   "metadata": {},
   "source": [
    "**Мы посчитали помесячную выручку по каждому пользователю.**"
   ]
  },
  {
   "cell_type": "markdown",
   "id": "4ab8b403",
   "metadata": {},
   "source": [
    "#### Шаг 6. Проверка гипотез"
   ]
  },
  {
   "cell_type": "markdown",
   "id": "52917650",
   "metadata": {},
   "source": [
    "#####  Тратят ли пользователи с подпиской больше времени на поездки? \n",
    "\n",
    "Если да, то пользователи с подпиской могут быть «выгоднее» для компании. Проверить гипотезу. Используйте исходные данные о продолжительности каждой сессии — отдельно для подписчиков и тех, у кого нет подписки."
   ]
  },
  {
   "cell_type": "markdown",
   "id": "58e25df2",
   "metadata": {},
   "source": [
    "*H0 - пользователи с подпиской и без тратят одинаковое время на поездки.*\n",
    "\n",
    "*H1 - пользователи с подпиской тратят больше времени на поездки.*"
   ]
  },
  {
   "cell_type": "code",
   "execution_count": 69,
   "id": "e0b17ce5",
   "metadata": {},
   "outputs": [
    {
     "name": "stdout",
     "output_type": "stream",
     "text": [
      "p-значение: 1.2804098316645618e-34\n",
      "Отвергаем нулевую гипотезу\n"
     ]
    }
   ],
   "source": [
    "alpha = 0.05\n",
    "results = stats.ttest_ind(df_free['duration_min'], df_ultra['duration_min'], alternative='less')\n",
    "\n",
    "print('p-значение:', results.pvalue)\n",
    "\n",
    "if results.pvalue < alpha:\n",
    "    print('Отвергаем нулевую гипотезу')\n",
    "else:\n",
    "    print('Не получилось отвергнуть нулевую гипотезу') "
   ]
  },
  {
   "cell_type": "markdown",
   "id": "cf3a6778",
   "metadata": {},
   "source": [
    "**Есть основания утверждать, что пользователи с подпиской тратят больше времени на поездки**"
   ]
  },
  {
   "cell_type": "markdown",
   "id": "5ee17123",
   "metadata": {},
   "source": [
    "##### Можно ли сказать, что среднее расстояние, которое проезжают пользователи с подпиской за одну поездку, не превышает 3130 метров? \n",
    "Расстояние одной поездки в 3130 метров — оптимальное с точки зрения износа самоката.Проверьте гипотезу и сделайте выводы."
   ]
  },
  {
   "cell_type": "markdown",
   "id": "56369cbc",
   "metadata": {},
   "source": [
    "*H0 - среднее расстояние, которое проезжают пользователи с подпиской равно 3130м*\n",
    "\n",
    "*H1 - среднее расстояние, которое проезжают пользователи с подпиской больше 3130м*"
   ]
  },
  {
   "cell_type": "code",
   "execution_count": 70,
   "id": "6b6f2785",
   "metadata": {},
   "outputs": [
    {
     "name": "stdout",
     "output_type": "stream",
     "text": [
      "p-значение: 0.9195368847849785\n",
      "Не отвергаем нулевую гипотезу\n"
     ]
    }
   ],
   "source": [
    "alpha = 0.05 # уровень статистической значимости\n",
    "beta = 3130\n",
    "results = stats.ttest_1samp( \n",
    "    df_ultra['distance_m'],\n",
    "    beta,\n",
    "    alternative='greater')\n",
    "\n",
    "print('p-значение:', results.pvalue)\n",
    "\n",
    "if (results.pvalue < alpha):\n",
    "    print('Отвергаем нулевую гипотезу')\n",
    "else:\n",
    "    print('Не отвергаем нулевую гипотезу') "
   ]
  },
  {
   "cell_type": "markdown",
   "id": "c0c6276d",
   "metadata": {},
   "source": [
    "**Вероятность случайно получить такое среднее равна 92 %. Есть основания утверждать, что нулевая гипотеза верна. Среднее расстояние, которое проезжают пользователи не превышает 3130м**"
   ]
  },
  {
   "cell_type": "markdown",
   "id": "8d721dfa",
   "metadata": {},
   "source": [
    "##### Будет ли помесячная выручка от пользователей с подпиской по месяцам выше, чем выручка от пользователей без подписки?"
   ]
  },
  {
   "cell_type": "markdown",
   "id": "be6b043f",
   "metadata": {},
   "source": [
    "*H0 - помесячная выручка пользователей с подпиской равна выручке пользователей без подписки*\n",
    "\n",
    "*H1 - помесячная выручка пользователей с подпиской выше, чем пользователей без подписки*"
   ]
  },
  {
   "cell_type": "code",
   "execution_count": 71,
   "id": "e7dd9300",
   "metadata": {
    "scrolled": true
   },
   "outputs": [
    {
     "name": "stdout",
     "output_type": "stream",
     "text": [
      "p-value: 1.8850394384715216e-31\n",
      "Отвергаем нулевую гипотезу\n"
     ]
    }
   ],
   "source": [
    "# задаём уровень значимости\n",
    "alpha = 0.05\n",
    "\n",
    "# проводим ttest для двух выборок, в качестве альтернативной используем одностороннюю гипотезу «больше»\n",
    "results = stats.ttest_ind(df_income.loc[df_income['subscription_type'] == 'ultra', 'income'],\n",
    "                          df_income.loc[df_income['subscription_type'] == 'free', 'income'], alternative='greater')\n",
    "\n",
    "print(f'p-value: {results.pvalue}')\n",
    "\n",
    "# проверяем p-value\n",
    "if results.pvalue < alpha:\n",
    "    print('Отвергаем нулевую гипотезу')\n",
    "else:\n",
    "    print('Нет оснований отвергнуть нулевую гипотезу')"
   ]
  },
  {
   "cell_type": "markdown",
   "id": "f4c9b1d5",
   "metadata": {},
   "source": [
    "**Есть основания утверждать, что выручка пользователей с подпиской больше выручки пользователей без подписки.**"
   ]
  },
  {
   "cell_type": "markdown",
   "id": "5a58124c",
   "metadata": {},
   "source": [
    "##### Гипотеза об обновлении сервера\n",
    "\n",
    "Представьте такую ситуацию: техническая команда сервиса обновила сервера, с которыми взаимодействует мобильное приложение. Она надеется, что из-за этого количество обращений в техподдержку значимо снизилось. Некоторый файл содержит для каждого пользователя данные о количестве обращений до обновления и после него. Какой тест вам понадобился бы для проверки этой гипотезы?"
   ]
  },
  {
   "cell_type": "markdown",
   "id": "1dda1faf",
   "metadata": {},
   "source": [
    "*H0 - количество обращений в техподдержку до обновления и после равно друг другу.*\n",
    "\n",
    "*H1 - количество обращений в техподдержку после обновления меньше, чем до обновления.*"
   ]
  },
  {
   "cell_type": "markdown",
   "id": "ae007510",
   "metadata": {},
   "source": [
    "**Понадобится тест о равенстве среднего значения генеральной совокупности до и после изменения scipy.stats.ttest_rel, т.к. выборки зависимы**."
   ]
  },
  {
   "cell_type": "markdown",
   "id": "c8038c37",
   "metadata": {},
   "source": [
    "#### Шаг 7. Распределения"
   ]
  },
  {
   "cell_type": "markdown",
   "id": "43a27abb",
   "metadata": {},
   "source": [
    "##### Акция с промокодами\n",
    "\n",
    "Отделу маркетинга GoFast поставили задачу: нужно провести акцию с раздачей промокодов на один бесплатный месяц подписки, в рамках которой как минимум 100 существующих клиентов должны продлить эту подписку. То есть по завершении периода действия подписки пользователь может либо отказаться от неё, либо продлить, совершив соответствующий платёж. \n",
    "Эта акция уже проводилась ранее и по итогу выяснилось, что после бесплатного пробного периода подписку продлевают 10%\n",
    "пользователей. Выясните, какое минимальное количество промокодов нужно разослать, чтобы вероятность не выполнить план была примерно 5 %. Подберите параметры распределения, описывающего эту ситуацию, постройте график распределения и сформулируйте ответ на вопрос о количестве промокодов."
   ]
  },
  {
   "cell_type": "code",
   "execution_count": 72,
   "id": "e9ce2aba",
   "metadata": {
    "scrolled": true
   },
   "outputs": [
    {
     "name": "stderr",
     "output_type": "stream",
     "text": [
      "/opt/conda/lib/python3.9/site-packages/scipy/stats/_discrete_distns.py:78: RuntimeWarning: divide by zero encountered in _binom_pdf\n",
      "  return _boost._binom_pdf(x, n, p)\n"
     ]
    },
    {
     "data": {
      "text/plain": [
       "Text(0, 0.5, 'Вероятность')"
      ]
     },
     "execution_count": 72,
     "metadata": {},
     "output_type": "execute_result"
    },
    {
     "data": {
      "image/png": "[encoded data removed]",
      "text/plain": [
       "<Figure size 432x288 with 1 Axes>"
      ]
     },
     "metadata": {
      "needs_background": "light"
     },
     "output_type": "display_data"
    }
   ],
   "source": [
    "# построим биномиальное распределение для описанной выше ситуации\n",
    "from matplotlib import pyplot as plt\n",
    "from scipy.stats import binom\n",
    "\n",
    "n = 1000 # количество попыток\n",
    "p = 0.1 # вероятность успеха\n",
    "\n",
    "distr = []\n",
    "\n",
    "for k in range(0, n + 1):\n",
    "    current_value = binom.pmf(k, n, p)\n",
    "    distr.append(current_value)\n",
    "    \n",
    "plt.bar(range(0, n + 1), distr)\n",
    "plt.title('Биномиальное распределение', fontweight='bold')\n",
    "plt.xlabel('Успешные попытки')\n",
    "plt.ylabel('Вероятность')"
   ]
  },
  {
   "cell_type": "markdown",
   "id": "6830afc8",
   "metadata": {},
   "source": [
    "Рассуждаю так:\n",
    "1. Мы построили биномиальное распределение для описанной изначальной ситуации (выше)\n",
    "2. Вероятность неуспеха - 5%, вероятность успеха - 95%. \n",
    "3. Функция cdf возвращает вероятность, что случайная величина примет значение меньше заданного аргумента. Исходя из описанной выше ситуации и вероятности в 0.1, это значение будет x = 100.\n",
    "т.е. cdf должно быть меньше 5% при x = 100"
   ]
  },
  {
   "cell_type": "code",
   "execution_count": 73,
   "id": "65d36051",
   "metadata": {},
   "outputs": [
    {
     "name": "stdout",
     "output_type": "stream",
     "text": [
      "Кол-во промокодов: 1172\n"
     ]
    }
   ],
   "source": [
    "x = 100\n",
    "p = 0.1\n",
    "for n in range (1, 2000):\n",
    "    if binom.cdf(x, n, p) < 0.05:\n",
    "        print(f'Кол-во промокодов: {n}')\n",
    "        break"
   ]
  },
  {
   "cell_type": "markdown",
   "id": "081a669c",
   "metadata": {},
   "source": [
    "##### Задача на PUSH-уведомления\n",
    "Отдел маркетинга рассылает клиентам push-уведомления в мобильном приложении. Клиенты могут открыть его или не открывать. \n",
    "Известно, что уведомления открывают около 40 % получивших клиентов. Отдел планирует разослать 1 млн уведомлений. \n",
    "С помощью аппроксимации постройте примерный график распределения и оцените вероятность того, что уведомление откроют не более \n",
    "399,5 тыс. пользователей."
   ]
  },
  {
   "cell_type": "code",
   "execution_count": 74,
   "id": "57c01998",
   "metadata": {},
   "outputs": [
    {
     "name": "stdout",
     "output_type": "stream",
     "text": [
      "0.15371708296369768\n"
     ]
    }
   ],
   "source": [
    "# задаём параметры биномиального распределения\n",
    "n = 1000000\n",
    "p = 0.4\n",
    "\n",
    "# зададим мат.ожидание и ст.отклонение нормального распределения равными\n",
    "# мат.ожиданию и ст.отклонению биномиального распределения\n",
    "mu = n * p\n",
    "sigma = sqrt(n * p * (1 - p))\n",
    "\n",
    "# задаём нормальное распределение\n",
    "distr = stats.norm(mu, sigma) \n",
    "\n",
    "# считаем вероятность хвоста слева от 43 тысяч\n",
    "result = distr.cdf(399500)\n",
    "print(result)"
   ]
  },
  {
   "cell_type": "code",
   "execution_count": 75,
   "id": "9c9523cf",
   "metadata": {
    "scrolled": true
   },
   "outputs": [
    {
     "data": {
      "text/plain": [
       "Text(0, 0.5, 'Вероятность')"
      ]
     },
     "execution_count": 75,
     "metadata": {},
     "output_type": "execute_result"
    },
    {
     "data": {
      "image/png": "[encoded data removed]",
      "text/plain": [
       "<Figure size 432x288 with 1 Axes>"
      ]
     },
     "metadata": {
      "needs_background": "light"
     },
     "output_type": "display_data"
    }
   ],
   "source": [
    "#задаём параметры биномиального распределения\n",
    "n = 1000000\n",
    "p = 0.4\n",
    "\n",
    "# границы промежутка, в котором будем строить аппроксимацию -\n",
    "# от n*p минус 4 ст.отклонения бином.распределения\n",
    "# до n*p плюс 4 ст.отклонения бином.распределения\n",
    "# (там, где вероятности значений почти не равны нулю)\n",
    "left = int(n * p - 4 * sqrt(n * p * (1 - p)))\n",
    "right = int(n * p + 4 * sqrt(n * p * (1 - p)))\n",
    " \n",
    "# зададим набор значений биномиальной величины на выбранном промежутке:\n",
    "# все неотрицательные целые числа от left до right\n",
    "x = list(range(max(0, left), right))\n",
    "# рисуем график биномиального распределения\n",
    "ax = plt.subplot()\n",
    "# используем синие о-образные маркеры и размер маркера 5\n",
    "ax.plot(x, binom.pmf(x, n, p), 'bo', ms=5)\n",
    "plt.title('Вероятности биномиального распределения')\n",
    "plt.xlabel('Успешные попытки')\n",
    "plt.ylabel('Вероятность')\n",
    "\n"
   ]
  },
  {
   "cell_type": "markdown",
   "id": "2db74b30",
   "metadata": {},
   "source": [
    "**Вероятность того, что уведомление откроют не более 399,5 тыс. пользователей равна 15%.**"
   ]
  },
  {
   "cell_type": "markdown",
   "id": "224bb50a",
   "metadata": {},
   "source": [
    "#### Вывод"
   ]
  },
  {
   "cell_type": "markdown",
   "id": "73742e95",
   "metadata": {},
   "source": [
    "Мы провели исследование на основе данных популярного сервиса аренды самокатов GoFast. \n",
    "\n",
    "Было представлено 3 таблицы: данные о пользователях, варианты  и условия тарифов (с подписков и без), а также данные о всех совершенных поездках за 2021 год.\n",
    "\n",
    "Данные были представлены корректно, задублированной информации практически не было, пропуски отсутствовали.\n",
    "\n",
    "В ходе исследовательского анализа, мы выявили, что средний возраст пользователя 25 лет, средняя продолжительность поездки 17 минут, а большая часть поездок совершается на дистанции от 2.2 до 4.2 км.\n",
    "\n",
    "Также было обнаружено небольшое количество данных, представляющих выбросы, но поскольку они существенно не влияли на средние показатели и в сумме занимали примерно 5% от количества данных, было принято решение их оставить.\n",
    "\n",
    "Отдельно мы также сравнили длительность и дистанцию пользователей с подпиской и без и выявили, что  на дистанции от 2 до 4 км пользователей с подпиской больше, чем пользователей с обычным тарифом.\n",
    "\n",
    "Объединив информацию из всех 3-х таблиц, мы смогли посчитать помесячную выручку каждого пользователя.\n",
    "\n",
    "Исходя из этого, были выдвинуты гипотезы по развитию бизнеса, в ходе проверки которых было выявлено, что пользователи с подпиской действительно тратят больше времени на дорогу и выручка по ним больше. Есть основания полагать, что выгодно и дальше развивать направление подписок."
   ]
  }
 ],
 "metadata": {
  "ExecuteTimeLog": [
   {
    "duration": 47,
    "start_time": "2024-03-17T14:24:21.688Z"
   },
   {
    "duration": 386,
    "start_time": "2024-03-17T14:24:23.798Z"
   },
   {
    "duration": 101,
    "start_time": "2024-03-17T14:24:25.582Z"
   },
   {
    "duration": 12,
    "start_time": "2024-03-17T14:24:44.367Z"
   },
   {
    "duration": 179,
    "start_time": "2024-03-17T14:25:13.088Z"
   },
   {
    "duration": 30,
    "start_time": "2024-03-17T14:25:19.902Z"
   },
   {
    "duration": 10,
    "start_time": "2024-03-17T14:25:24.221Z"
   },
   {
    "duration": 73,
    "start_time": "2024-03-17T14:27:57.608Z"
   },
   {
    "duration": 10,
    "start_time": "2024-03-17T14:28:08.122Z"
   },
   {
    "duration": 16,
    "start_time": "2024-03-17T14:28:21.607Z"
   },
   {
    "duration": 18,
    "start_time": "2024-03-17T14:28:31.141Z"
   },
   {
    "duration": 17,
    "start_time": "2024-03-17T14:28:42.681Z"
   },
   {
    "duration": 97,
    "start_time": "2024-03-17T14:31:50.506Z"
   },
   {
    "duration": 99,
    "start_time": "2024-03-17T14:38:39.116Z"
   },
   {
    "duration": 95,
    "start_time": "2024-03-17T14:44:45.256Z"
   },
   {
    "duration": 6,
    "start_time": "2024-03-17T14:44:50.902Z"
   },
   {
    "duration": 8,
    "start_time": "2024-03-17T14:45:01.642Z"
   },
   {
    "duration": 10,
    "start_time": "2024-03-17T14:45:15.994Z"
   },
   {
    "duration": 8,
    "start_time": "2024-03-17T14:46:56.279Z"
   },
   {
    "duration": 8,
    "start_time": "2024-03-17T14:47:04.791Z"
   },
   {
    "duration": 9,
    "start_time": "2024-03-17T14:48:00.238Z"
   },
   {
    "duration": 407,
    "start_time": "2024-03-17T14:48:09.048Z"
   },
   {
    "duration": 40,
    "start_time": "2024-03-17T14:48:09.457Z"
   },
   {
    "duration": 10,
    "start_time": "2024-03-17T14:48:09.499Z"
   },
   {
    "duration": 17,
    "start_time": "2024-03-17T14:48:09.510Z"
   },
   {
    "duration": 32,
    "start_time": "2024-03-17T14:48:09.529Z"
   },
   {
    "duration": 18,
    "start_time": "2024-03-17T14:48:09.563Z"
   },
   {
    "duration": 27,
    "start_time": "2024-03-17T14:48:09.583Z"
   },
   {
    "duration": 20,
    "start_time": "2024-03-17T14:48:09.611Z"
   },
   {
    "duration": 10,
    "start_time": "2024-03-17T14:48:09.632Z"
   },
   {
    "duration": 11,
    "start_time": "2024-03-17T14:48:09.643Z"
   },
   {
    "duration": 10,
    "start_time": "2024-03-17T14:48:09.655Z"
   },
   {
    "duration": 61,
    "start_time": "2024-03-17T14:48:09.681Z"
   },
   {
    "duration": 8,
    "start_time": "2024-03-17T14:48:30.660Z"
   },
   {
    "duration": 4,
    "start_time": "2024-03-17T14:49:50.267Z"
   },
   {
    "duration": 4,
    "start_time": "2024-03-17T14:50:03.858Z"
   },
   {
    "duration": 11,
    "start_time": "2024-03-17T14:52:14.650Z"
   },
   {
    "duration": 10,
    "start_time": "2024-03-17T14:52:20.182Z"
   },
   {
    "duration": 4,
    "start_time": "2024-03-17T14:53:13.496Z"
   },
   {
    "duration": 11,
    "start_time": "2024-03-17T14:53:15.605Z"
   },
   {
    "duration": 6,
    "start_time": "2024-03-17T14:54:13.554Z"
   },
   {
    "duration": 5,
    "start_time": "2024-03-17T14:56:50.422Z"
   },
   {
    "duration": 7,
    "start_time": "2024-03-17T14:56:57.887Z"
   },
   {
    "duration": 12,
    "start_time": "2024-03-17T14:57:04.679Z"
   },
   {
    "duration": 6,
    "start_time": "2024-03-17T14:58:06.292Z"
   },
   {
    "duration": 7,
    "start_time": "2024-03-17T14:58:30.546Z"
   },
   {
    "duration": 9,
    "start_time": "2024-03-17T14:59:14.914Z"
   },
   {
    "duration": 9,
    "start_time": "2024-03-17T14:59:33.973Z"
   },
   {
    "duration": 2,
    "start_time": "2024-03-17T15:28:46.723Z"
   },
   {
    "duration": 7,
    "start_time": "2024-03-17T15:32:13.998Z"
   },
   {
    "duration": 6,
    "start_time": "2024-03-17T15:32:27.149Z"
   },
   {
    "duration": 6,
    "start_time": "2024-03-17T15:32:36.728Z"
   },
   {
    "duration": 418,
    "start_time": "2024-03-17T15:33:24.725Z"
   },
   {
    "duration": 6,
    "start_time": "2024-03-17T15:34:10.918Z"
   },
   {
    "duration": 140,
    "start_time": "2024-03-17T15:34:33.054Z"
   },
   {
    "duration": 125,
    "start_time": "2024-03-17T15:35:04.457Z"
   },
   {
    "duration": 8,
    "start_time": "2024-03-17T15:35:44.598Z"
   },
   {
    "duration": 6,
    "start_time": "2024-03-17T15:39:28.371Z"
   },
   {
    "duration": 5,
    "start_time": "2024-03-17T15:40:45.095Z"
   },
   {
    "duration": 27,
    "start_time": "2024-03-17T15:42:09.326Z"
   },
   {
    "duration": 15,
    "start_time": "2024-03-17T15:42:17.746Z"
   },
   {
    "duration": 99,
    "start_time": "2024-03-17T15:43:27.621Z"
   },
   {
    "duration": 7,
    "start_time": "2024-03-17T15:43:36.961Z"
   },
   {
    "duration": 6,
    "start_time": "2024-03-17T15:44:04.669Z"
   },
   {
    "duration": 6,
    "start_time": "2024-03-17T15:44:13.711Z"
   },
   {
    "duration": 4,
    "start_time": "2024-03-17T15:45:13.971Z"
   },
   {
    "duration": 22,
    "start_time": "2024-03-17T15:49:46.129Z"
   },
   {
    "duration": 4,
    "start_time": "2024-03-17T15:50:08.511Z"
   },
   {
    "duration": 6,
    "start_time": "2024-03-17T15:50:49.122Z"
   },
   {
    "duration": 11,
    "start_time": "2024-03-17T15:50:59.732Z"
   },
   {
    "duration": 5,
    "start_time": "2024-03-17T15:51:15.392Z"
   },
   {
    "duration": 6,
    "start_time": "2024-03-17T15:52:56.803Z"
   },
   {
    "duration": 6,
    "start_time": "2024-03-17T15:55:27.258Z"
   },
   {
    "duration": 6,
    "start_time": "2024-03-17T15:55:52.219Z"
   },
   {
    "duration": 6,
    "start_time": "2024-03-17T15:56:05.879Z"
   },
   {
    "duration": 9,
    "start_time": "2024-03-17T15:56:14.244Z"
   },
   {
    "duration": 94,
    "start_time": "2024-03-17T15:56:44.756Z"
   },
   {
    "duration": 146,
    "start_time": "2024-03-17T15:57:19.306Z"
   },
   {
    "duration": 109,
    "start_time": "2024-03-17T15:57:33.147Z"
   },
   {
    "duration": 4,
    "start_time": "2024-03-17T16:02:54.626Z"
   },
   {
    "duration": 404,
    "start_time": "2024-03-17T16:07:59.724Z"
   },
   {
    "duration": 397,
    "start_time": "2024-03-17T16:08:06.290Z"
   },
   {
    "duration": 388,
    "start_time": "2024-03-17T16:08:21.264Z"
   },
   {
    "duration": 382,
    "start_time": "2024-03-17T16:08:26.294Z"
   },
   {
    "duration": 14,
    "start_time": "2024-03-17T16:08:33.264Z"
   },
   {
    "duration": 14,
    "start_time": "2024-03-17T16:08:37.720Z"
   },
   {
    "duration": 8,
    "start_time": "2024-03-17T16:08:41.106Z"
   },
   {
    "duration": 4,
    "start_time": "2024-03-17T16:09:28.691Z"
   },
   {
    "duration": 7,
    "start_time": "2024-03-17T16:09:50.102Z"
   },
   {
    "duration": 3,
    "start_time": "2024-03-17T16:09:55.976Z"
   },
   {
    "duration": 14,
    "start_time": "2024-03-17T16:09:57.765Z"
   },
   {
    "duration": 6,
    "start_time": "2024-03-17T16:09:59.145Z"
   },
   {
    "duration": 14,
    "start_time": "2024-03-17T16:10:49.349Z"
   },
   {
    "duration": 102,
    "start_time": "2024-03-17T16:11:02.316Z"
   },
   {
    "duration": 122,
    "start_time": "2024-03-17T16:11:11.095Z"
   },
   {
    "duration": 4,
    "start_time": "2024-03-17T16:12:28.795Z"
   },
   {
    "duration": 93,
    "start_time": "2024-03-17T16:12:36.985Z"
   },
   {
    "duration": 5,
    "start_time": "2024-03-17T16:12:39.123Z"
   },
   {
    "duration": 4,
    "start_time": "2024-03-17T16:15:26.582Z"
   },
   {
    "duration": 15,
    "start_time": "2024-03-17T16:15:29.656Z"
   },
   {
    "duration": 8,
    "start_time": "2024-03-17T16:15:31.505Z"
   },
   {
    "duration": 125,
    "start_time": "2024-03-17T16:15:34.105Z"
   },
   {
    "duration": 92,
    "start_time": "2024-03-17T16:17:47.413Z"
   },
   {
    "duration": 3,
    "start_time": "2024-03-17T16:17:52.722Z"
   },
   {
    "duration": 13,
    "start_time": "2024-03-17T16:17:54.624Z"
   },
   {
    "duration": 6,
    "start_time": "2024-03-17T16:17:56.370Z"
   },
   {
    "duration": 118,
    "start_time": "2024-03-17T16:18:03.166Z"
   },
   {
    "duration": 4,
    "start_time": "2024-03-17T16:18:06.002Z"
   },
   {
    "duration": 5,
    "start_time": "2024-03-17T16:18:08.872Z"
   },
   {
    "duration": 3,
    "start_time": "2024-03-17T16:18:17.328Z"
   },
   {
    "duration": 14,
    "start_time": "2024-03-17T16:18:20.677Z"
   },
   {
    "duration": 7,
    "start_time": "2024-03-17T16:18:22.133Z"
   },
   {
    "duration": 118,
    "start_time": "2024-03-17T16:18:24.134Z"
   },
   {
    "duration": 4,
    "start_time": "2024-03-17T16:18:26.727Z"
   },
   {
    "duration": 5,
    "start_time": "2024-03-17T16:18:28.218Z"
   },
   {
    "duration": 5,
    "start_time": "2024-03-17T16:24:03.732Z"
   },
   {
    "duration": 9,
    "start_time": "2024-03-17T16:24:20.058Z"
   },
   {
    "duration": 129,
    "start_time": "2024-03-17T16:24:47.859Z"
   },
   {
    "duration": 11,
    "start_time": "2024-03-17T16:26:29.583Z"
   },
   {
    "duration": 543,
    "start_time": "2024-03-17T16:26:44.345Z"
   },
   {
    "duration": 97,
    "start_time": "2024-03-17T16:26:52.304Z"
   },
   {
    "duration": 3,
    "start_time": "2024-03-17T16:29:13.595Z"
   },
   {
    "duration": 4,
    "start_time": "2024-03-17T16:29:43.943Z"
   },
   {
    "duration": 5,
    "start_time": "2024-03-17T16:29:51.626Z"
   },
   {
    "duration": 2,
    "start_time": "2024-03-17T16:36:27.122Z"
   },
   {
    "duration": 98,
    "start_time": "2024-03-17T16:36:53.655Z"
   },
   {
    "duration": 5,
    "start_time": "2024-03-17T16:36:55.636Z"
   },
   {
    "duration": 3,
    "start_time": "2024-03-17T16:36:57.749Z"
   },
   {
    "duration": 4,
    "start_time": "2024-03-17T16:36:59.245Z"
   },
   {
    "duration": 100,
    "start_time": "2024-03-17T16:37:01.106Z"
   },
   {
    "duration": 9,
    "start_time": "2024-03-17T16:37:06.820Z"
   },
   {
    "duration": 5,
    "start_time": "2024-03-17T16:37:36.269Z"
   },
   {
    "duration": 4,
    "start_time": "2024-03-17T16:37:39.827Z"
   },
   {
    "duration": 13,
    "start_time": "2024-03-17T16:37:57.463Z"
   },
   {
    "duration": 5,
    "start_time": "2024-03-17T16:40:18.917Z"
   },
   {
    "duration": 11,
    "start_time": "2024-03-17T16:40:32.586Z"
   },
   {
    "duration": 5,
    "start_time": "2024-03-17T16:40:47.185Z"
   },
   {
    "duration": 10,
    "start_time": "2024-03-17T16:40:48.985Z"
   },
   {
    "duration": 22,
    "start_time": "2024-03-17T16:41:02.836Z"
   },
   {
    "duration": 136,
    "start_time": "2024-03-17T16:47:23.170Z"
   },
   {
    "duration": 36,
    "start_time": "2024-03-17T16:47:35.006Z"
   },
   {
    "duration": 4,
    "start_time": "2024-03-17T16:47:37.557Z"
   },
   {
    "duration": 5,
    "start_time": "2024-03-17T16:54:04.785Z"
   },
   {
    "duration": 103,
    "start_time": "2024-03-17T16:54:27.868Z"
   },
   {
    "duration": 1502,
    "start_time": "2024-03-17T16:58:22.900Z"
   },
   {
    "duration": 8,
    "start_time": "2024-03-17T16:58:35.074Z"
   },
   {
    "duration": 123,
    "start_time": "2024-03-17T17:03:56.564Z"
   },
   {
    "duration": 1229,
    "start_time": "2024-03-17T17:04:25.780Z"
   },
   {
    "duration": 40,
    "start_time": "2024-03-17T17:04:27.011Z"
   },
   {
    "duration": 12,
    "start_time": "2024-03-17T17:04:27.052Z"
   },
   {
    "duration": 26,
    "start_time": "2024-03-17T17:04:27.066Z"
   },
   {
    "duration": 34,
    "start_time": "2024-03-17T17:04:27.093Z"
   },
   {
    "duration": 11,
    "start_time": "2024-03-17T17:04:27.128Z"
   },
   {
    "duration": 24,
    "start_time": "2024-03-17T17:04:27.140Z"
   },
   {
    "duration": 19,
    "start_time": "2024-03-17T17:04:27.166Z"
   },
   {
    "duration": 10,
    "start_time": "2024-03-17T17:04:27.187Z"
   },
   {
    "duration": 7,
    "start_time": "2024-03-17T17:04:27.200Z"
   },
   {
    "duration": 9,
    "start_time": "2024-03-17T17:04:27.209Z"
   },
   {
    "duration": 9,
    "start_time": "2024-03-17T17:04:27.220Z"
   },
   {
    "duration": 40,
    "start_time": "2024-03-17T17:04:27.230Z"
   },
   {
    "duration": 25,
    "start_time": "2024-03-17T17:04:27.272Z"
   },
   {
    "duration": 7,
    "start_time": "2024-03-17T17:04:27.298Z"
   },
   {
    "duration": 18,
    "start_time": "2024-03-17T17:04:27.307Z"
   },
   {
    "duration": 35,
    "start_time": "2024-03-17T17:04:27.327Z"
   },
   {
    "duration": 14,
    "start_time": "2024-03-17T17:04:27.364Z"
   },
   {
    "duration": 9,
    "start_time": "2024-03-17T17:04:27.380Z"
   },
   {
    "duration": 160,
    "start_time": "2024-03-17T17:04:27.392Z"
   },
   {
    "duration": 8,
    "start_time": "2024-03-17T17:04:27.553Z"
   },
   {
    "duration": 19,
    "start_time": "2024-03-17T17:04:27.563Z"
   },
   {
    "duration": 122,
    "start_time": "2024-03-17T17:04:27.584Z"
   },
   {
    "duration": 4,
    "start_time": "2024-03-17T17:04:27.708Z"
   },
   {
    "duration": 30,
    "start_time": "2024-03-17T17:04:27.714Z"
   },
   {
    "duration": 16,
    "start_time": "2024-03-17T17:04:27.746Z"
   },
   {
    "duration": 132,
    "start_time": "2024-03-17T17:04:27.763Z"
   },
   {
    "duration": 4,
    "start_time": "2024-03-17T17:04:27.898Z"
   },
   {
    "duration": 14,
    "start_time": "2024-03-17T17:04:27.904Z"
   },
   {
    "duration": 11,
    "start_time": "2024-03-17T17:04:27.920Z"
   },
   {
    "duration": 158,
    "start_time": "2024-03-17T17:04:27.933Z"
   },
   {
    "duration": 109,
    "start_time": "2024-03-17T17:04:28.092Z"
   },
   {
    "duration": 4,
    "start_time": "2024-03-17T17:04:28.203Z"
   },
   {
    "duration": 13,
    "start_time": "2024-03-17T17:04:28.209Z"
   },
   {
    "duration": 7,
    "start_time": "2024-03-17T17:04:28.223Z"
   },
   {
    "duration": 19,
    "start_time": "2024-03-17T17:04:28.231Z"
   },
   {
    "duration": 20,
    "start_time": "2024-03-17T17:04:28.252Z"
   },
   {
    "duration": 11,
    "start_time": "2024-03-17T17:04:28.273Z"
   },
   {
    "duration": 7,
    "start_time": "2024-03-17T17:04:28.286Z"
   },
   {
    "duration": 160,
    "start_time": "2024-03-17T17:04:28.295Z"
   },
   {
    "duration": 8,
    "start_time": "2024-03-17T17:04:28.457Z"
   },
   {
    "duration": 118,
    "start_time": "2024-03-17T17:04:28.467Z"
   },
   {
    "duration": 13,
    "start_time": "2024-03-17T17:23:22.923Z"
   },
   {
    "duration": 12,
    "start_time": "2024-03-17T17:23:32.334Z"
   },
   {
    "duration": 17,
    "start_time": "2024-03-17T17:24:58.051Z"
   },
   {
    "duration": 11,
    "start_time": "2024-03-17T17:25:03.536Z"
   },
   {
    "duration": 14,
    "start_time": "2024-03-17T17:25:37.659Z"
   },
   {
    "duration": 1171,
    "start_time": "2024-03-17T17:25:43.648Z"
   },
   {
    "duration": 38,
    "start_time": "2024-03-17T17:25:44.823Z"
   },
   {
    "duration": 11,
    "start_time": "2024-03-17T17:25:44.863Z"
   },
   {
    "duration": 18,
    "start_time": "2024-03-17T17:25:44.875Z"
   },
   {
    "duration": 36,
    "start_time": "2024-03-17T17:25:44.894Z"
   },
   {
    "duration": 11,
    "start_time": "2024-03-17T17:25:44.931Z"
   },
   {
    "duration": 18,
    "start_time": "2024-03-17T17:25:44.943Z"
   },
   {
    "duration": 23,
    "start_time": "2024-03-17T17:25:44.963Z"
   },
   {
    "duration": 10,
    "start_time": "2024-03-17T17:25:44.987Z"
   },
   {
    "duration": 7,
    "start_time": "2024-03-17T17:25:44.999Z"
   },
   {
    "duration": 5,
    "start_time": "2024-03-17T17:25:45.007Z"
   },
   {
    "duration": 34,
    "start_time": "2024-03-17T17:25:45.013Z"
   },
   {
    "duration": 58,
    "start_time": "2024-03-17T17:25:45.048Z"
   },
   {
    "duration": 42,
    "start_time": "2024-03-17T17:25:45.107Z"
   },
   {
    "duration": 54,
    "start_time": "2024-03-17T17:25:45.151Z"
   },
   {
    "duration": 67,
    "start_time": "2024-03-17T17:25:45.207Z"
   },
   {
    "duration": 66,
    "start_time": "2024-03-17T17:25:45.276Z"
   },
   {
    "duration": 38,
    "start_time": "2024-03-17T17:25:45.344Z"
   },
   {
    "duration": 26,
    "start_time": "2024-03-17T17:25:45.383Z"
   },
   {
    "duration": 173,
    "start_time": "2024-03-17T17:25:45.411Z"
   },
   {
    "duration": 8,
    "start_time": "2024-03-17T17:25:45.586Z"
   },
   {
    "duration": 22,
    "start_time": "2024-03-17T17:25:45.595Z"
   },
   {
    "duration": 119,
    "start_time": "2024-03-17T17:25:45.619Z"
   },
   {
    "duration": 4,
    "start_time": "2024-03-17T17:25:45.739Z"
   },
   {
    "duration": 16,
    "start_time": "2024-03-17T17:25:45.744Z"
   },
   {
    "duration": 8,
    "start_time": "2024-03-17T17:25:45.761Z"
   },
   {
    "duration": 132,
    "start_time": "2024-03-17T17:25:45.771Z"
   },
   {
    "duration": 4,
    "start_time": "2024-03-17T17:25:45.906Z"
   },
   {
    "duration": 6,
    "start_time": "2024-03-17T17:25:45.911Z"
   },
   {
    "duration": 10,
    "start_time": "2024-03-17T17:25:45.918Z"
   },
   {
    "duration": 161,
    "start_time": "2024-03-17T17:25:45.929Z"
   },
   {
    "duration": 125,
    "start_time": "2024-03-17T17:25:46.091Z"
   },
   {
    "duration": 5,
    "start_time": "2024-03-17T17:25:46.218Z"
   },
   {
    "duration": 19,
    "start_time": "2024-03-17T17:25:46.224Z"
   },
   {
    "duration": 13,
    "start_time": "2024-03-17T17:25:46.244Z"
   },
   {
    "duration": 24,
    "start_time": "2024-03-17T17:25:46.259Z"
   },
   {
    "duration": 5,
    "start_time": "2024-03-17T17:25:46.284Z"
   },
   {
    "duration": 28,
    "start_time": "2024-03-17T17:25:46.290Z"
   },
   {
    "duration": 19,
    "start_time": "2024-03-17T17:25:46.319Z"
   },
   {
    "duration": 132,
    "start_time": "2024-03-17T17:25:46.340Z"
   },
   {
    "duration": 12,
    "start_time": "2024-03-17T17:25:46.473Z"
   },
   {
    "duration": 124,
    "start_time": "2024-03-17T17:25:46.486Z"
   },
   {
    "duration": 13,
    "start_time": "2024-03-17T17:25:46.612Z"
   },
   {
    "duration": 19,
    "start_time": "2024-03-17T17:25:46.626Z"
   },
   {
    "duration": 35,
    "start_time": "2024-03-17T17:25:46.647Z"
   },
   {
    "duration": 7,
    "start_time": "2024-03-17T17:26:40.052Z"
   },
   {
    "duration": 25,
    "start_time": "2024-03-17T17:26:41.565Z"
   },
   {
    "duration": 15,
    "start_time": "2024-03-17T17:26:43.196Z"
   },
   {
    "duration": 117,
    "start_time": "2024-03-17T17:29:12.302Z"
   },
   {
    "duration": 10,
    "start_time": "2024-03-17T17:29:27.066Z"
   },
   {
    "duration": 16,
    "start_time": "2024-03-17T17:29:36.645Z"
   },
   {
    "duration": 17,
    "start_time": "2024-03-17T17:30:00.741Z"
   },
   {
    "duration": 206,
    "start_time": "2024-03-17T17:43:50.352Z"
   },
   {
    "duration": 712,
    "start_time": "2024-03-17T17:44:17.251Z"
   },
   {
    "duration": 503,
    "start_time": "2024-03-17T17:44:26.166Z"
   },
   {
    "duration": 529,
    "start_time": "2024-03-17T17:44:42.111Z"
   },
   {
    "duration": 182,
    "start_time": "2024-03-17T17:46:45.500Z"
   },
   {
    "duration": 126,
    "start_time": "2024-03-17T17:49:53.047Z"
   },
   {
    "duration": 264,
    "start_time": "2024-03-17T17:50:07.885Z"
   },
   {
    "duration": 150,
    "start_time": "2024-03-17T17:51:07.412Z"
   },
   {
    "duration": 146,
    "start_time": "2024-03-17T17:57:42.946Z"
   },
   {
    "duration": 123,
    "start_time": "2024-03-17T17:58:12.468Z"
   },
   {
    "duration": 16,
    "start_time": "2024-03-17T17:58:31.527Z"
   },
   {
    "duration": 132,
    "start_time": "2024-03-17T17:58:37.118Z"
   },
   {
    "duration": 101,
    "start_time": "2024-03-17T17:59:28.256Z"
   },
   {
    "duration": 154,
    "start_time": "2024-03-17T17:59:43.554Z"
   },
   {
    "duration": 145,
    "start_time": "2024-03-17T17:59:57.837Z"
   },
   {
    "duration": 15,
    "start_time": "2024-03-17T18:01:32.004Z"
   },
   {
    "duration": 1195,
    "start_time": "2024-03-17T18:01:52.978Z"
   },
   {
    "duration": 37,
    "start_time": "2024-03-17T18:01:54.174Z"
   },
   {
    "duration": 11,
    "start_time": "2024-03-17T18:01:54.212Z"
   },
   {
    "duration": 22,
    "start_time": "2024-03-17T18:01:54.225Z"
   },
   {
    "duration": 44,
    "start_time": "2024-03-17T18:01:54.248Z"
   },
   {
    "duration": 10,
    "start_time": "2024-03-17T18:01:54.294Z"
   },
   {
    "duration": 19,
    "start_time": "2024-03-17T18:01:54.305Z"
   },
   {
    "duration": 25,
    "start_time": "2024-03-17T18:01:54.325Z"
   },
   {
    "duration": 9,
    "start_time": "2024-03-17T18:01:54.351Z"
   },
   {
    "duration": 18,
    "start_time": "2024-03-17T18:01:54.362Z"
   },
   {
    "duration": 7,
    "start_time": "2024-03-17T18:01:54.381Z"
   },
   {
    "duration": 11,
    "start_time": "2024-03-17T18:01:54.390Z"
   },
   {
    "duration": 10,
    "start_time": "2024-03-17T18:01:54.402Z"
   },
   {
    "duration": 7,
    "start_time": "2024-03-17T18:01:54.413Z"
   },
   {
    "duration": 8,
    "start_time": "2024-03-17T18:01:54.421Z"
   },
   {
    "duration": 10,
    "start_time": "2024-03-17T18:01:54.430Z"
   },
   {
    "duration": 14,
    "start_time": "2024-03-17T18:01:54.441Z"
   },
   {
    "duration": 25,
    "start_time": "2024-03-17T18:01:54.457Z"
   },
   {
    "duration": 5,
    "start_time": "2024-03-17T18:01:54.483Z"
   },
   {
    "duration": 148,
    "start_time": "2024-03-17T18:01:54.489Z"
   },
   {
    "duration": 7,
    "start_time": "2024-03-17T18:01:54.638Z"
   },
   {
    "duration": 11,
    "start_time": "2024-03-17T18:01:54.646Z"
   },
   {
    "duration": 127,
    "start_time": "2024-03-17T18:01:54.658Z"
   },
   {
    "duration": 3,
    "start_time": "2024-03-17T18:01:54.787Z"
   },
   {
    "duration": 15,
    "start_time": "2024-03-17T18:01:54.791Z"
   },
   {
    "duration": 11,
    "start_time": "2024-03-17T18:01:54.808Z"
   },
   {
    "duration": 141,
    "start_time": "2024-03-17T18:01:54.820Z"
   },
   {
    "duration": 4,
    "start_time": "2024-03-17T18:01:54.964Z"
   },
   {
    "duration": 5,
    "start_time": "2024-03-17T18:01:54.981Z"
   },
   {
    "duration": 19,
    "start_time": "2024-03-17T18:01:54.987Z"
   },
   {
    "duration": 144,
    "start_time": "2024-03-17T18:01:55.008Z"
   },
   {
    "duration": 106,
    "start_time": "2024-03-17T18:01:55.154Z"
   },
   {
    "duration": 4,
    "start_time": "2024-03-17T18:01:55.262Z"
   },
   {
    "duration": 14,
    "start_time": "2024-03-17T18:01:55.268Z"
   },
   {
    "duration": 4,
    "start_time": "2024-03-17T18:01:55.283Z"
   },
   {
    "duration": 13,
    "start_time": "2024-03-17T18:01:55.288Z"
   },
   {
    "duration": 4,
    "start_time": "2024-03-17T18:01:55.302Z"
   },
   {
    "duration": 12,
    "start_time": "2024-03-17T18:01:55.307Z"
   },
   {
    "duration": 8,
    "start_time": "2024-03-17T18:01:55.320Z"
   },
   {
    "duration": 165,
    "start_time": "2024-03-17T18:01:55.329Z"
   },
   {
    "duration": 7,
    "start_time": "2024-03-17T18:01:55.496Z"
   },
   {
    "duration": 131,
    "start_time": "2024-03-17T18:01:55.505Z"
   },
   {
    "duration": 6,
    "start_time": "2024-03-17T18:01:55.638Z"
   },
   {
    "duration": 20,
    "start_time": "2024-03-17T18:01:55.645Z"
   },
   {
    "duration": 26,
    "start_time": "2024-03-17T18:01:55.666Z"
   },
   {
    "duration": 17,
    "start_time": "2024-03-17T18:01:55.694Z"
   },
   {
    "duration": 14,
    "start_time": "2024-03-17T18:01:55.713Z"
   },
   {
    "duration": 115,
    "start_time": "2024-03-17T18:01:55.728Z"
   },
   {
    "duration": 0,
    "start_time": "2024-03-17T18:01:55.844Z"
   },
   {
    "duration": 0,
    "start_time": "2024-03-17T18:01:55.845Z"
   },
   {
    "duration": 0,
    "start_time": "2024-03-17T18:01:55.846Z"
   },
   {
    "duration": 1156,
    "start_time": "2024-03-17T18:02:14.825Z"
   },
   {
    "duration": 38,
    "start_time": "2024-03-17T18:02:15.983Z"
   },
   {
    "duration": 10,
    "start_time": "2024-03-17T18:02:16.023Z"
   },
   {
    "duration": 21,
    "start_time": "2024-03-17T18:02:16.035Z"
   },
   {
    "duration": 34,
    "start_time": "2024-03-17T18:02:16.059Z"
   },
   {
    "duration": 11,
    "start_time": "2024-03-17T18:02:16.094Z"
   },
   {
    "duration": 17,
    "start_time": "2024-03-17T18:02:16.106Z"
   },
   {
    "duration": 20,
    "start_time": "2024-03-17T18:02:16.124Z"
   },
   {
    "duration": 9,
    "start_time": "2024-03-17T18:02:16.145Z"
   },
   {
    "duration": 12,
    "start_time": "2024-03-17T18:02:16.156Z"
   },
   {
    "duration": 14,
    "start_time": "2024-03-17T18:02:16.170Z"
   },
   {
    "duration": 15,
    "start_time": "2024-03-17T18:02:16.185Z"
   },
   {
    "duration": 11,
    "start_time": "2024-03-17T18:02:16.202Z"
   },
   {
    "duration": 8,
    "start_time": "2024-03-17T18:02:16.217Z"
   },
   {
    "duration": 10,
    "start_time": "2024-03-17T18:02:16.227Z"
   },
   {
    "duration": 4,
    "start_time": "2024-03-17T18:02:16.239Z"
   },
   {
    "duration": 40,
    "start_time": "2024-03-17T18:02:16.245Z"
   },
   {
    "duration": 8,
    "start_time": "2024-03-17T18:02:16.287Z"
   },
   {
    "duration": 6,
    "start_time": "2024-03-17T18:02:16.297Z"
   },
   {
    "duration": 160,
    "start_time": "2024-03-17T18:02:16.305Z"
   },
   {
    "duration": 16,
    "start_time": "2024-03-17T18:02:16.467Z"
   },
   {
    "duration": 6,
    "start_time": "2024-03-17T18:02:16.485Z"
   },
   {
    "duration": 125,
    "start_time": "2024-03-17T18:02:16.493Z"
   },
   {
    "duration": 4,
    "start_time": "2024-03-17T18:02:16.620Z"
   },
   {
    "duration": 27,
    "start_time": "2024-03-17T18:02:16.625Z"
   },
   {
    "duration": 22,
    "start_time": "2024-03-17T18:02:16.654Z"
   },
   {
    "duration": 127,
    "start_time": "2024-03-17T18:02:16.677Z"
   },
   {
    "duration": 4,
    "start_time": "2024-03-17T18:02:16.806Z"
   },
   {
    "duration": 21,
    "start_time": "2024-03-17T18:02:16.811Z"
   },
   {
    "duration": 40,
    "start_time": "2024-03-17T18:02:16.834Z"
   },
   {
    "duration": 151,
    "start_time": "2024-03-17T18:02:16.875Z"
   },
   {
    "duration": 111,
    "start_time": "2024-03-17T18:02:17.028Z"
   },
   {
    "duration": 6,
    "start_time": "2024-03-17T18:02:17.140Z"
   },
   {
    "duration": 5,
    "start_time": "2024-03-17T18:02:17.148Z"
   },
   {
    "duration": 13,
    "start_time": "2024-03-17T18:02:17.154Z"
   },
   {
    "duration": 15,
    "start_time": "2024-03-17T18:02:17.181Z"
   },
   {
    "duration": 4,
    "start_time": "2024-03-17T18:02:17.197Z"
   },
   {
    "duration": 11,
    "start_time": "2024-03-17T18:02:17.203Z"
   },
   {
    "duration": 9,
    "start_time": "2024-03-17T18:02:17.215Z"
   },
   {
    "duration": 168,
    "start_time": "2024-03-17T18:02:17.225Z"
   },
   {
    "duration": 8,
    "start_time": "2024-03-17T18:02:17.396Z"
   },
   {
    "duration": 118,
    "start_time": "2024-03-17T18:02:17.405Z"
   },
   {
    "duration": 7,
    "start_time": "2024-03-17T18:02:17.525Z"
   },
   {
    "duration": 20,
    "start_time": "2024-03-17T18:02:17.533Z"
   },
   {
    "duration": 32,
    "start_time": "2024-03-17T18:02:17.555Z"
   },
   {
    "duration": 20,
    "start_time": "2024-03-17T18:02:17.589Z"
   },
   {
    "duration": 15,
    "start_time": "2024-03-17T18:02:17.611Z"
   },
   {
    "duration": 32,
    "start_time": "2024-03-17T18:02:17.627Z"
   },
   {
    "duration": 188,
    "start_time": "2024-03-17T18:02:17.660Z"
   },
   {
    "duration": 17,
    "start_time": "2024-03-17T18:02:17.850Z"
   },
   {
    "duration": 238,
    "start_time": "2024-03-17T18:02:17.869Z"
   },
   {
    "duration": 15,
    "start_time": "2024-03-17T18:03:10.935Z"
   },
   {
    "duration": 15,
    "start_time": "2024-03-17T18:04:00.405Z"
   },
   {
    "duration": 17,
    "start_time": "2024-03-17T18:04:04.371Z"
   },
   {
    "duration": 160,
    "start_time": "2024-03-17T18:07:51.730Z"
   },
   {
    "duration": 142,
    "start_time": "2024-03-17T18:08:22.929Z"
   },
   {
    "duration": 165,
    "start_time": "2024-03-17T18:08:53.257Z"
   },
   {
    "duration": 165,
    "start_time": "2024-03-17T18:09:23.363Z"
   },
   {
    "duration": 162,
    "start_time": "2024-03-17T18:09:41.299Z"
   },
   {
    "duration": 163,
    "start_time": "2024-03-17T18:10:45.395Z"
   },
   {
    "duration": 175,
    "start_time": "2024-03-17T18:11:13.458Z"
   },
   {
    "duration": 166,
    "start_time": "2024-03-17T18:12:04.624Z"
   },
   {
    "duration": 184,
    "start_time": "2024-03-17T18:29:28.725Z"
   },
   {
    "duration": 177,
    "start_time": "2024-03-17T18:30:13.178Z"
   },
   {
    "duration": 62,
    "start_time": "2024-03-17T18:39:41.469Z"
   },
   {
    "duration": 146,
    "start_time": "2024-03-17T18:41:03.878Z"
   },
   {
    "duration": 51,
    "start_time": "2024-03-17T18:41:15.176Z"
   },
   {
    "duration": 46,
    "start_time": "2024-03-17T18:41:43.507Z"
   },
   {
    "duration": 15,
    "start_time": "2024-03-17T18:42:46.508Z"
   },
   {
    "duration": 42,
    "start_time": "2024-03-17T18:43:11.387Z"
   },
   {
    "duration": 20,
    "start_time": "2024-03-17T18:44:13.315Z"
   },
   {
    "duration": 3,
    "start_time": "2024-03-17T18:44:53.223Z"
   },
   {
    "duration": 24,
    "start_time": "2024-03-17T18:44:59.681Z"
   },
   {
    "duration": 29,
    "start_time": "2024-03-17T18:45:33.997Z"
   },
   {
    "duration": 404,
    "start_time": "2024-03-17T18:47:09.396Z"
   },
   {
    "duration": 97,
    "start_time": "2024-03-17T18:47:24.765Z"
   },
   {
    "duration": 29,
    "start_time": "2024-03-17T18:47:30.411Z"
   },
   {
    "duration": 11,
    "start_time": "2024-03-17T18:49:32.682Z"
   },
   {
    "duration": 8,
    "start_time": "2024-03-17T19:00:34.674Z"
   },
   {
    "duration": 11,
    "start_time": "2024-03-17T19:00:51.970Z"
   },
   {
    "duration": 12,
    "start_time": "2024-03-17T19:01:21.850Z"
   },
   {
    "duration": 12,
    "start_time": "2024-03-17T19:03:00.272Z"
   },
   {
    "duration": 10,
    "start_time": "2024-03-17T19:03:57.077Z"
   },
   {
    "duration": 3,
    "start_time": "2024-03-17T19:05:08.149Z"
   },
   {
    "duration": 9,
    "start_time": "2024-03-17T19:05:24.511Z"
   },
   {
    "duration": 12,
    "start_time": "2024-03-17T19:06:00.840Z"
   },
   {
    "duration": 3,
    "start_time": "2024-03-17T19:08:33.518Z"
   },
   {
    "duration": 9,
    "start_time": "2024-03-17T19:08:48.643Z"
   },
   {
    "duration": 9,
    "start_time": "2024-03-17T19:09:02.291Z"
   },
   {
    "duration": 5,
    "start_time": "2024-03-17T19:09:45.655Z"
   },
   {
    "duration": 15,
    "start_time": "2024-03-17T19:09:57.451Z"
   },
   {
    "duration": 5,
    "start_time": "2024-03-17T19:10:11.300Z"
   },
   {
    "duration": 4,
    "start_time": "2024-03-17T19:10:14.541Z"
   },
   {
    "duration": 15,
    "start_time": "2024-03-17T19:10:16.469Z"
   },
   {
    "duration": 3,
    "start_time": "2024-03-17T19:10:27.233Z"
   },
   {
    "duration": 64,
    "start_time": "2024-03-17T19:13:04.017Z"
   },
   {
    "duration": 4,
    "start_time": "2024-03-17T19:20:20.531Z"
   },
   {
    "duration": 1143,
    "start_time": "2024-03-17T19:20:26.595Z"
   },
   {
    "duration": 39,
    "start_time": "2024-03-17T19:20:27.740Z"
   },
   {
    "duration": 11,
    "start_time": "2024-03-17T19:20:27.780Z"
   },
   {
    "duration": 23,
    "start_time": "2024-03-17T19:20:27.793Z"
   },
   {
    "duration": 45,
    "start_time": "2024-03-17T19:20:27.817Z"
   },
   {
    "duration": 11,
    "start_time": "2024-03-17T19:20:27.864Z"
   },
   {
    "duration": 18,
    "start_time": "2024-03-17T19:20:27.876Z"
   },
   {
    "duration": 20,
    "start_time": "2024-03-17T19:20:27.895Z"
   },
   {
    "duration": 10,
    "start_time": "2024-03-17T19:20:27.916Z"
   },
   {
    "duration": 23,
    "start_time": "2024-03-17T19:20:27.928Z"
   },
   {
    "duration": 6,
    "start_time": "2024-03-17T19:20:27.953Z"
   },
   {
    "duration": 6,
    "start_time": "2024-03-17T19:20:27.960Z"
   },
   {
    "duration": 14,
    "start_time": "2024-03-17T19:20:27.968Z"
   },
   {
    "duration": 16,
    "start_time": "2024-03-17T19:20:27.983Z"
   },
   {
    "duration": 4,
    "start_time": "2024-03-17T19:20:28.001Z"
   },
   {
    "duration": 5,
    "start_time": "2024-03-17T19:20:28.007Z"
   },
   {
    "duration": 10,
    "start_time": "2024-03-17T19:20:28.013Z"
   },
   {
    "duration": 8,
    "start_time": "2024-03-17T19:20:28.025Z"
   },
   {
    "duration": 5,
    "start_time": "2024-03-17T19:20:28.034Z"
   },
   {
    "duration": 172,
    "start_time": "2024-03-17T19:20:28.041Z"
   },
   {
    "duration": 9,
    "start_time": "2024-03-17T19:20:28.215Z"
   },
   {
    "duration": 6,
    "start_time": "2024-03-17T19:20:28.225Z"
   },
   {
    "duration": 150,
    "start_time": "2024-03-17T19:20:28.233Z"
   },
   {
    "duration": 3,
    "start_time": "2024-03-17T19:20:28.385Z"
   },
   {
    "duration": 14,
    "start_time": "2024-03-17T19:20:28.390Z"
   },
   {
    "duration": 10,
    "start_time": "2024-03-17T19:20:28.406Z"
   },
   {
    "duration": 135,
    "start_time": "2024-03-17T19:20:28.418Z"
   },
   {
    "duration": 4,
    "start_time": "2024-03-17T19:20:28.557Z"
   },
   {
    "duration": 20,
    "start_time": "2024-03-17T19:20:28.563Z"
   },
   {
    "duration": 9,
    "start_time": "2024-03-17T19:20:28.585Z"
   },
   {
    "duration": 148,
    "start_time": "2024-03-17T19:20:28.595Z"
   },
   {
    "duration": 113,
    "start_time": "2024-03-17T19:20:28.745Z"
   },
   {
    "duration": 4,
    "start_time": "2024-03-17T19:20:28.860Z"
   },
   {
    "duration": 16,
    "start_time": "2024-03-17T19:20:28.866Z"
   },
   {
    "duration": 4,
    "start_time": "2024-03-17T19:20:28.884Z"
   },
   {
    "duration": 18,
    "start_time": "2024-03-17T19:20:28.890Z"
   },
   {
    "duration": 5,
    "start_time": "2024-03-17T19:20:28.909Z"
   },
   {
    "duration": 16,
    "start_time": "2024-03-17T19:20:28.915Z"
   },
   {
    "duration": 9,
    "start_time": "2024-03-17T19:20:28.932Z"
   },
   {
    "duration": 167,
    "start_time": "2024-03-17T19:20:28.942Z"
   },
   {
    "duration": 8,
    "start_time": "2024-03-17T19:20:29.110Z"
   },
   {
    "duration": 117,
    "start_time": "2024-03-17T19:20:29.119Z"
   },
   {
    "duration": 7,
    "start_time": "2024-03-17T19:20:29.238Z"
   },
   {
    "duration": 21,
    "start_time": "2024-03-17T19:20:29.246Z"
   },
   {
    "duration": 15,
    "start_time": "2024-03-17T19:20:29.280Z"
   },
   {
    "duration": 17,
    "start_time": "2024-03-17T19:20:29.296Z"
   },
   {
    "duration": 14,
    "start_time": "2024-03-17T19:20:29.315Z"
   },
   {
    "duration": 217,
    "start_time": "2024-03-17T19:20:29.330Z"
   },
   {
    "duration": 255,
    "start_time": "2024-03-17T19:20:29.549Z"
   },
   {
    "duration": 28,
    "start_time": "2024-03-17T19:20:29.805Z"
   },
   {
    "duration": 5,
    "start_time": "2024-03-17T19:20:29.835Z"
   },
   {
    "duration": 10,
    "start_time": "2024-03-17T19:20:29.842Z"
   },
   {
    "duration": 33,
    "start_time": "2024-03-17T19:20:29.855Z"
   },
   {
    "duration": 66,
    "start_time": "2024-03-17T19:22:27.334Z"
   },
   {
    "duration": 12,
    "start_time": "2024-03-17T19:23:21.300Z"
   },
   {
    "duration": 13,
    "start_time": "2024-03-17T19:25:21.697Z"
   },
   {
    "duration": 60,
    "start_time": "2024-03-17T19:25:38.992Z"
   },
   {
    "duration": 1209,
    "start_time": "2024-03-17T19:25:52.974Z"
   },
   {
    "duration": 38,
    "start_time": "2024-03-17T19:25:54.185Z"
   },
   {
    "duration": 11,
    "start_time": "2024-03-17T19:25:54.225Z"
   },
   {
    "duration": 14,
    "start_time": "2024-03-17T19:25:54.237Z"
   },
   {
    "duration": 33,
    "start_time": "2024-03-17T19:25:54.254Z"
   },
   {
    "duration": 12,
    "start_time": "2024-03-17T19:25:54.289Z"
   },
   {
    "duration": 27,
    "start_time": "2024-03-17T19:25:54.303Z"
   },
   {
    "duration": 21,
    "start_time": "2024-03-17T19:25:54.332Z"
   },
   {
    "duration": 10,
    "start_time": "2024-03-17T19:25:54.355Z"
   },
   {
    "duration": 18,
    "start_time": "2024-03-17T19:25:54.367Z"
   },
   {
    "duration": 6,
    "start_time": "2024-03-17T19:25:54.386Z"
   },
   {
    "duration": 6,
    "start_time": "2024-03-17T19:25:54.394Z"
   },
   {
    "duration": 13,
    "start_time": "2024-03-17T19:25:54.402Z"
   },
   {
    "duration": 19,
    "start_time": "2024-03-17T19:25:54.419Z"
   },
   {
    "duration": 16,
    "start_time": "2024-03-17T19:25:54.439Z"
   },
   {
    "duration": 31,
    "start_time": "2024-03-17T19:25:54.457Z"
   },
   {
    "duration": 19,
    "start_time": "2024-03-17T19:25:54.489Z"
   },
   {
    "duration": 17,
    "start_time": "2024-03-17T19:25:54.510Z"
   },
   {
    "duration": 8,
    "start_time": "2024-03-17T19:25:54.529Z"
   },
   {
    "duration": 136,
    "start_time": "2024-03-17T19:25:54.538Z"
   },
   {
    "duration": 12,
    "start_time": "2024-03-17T19:25:54.675Z"
   },
   {
    "duration": 6,
    "start_time": "2024-03-17T19:25:54.688Z"
   },
   {
    "duration": 138,
    "start_time": "2024-03-17T19:25:54.696Z"
   },
   {
    "duration": 3,
    "start_time": "2024-03-17T19:25:54.836Z"
   },
   {
    "duration": 18,
    "start_time": "2024-03-17T19:25:54.841Z"
   },
   {
    "duration": 21,
    "start_time": "2024-03-17T19:25:54.861Z"
   },
   {
    "duration": 133,
    "start_time": "2024-03-17T19:25:54.884Z"
   },
   {
    "duration": 4,
    "start_time": "2024-03-17T19:25:55.019Z"
   },
   {
    "duration": 20,
    "start_time": "2024-03-17T19:25:55.024Z"
   },
   {
    "duration": 30,
    "start_time": "2024-03-17T19:25:55.046Z"
   },
   {
    "duration": 132,
    "start_time": "2024-03-17T19:25:55.078Z"
   },
   {
    "duration": 108,
    "start_time": "2024-03-17T19:25:55.211Z"
   },
   {
    "duration": 5,
    "start_time": "2024-03-17T19:25:55.321Z"
   },
   {
    "duration": 5,
    "start_time": "2024-03-17T19:25:55.328Z"
   },
   {
    "duration": 16,
    "start_time": "2024-03-17T19:25:55.334Z"
   },
   {
    "duration": 14,
    "start_time": "2024-03-17T19:25:55.352Z"
   },
   {
    "duration": 5,
    "start_time": "2024-03-17T19:25:55.381Z"
   },
   {
    "duration": 11,
    "start_time": "2024-03-17T19:25:55.388Z"
   },
   {
    "duration": 8,
    "start_time": "2024-03-17T19:25:55.400Z"
   },
   {
    "duration": 152,
    "start_time": "2024-03-17T19:25:55.410Z"
   },
   {
    "duration": 15,
    "start_time": "2024-03-17T19:25:55.567Z"
   },
   {
    "duration": 114,
    "start_time": "2024-03-17T19:25:55.583Z"
   },
   {
    "duration": 6,
    "start_time": "2024-03-17T19:25:55.699Z"
   },
   {
    "duration": 27,
    "start_time": "2024-03-17T19:25:55.707Z"
   },
   {
    "duration": 15,
    "start_time": "2024-03-17T19:25:55.736Z"
   },
   {
    "duration": 35,
    "start_time": "2024-03-17T19:25:55.753Z"
   },
   {
    "duration": 16,
    "start_time": "2024-03-17T19:25:55.790Z"
   },
   {
    "duration": 235,
    "start_time": "2024-03-17T19:25:55.808Z"
   },
   {
    "duration": 276,
    "start_time": "2024-03-17T19:25:56.045Z"
   },
   {
    "duration": 30,
    "start_time": "2024-03-17T19:25:56.323Z"
   },
   {
    "duration": 30,
    "start_time": "2024-03-17T19:25:56.355Z"
   },
   {
    "duration": 5,
    "start_time": "2024-03-17T19:25:56.387Z"
   },
   {
    "duration": 23,
    "start_time": "2024-03-17T19:25:56.394Z"
   },
   {
    "duration": 77,
    "start_time": "2024-03-17T19:25:56.419Z"
   },
   {
    "duration": 1234,
    "start_time": "2024-03-17T19:28:50.762Z"
   },
   {
    "duration": 38,
    "start_time": "2024-03-17T19:28:51.998Z"
   },
   {
    "duration": 12,
    "start_time": "2024-03-17T19:28:52.038Z"
   },
   {
    "duration": 14,
    "start_time": "2024-03-17T19:28:52.052Z"
   },
   {
    "duration": 35,
    "start_time": "2024-03-17T19:28:52.068Z"
   },
   {
    "duration": 12,
    "start_time": "2024-03-17T19:28:52.105Z"
   },
   {
    "duration": 21,
    "start_time": "2024-03-17T19:28:52.119Z"
   },
   {
    "duration": 19,
    "start_time": "2024-03-17T19:28:52.142Z"
   },
   {
    "duration": 19,
    "start_time": "2024-03-17T19:28:52.163Z"
   },
   {
    "duration": 6,
    "start_time": "2024-03-17T19:28:52.186Z"
   },
   {
    "duration": 11,
    "start_time": "2024-03-17T19:28:52.193Z"
   },
   {
    "duration": 7,
    "start_time": "2024-03-17T19:28:52.205Z"
   },
   {
    "duration": 23,
    "start_time": "2024-03-17T19:28:52.214Z"
   },
   {
    "duration": 43,
    "start_time": "2024-03-17T19:28:52.239Z"
   },
   {
    "duration": 8,
    "start_time": "2024-03-17T19:28:52.283Z"
   },
   {
    "duration": 12,
    "start_time": "2024-03-17T19:28:52.293Z"
   },
   {
    "duration": 23,
    "start_time": "2024-03-17T19:28:52.307Z"
   },
   {
    "duration": 8,
    "start_time": "2024-03-17T19:28:52.331Z"
   },
   {
    "duration": 5,
    "start_time": "2024-03-17T19:28:52.340Z"
   },
   {
    "duration": 147,
    "start_time": "2024-03-17T19:28:52.346Z"
   },
   {
    "duration": 9,
    "start_time": "2024-03-17T19:28:52.495Z"
   },
   {
    "duration": 7,
    "start_time": "2024-03-17T19:28:52.506Z"
   },
   {
    "duration": 120,
    "start_time": "2024-03-17T19:28:52.514Z"
   },
   {
    "duration": 3,
    "start_time": "2024-03-17T19:28:52.636Z"
   },
   {
    "duration": 18,
    "start_time": "2024-03-17T19:28:52.641Z"
   },
   {
    "duration": 10,
    "start_time": "2024-03-17T19:28:52.660Z"
   },
   {
    "duration": 135,
    "start_time": "2024-03-17T19:28:52.671Z"
   },
   {
    "duration": 3,
    "start_time": "2024-03-17T19:28:52.811Z"
   },
   {
    "duration": 12,
    "start_time": "2024-03-17T19:28:52.816Z"
   },
   {
    "duration": 9,
    "start_time": "2024-03-17T19:28:52.829Z"
   },
   {
    "duration": 149,
    "start_time": "2024-03-17T19:28:52.840Z"
   },
   {
    "duration": 111,
    "start_time": "2024-03-17T19:28:52.990Z"
   },
   {
    "duration": 5,
    "start_time": "2024-03-17T19:28:53.102Z"
   },
   {
    "duration": 4,
    "start_time": "2024-03-17T19:28:53.109Z"
   },
   {
    "duration": 4,
    "start_time": "2024-03-17T19:28:53.114Z"
   },
   {
    "duration": 14,
    "start_time": "2024-03-17T19:28:53.120Z"
   },
   {
    "duration": 4,
    "start_time": "2024-03-17T19:28:53.136Z"
   },
   {
    "duration": 45,
    "start_time": "2024-03-17T19:28:53.141Z"
   },
   {
    "duration": 8,
    "start_time": "2024-03-17T19:28:53.188Z"
   },
   {
    "duration": 149,
    "start_time": "2024-03-17T19:28:53.198Z"
   },
   {
    "duration": 8,
    "start_time": "2024-03-17T19:28:53.349Z"
   },
   {
    "duration": 108,
    "start_time": "2024-03-17T19:28:53.358Z"
   },
   {
    "duration": 19,
    "start_time": "2024-03-17T19:28:53.467Z"
   },
   {
    "duration": 28,
    "start_time": "2024-03-17T19:28:53.487Z"
   },
   {
    "duration": 13,
    "start_time": "2024-03-17T19:28:53.517Z"
   },
   {
    "duration": 17,
    "start_time": "2024-03-17T19:28:53.531Z"
   },
   {
    "duration": 13,
    "start_time": "2024-03-17T19:28:53.549Z"
   },
   {
    "duration": 208,
    "start_time": "2024-03-17T19:28:53.564Z"
   },
   {
    "duration": 259,
    "start_time": "2024-03-17T19:28:53.773Z"
   },
   {
    "duration": 30,
    "start_time": "2024-03-17T19:28:54.034Z"
   },
   {
    "duration": 27,
    "start_time": "2024-03-17T19:28:54.066Z"
   },
   {
    "duration": 5,
    "start_time": "2024-03-17T19:28:54.094Z"
   },
   {
    "duration": 18,
    "start_time": "2024-03-17T19:28:54.104Z"
   },
   {
    "duration": 1627,
    "start_time": "2024-03-17T19:28:54.124Z"
   },
   {
    "duration": 12,
    "start_time": "2024-03-17T19:29:04.521Z"
   },
   {
    "duration": 1596,
    "start_time": "2024-03-17T19:29:13.623Z"
   },
   {
    "duration": 13,
    "start_time": "2024-03-17T19:30:23.406Z"
   },
   {
    "duration": 15,
    "start_time": "2024-03-17T19:39:10.217Z"
   },
   {
    "duration": 36,
    "start_time": "2024-03-17T19:39:31.105Z"
   },
   {
    "duration": 15,
    "start_time": "2024-03-17T19:40:22.684Z"
   },
   {
    "duration": 14,
    "start_time": "2024-03-17T19:40:38.603Z"
   },
   {
    "duration": 23,
    "start_time": "2024-03-17T19:41:00.059Z"
   },
   {
    "duration": 7,
    "start_time": "2024-03-17T19:47:29.002Z"
   },
   {
    "duration": 1163,
    "start_time": "2024-03-17T19:48:27.832Z"
   },
   {
    "duration": 36,
    "start_time": "2024-03-17T19:48:28.997Z"
   },
   {
    "duration": 10,
    "start_time": "2024-03-17T19:48:29.035Z"
   },
   {
    "duration": 14,
    "start_time": "2024-03-17T19:48:29.047Z"
   },
   {
    "duration": 35,
    "start_time": "2024-03-17T19:48:29.063Z"
   },
   {
    "duration": 11,
    "start_time": "2024-03-17T19:48:29.100Z"
   },
   {
    "duration": 18,
    "start_time": "2024-03-17T19:48:29.112Z"
   },
   {
    "duration": 21,
    "start_time": "2024-03-17T19:48:29.131Z"
   },
   {
    "duration": 11,
    "start_time": "2024-03-17T19:48:29.153Z"
   },
   {
    "duration": 6,
    "start_time": "2024-03-17T19:48:29.182Z"
   },
   {
    "duration": 11,
    "start_time": "2024-03-17T19:48:29.190Z"
   },
   {
    "duration": 7,
    "start_time": "2024-03-17T19:48:29.202Z"
   },
   {
    "duration": 11,
    "start_time": "2024-03-17T19:48:29.210Z"
   },
   {
    "duration": 8,
    "start_time": "2024-03-17T19:48:29.222Z"
   },
   {
    "duration": 11,
    "start_time": "2024-03-17T19:48:29.232Z"
   },
   {
    "duration": 4,
    "start_time": "2024-03-17T19:48:29.244Z"
   },
   {
    "duration": 10,
    "start_time": "2024-03-17T19:48:29.281Z"
   },
   {
    "duration": 8,
    "start_time": "2024-03-17T19:48:29.293Z"
   },
   {
    "duration": 5,
    "start_time": "2024-03-17T19:48:29.302Z"
   },
   {
    "duration": 165,
    "start_time": "2024-03-17T19:48:29.308Z"
   },
   {
    "duration": 13,
    "start_time": "2024-03-17T19:48:29.474Z"
   },
   {
    "duration": 8,
    "start_time": "2024-03-17T19:48:29.488Z"
   },
   {
    "duration": 124,
    "start_time": "2024-03-17T19:48:29.497Z"
   },
   {
    "duration": 3,
    "start_time": "2024-03-17T19:48:29.623Z"
   },
   {
    "duration": 15,
    "start_time": "2024-03-17T19:48:29.627Z"
   },
   {
    "duration": 6,
    "start_time": "2024-03-17T19:48:29.643Z"
   },
   {
    "duration": 142,
    "start_time": "2024-03-17T19:48:29.651Z"
   },
   {
    "duration": 4,
    "start_time": "2024-03-17T19:48:29.796Z"
   },
   {
    "duration": 5,
    "start_time": "2024-03-17T19:48:29.801Z"
   },
   {
    "duration": 9,
    "start_time": "2024-03-17T19:48:29.808Z"
   },
   {
    "duration": 150,
    "start_time": "2024-03-17T19:48:29.818Z"
   },
   {
    "duration": 112,
    "start_time": "2024-03-17T19:48:29.970Z"
   },
   {
    "duration": 4,
    "start_time": "2024-03-17T19:48:30.084Z"
   },
   {
    "duration": 66,
    "start_time": "2024-03-17T19:48:30.090Z"
   },
   {
    "duration": 89,
    "start_time": "2024-03-17T19:48:30.157Z"
   },
   {
    "duration": 201,
    "start_time": "2024-03-17T19:48:30.247Z"
   },
   {
    "duration": 108,
    "start_time": "2024-03-17T19:48:30.450Z"
   },
   {
    "duration": 147,
    "start_time": "2024-03-17T19:48:30.559Z"
   },
   {
    "duration": 66,
    "start_time": "2024-03-17T19:48:30.708Z"
   },
   {
    "duration": 163,
    "start_time": "2024-03-17T19:48:30.775Z"
   },
   {
    "duration": 46,
    "start_time": "2024-03-17T19:48:30.940Z"
   },
   {
    "duration": 163,
    "start_time": "2024-03-17T19:48:30.988Z"
   },
   {
    "duration": 7,
    "start_time": "2024-03-17T19:48:31.153Z"
   },
   {
    "duration": 77,
    "start_time": "2024-03-17T19:48:31.161Z"
   },
   {
    "duration": 157,
    "start_time": "2024-03-17T19:48:31.239Z"
   },
   {
    "duration": 69,
    "start_time": "2024-03-17T19:48:31.398Z"
   },
   {
    "duration": 38,
    "start_time": "2024-03-17T19:48:31.469Z"
   },
   {
    "duration": 227,
    "start_time": "2024-03-17T19:48:31.509Z"
   },
   {
    "duration": 257,
    "start_time": "2024-03-17T19:48:31.738Z"
   },
   {
    "duration": 29,
    "start_time": "2024-03-17T19:48:31.997Z"
   },
   {
    "duration": 13,
    "start_time": "2024-03-17T19:48:32.028Z"
   },
   {
    "duration": 11,
    "start_time": "2024-03-17T19:48:32.043Z"
   },
   {
    "duration": 41,
    "start_time": "2024-03-17T19:48:32.056Z"
   },
   {
    "duration": 42,
    "start_time": "2024-03-17T19:48:32.098Z"
   },
   {
    "duration": 22,
    "start_time": "2024-03-17T19:50:04.036Z"
   },
   {
    "duration": 114,
    "start_time": "2024-03-17T19:51:18.319Z"
   },
   {
    "duration": 22,
    "start_time": "2024-03-17T19:52:29.667Z"
   },
   {
    "duration": 12,
    "start_time": "2024-03-17T19:52:32.765Z"
   },
   {
    "duration": 9,
    "start_time": "2024-03-17T19:52:45.437Z"
   },
   {
    "duration": 9,
    "start_time": "2024-03-17T19:52:55.491Z"
   },
   {
    "duration": 11,
    "start_time": "2024-03-17T19:53:00.637Z"
   },
   {
    "duration": 13,
    "start_time": "2024-03-17T19:53:02.211Z"
   },
   {
    "duration": 12,
    "start_time": "2024-03-17T19:53:20.180Z"
   },
   {
    "duration": 1222,
    "start_time": "2024-03-17T19:53:26.977Z"
   },
   {
    "duration": 40,
    "start_time": "2024-03-17T19:53:28.200Z"
   },
   {
    "duration": 11,
    "start_time": "2024-03-17T19:53:28.241Z"
   },
   {
    "duration": 29,
    "start_time": "2024-03-17T19:53:28.253Z"
   },
   {
    "duration": 34,
    "start_time": "2024-03-17T19:53:28.284Z"
   },
   {
    "duration": 11,
    "start_time": "2024-03-17T19:53:28.320Z"
   },
   {
    "duration": 31,
    "start_time": "2024-03-17T19:53:28.332Z"
   },
   {
    "duration": 24,
    "start_time": "2024-03-17T19:53:28.365Z"
   },
   {
    "duration": 10,
    "start_time": "2024-03-17T19:53:28.390Z"
   },
   {
    "duration": 10,
    "start_time": "2024-03-17T19:53:28.401Z"
   },
   {
    "duration": 5,
    "start_time": "2024-03-17T19:53:28.412Z"
   },
   {
    "duration": 6,
    "start_time": "2024-03-17T19:53:28.418Z"
   },
   {
    "duration": 11,
    "start_time": "2024-03-17T19:53:28.426Z"
   },
   {
    "duration": 7,
    "start_time": "2024-03-17T19:53:28.440Z"
   },
   {
    "duration": 33,
    "start_time": "2024-03-17T19:53:28.448Z"
   },
   {
    "duration": 4,
    "start_time": "2024-03-17T19:53:28.483Z"
   },
   {
    "duration": 21,
    "start_time": "2024-03-17T19:53:28.488Z"
   },
   {
    "duration": 8,
    "start_time": "2024-03-17T19:53:28.510Z"
   },
   {
    "duration": 6,
    "start_time": "2024-03-17T19:53:28.519Z"
   },
   {
    "duration": 160,
    "start_time": "2024-03-17T19:53:28.526Z"
   },
   {
    "duration": 8,
    "start_time": "2024-03-17T19:53:28.688Z"
   },
   {
    "duration": 62,
    "start_time": "2024-03-17T19:53:28.698Z"
   },
   {
    "duration": 108,
    "start_time": "2024-03-17T19:53:28.762Z"
   },
   {
    "duration": 9,
    "start_time": "2024-03-17T19:53:28.872Z"
   },
   {
    "duration": 15,
    "start_time": "2024-03-17T19:53:28.883Z"
   },
   {
    "duration": 6,
    "start_time": "2024-03-17T19:53:28.900Z"
   },
   {
    "duration": 142,
    "start_time": "2024-03-17T19:53:28.907Z"
   },
   {
    "duration": 5,
    "start_time": "2024-03-17T19:53:29.050Z"
   },
   {
    "duration": 10,
    "start_time": "2024-03-17T19:53:29.056Z"
   },
   {
    "duration": 20,
    "start_time": "2024-03-17T19:53:29.067Z"
   },
   {
    "duration": 146,
    "start_time": "2024-03-17T19:53:29.088Z"
   },
   {
    "duration": 112,
    "start_time": "2024-03-17T19:53:29.236Z"
   },
   {
    "duration": 7,
    "start_time": "2024-03-17T19:53:29.350Z"
   },
   {
    "duration": 5,
    "start_time": "2024-03-17T19:53:29.358Z"
   },
   {
    "duration": 5,
    "start_time": "2024-03-17T19:53:29.380Z"
   },
   {
    "duration": 14,
    "start_time": "2024-03-17T19:53:29.387Z"
   },
   {
    "duration": 12,
    "start_time": "2024-03-17T19:53:29.403Z"
   },
   {
    "duration": 12,
    "start_time": "2024-03-17T19:53:29.417Z"
   },
   {
    "duration": 7,
    "start_time": "2024-03-17T19:53:29.430Z"
   },
   {
    "duration": 154,
    "start_time": "2024-03-17T19:53:29.438Z"
   },
   {
    "duration": 8,
    "start_time": "2024-03-17T19:53:29.597Z"
   },
   {
    "duration": 129,
    "start_time": "2024-03-17T19:53:29.607Z"
   },
   {
    "duration": 7,
    "start_time": "2024-03-17T19:53:29.737Z"
   },
   {
    "duration": 19,
    "start_time": "2024-03-17T19:53:29.745Z"
   },
   {
    "duration": 27,
    "start_time": "2024-03-17T19:53:29.766Z"
   },
   {
    "duration": 16,
    "start_time": "2024-03-17T19:53:29.795Z"
   },
   {
    "duration": 14,
    "start_time": "2024-03-17T19:53:29.812Z"
   },
   {
    "duration": 206,
    "start_time": "2024-03-17T19:53:29.828Z"
   },
   {
    "duration": 266,
    "start_time": "2024-03-17T19:53:30.036Z"
   },
   {
    "duration": 29,
    "start_time": "2024-03-17T19:53:30.304Z"
   },
   {
    "duration": 92,
    "start_time": "2024-03-17T19:53:30.335Z"
   },
   {
    "duration": 76,
    "start_time": "2024-03-17T19:53:30.429Z"
   },
   {
    "duration": 73,
    "start_time": "2024-03-17T19:53:30.506Z"
   },
   {
    "duration": 43,
    "start_time": "2024-03-17T19:53:30.581Z"
   },
   {
    "duration": 35,
    "start_time": "2024-03-17T19:53:30.625Z"
   },
   {
    "duration": 13,
    "start_time": "2024-03-17T19:53:50.937Z"
   },
   {
    "duration": 1154,
    "start_time": "2024-03-17T19:54:44.057Z"
   },
   {
    "duration": 39,
    "start_time": "2024-03-17T19:54:45.212Z"
   },
   {
    "duration": 21,
    "start_time": "2024-03-17T19:54:45.252Z"
   },
   {
    "duration": 48,
    "start_time": "2024-03-17T19:54:45.275Z"
   },
   {
    "duration": 59,
    "start_time": "2024-03-17T19:54:45.325Z"
   },
   {
    "duration": 10,
    "start_time": "2024-03-17T19:54:45.385Z"
   },
   {
    "duration": 77,
    "start_time": "2024-03-17T19:54:45.397Z"
   },
   {
    "duration": 23,
    "start_time": "2024-03-17T19:54:45.476Z"
   },
   {
    "duration": 11,
    "start_time": "2024-03-17T19:54:45.501Z"
   },
   {
    "duration": 10,
    "start_time": "2024-03-17T19:54:45.516Z"
   },
   {
    "duration": 11,
    "start_time": "2024-03-17T19:54:45.527Z"
   },
   {
    "duration": 14,
    "start_time": "2024-03-17T19:54:45.539Z"
   },
   {
    "duration": 11,
    "start_time": "2024-03-17T19:54:45.555Z"
   },
   {
    "duration": 18,
    "start_time": "2024-03-17T19:54:45.567Z"
   },
   {
    "duration": 5,
    "start_time": "2024-03-17T19:54:45.587Z"
   },
   {
    "duration": 4,
    "start_time": "2024-03-17T19:54:45.597Z"
   },
   {
    "duration": 13,
    "start_time": "2024-03-17T19:54:45.603Z"
   },
   {
    "duration": 7,
    "start_time": "2024-03-17T19:54:45.618Z"
   },
   {
    "duration": 5,
    "start_time": "2024-03-17T19:54:45.627Z"
   },
   {
    "duration": 174,
    "start_time": "2024-03-17T19:54:45.633Z"
   },
   {
    "duration": 8,
    "start_time": "2024-03-17T19:54:45.808Z"
   },
   {
    "duration": 5,
    "start_time": "2024-03-17T19:54:45.817Z"
   },
   {
    "duration": 123,
    "start_time": "2024-03-17T19:54:45.823Z"
   },
   {
    "duration": 3,
    "start_time": "2024-03-17T19:54:45.948Z"
   },
   {
    "duration": 29,
    "start_time": "2024-03-17T19:54:45.952Z"
   },
   {
    "duration": 8,
    "start_time": "2024-03-17T19:54:45.983Z"
   },
   {
    "duration": 131,
    "start_time": "2024-03-17T19:54:45.992Z"
   },
   {
    "duration": 4,
    "start_time": "2024-03-17T19:54:46.126Z"
   },
   {
    "duration": 7,
    "start_time": "2024-03-17T19:54:46.132Z"
   },
   {
    "duration": 10,
    "start_time": "2024-03-17T19:54:46.140Z"
   },
   {
    "duration": 155,
    "start_time": "2024-03-17T19:54:46.152Z"
   },
   {
    "duration": 107,
    "start_time": "2024-03-17T19:54:46.309Z"
   },
   {
    "duration": 6,
    "start_time": "2024-03-17T19:54:46.418Z"
   },
   {
    "duration": 24,
    "start_time": "2024-03-17T19:54:46.426Z"
   },
   {
    "duration": 9,
    "start_time": "2024-03-17T19:54:46.452Z"
   },
   {
    "duration": 19,
    "start_time": "2024-03-17T19:54:46.462Z"
   },
   {
    "duration": 6,
    "start_time": "2024-03-17T19:54:46.483Z"
   },
   {
    "duration": 10,
    "start_time": "2024-03-17T19:54:46.490Z"
   },
   {
    "duration": 7,
    "start_time": "2024-03-17T19:54:46.502Z"
   },
   {
    "duration": 160,
    "start_time": "2024-03-17T19:54:46.511Z"
   },
   {
    "duration": 11,
    "start_time": "2024-03-17T19:54:46.672Z"
   },
   {
    "duration": 105,
    "start_time": "2024-03-17T19:54:46.685Z"
   },
   {
    "duration": 7,
    "start_time": "2024-03-17T19:54:46.791Z"
   },
   {
    "duration": 19,
    "start_time": "2024-03-17T19:54:46.799Z"
   },
   {
    "duration": 13,
    "start_time": "2024-03-17T19:54:46.819Z"
   },
   {
    "duration": 16,
    "start_time": "2024-03-17T19:54:46.834Z"
   },
   {
    "duration": 43,
    "start_time": "2024-03-17T19:54:46.852Z"
   },
   {
    "duration": 195,
    "start_time": "2024-03-17T19:54:46.896Z"
   },
   {
    "duration": 242,
    "start_time": "2024-03-17T19:54:47.092Z"
   },
   {
    "duration": 27,
    "start_time": "2024-03-17T19:54:47.336Z"
   },
   {
    "duration": 25,
    "start_time": "2024-03-17T19:54:47.365Z"
   },
   {
    "duration": 4,
    "start_time": "2024-03-17T19:54:47.391Z"
   },
   {
    "duration": 11,
    "start_time": "2024-03-17T19:54:47.396Z"
   },
   {
    "duration": 9,
    "start_time": "2024-03-17T19:54:47.408Z"
   },
   {
    "duration": 8,
    "start_time": "2024-03-17T19:54:47.418Z"
   },
   {
    "duration": 14,
    "start_time": "2024-03-17T19:54:47.427Z"
   },
   {
    "duration": 1171,
    "start_time": "2024-03-17T19:55:06.493Z"
   },
   {
    "duration": 37,
    "start_time": "2024-03-17T19:55:07.666Z"
   },
   {
    "duration": 12,
    "start_time": "2024-03-17T19:55:07.704Z"
   },
   {
    "duration": 22,
    "start_time": "2024-03-17T19:55:07.718Z"
   },
   {
    "duration": 36,
    "start_time": "2024-03-17T19:55:07.742Z"
   },
   {
    "duration": 11,
    "start_time": "2024-03-17T19:55:07.780Z"
   },
   {
    "duration": 19,
    "start_time": "2024-03-17T19:55:07.792Z"
   },
   {
    "duration": 19,
    "start_time": "2024-03-17T19:55:07.813Z"
   },
   {
    "duration": 11,
    "start_time": "2024-03-17T19:55:07.833Z"
   },
   {
    "duration": 7,
    "start_time": "2024-03-17T19:55:07.847Z"
   },
   {
    "duration": 5,
    "start_time": "2024-03-17T19:55:07.855Z"
   },
   {
    "duration": 7,
    "start_time": "2024-03-17T19:55:07.881Z"
   },
   {
    "duration": 25,
    "start_time": "2024-03-17T19:55:07.889Z"
   },
   {
    "duration": 9,
    "start_time": "2024-03-17T19:55:07.915Z"
   },
   {
    "duration": 5,
    "start_time": "2024-03-17T19:55:07.926Z"
   },
   {
    "duration": 6,
    "start_time": "2024-03-17T19:55:07.932Z"
   },
   {
    "duration": 10,
    "start_time": "2024-03-17T19:55:07.939Z"
   },
   {
    "duration": 8,
    "start_time": "2024-03-17T19:55:07.950Z"
   },
   {
    "duration": 5,
    "start_time": "2024-03-17T19:55:07.982Z"
   },
   {
    "duration": 169,
    "start_time": "2024-03-17T19:55:07.989Z"
   },
   {
    "duration": 8,
    "start_time": "2024-03-17T19:55:08.159Z"
   },
   {
    "duration": 16,
    "start_time": "2024-03-17T19:55:08.168Z"
   },
   {
    "duration": 123,
    "start_time": "2024-03-17T19:55:08.186Z"
   },
   {
    "duration": 4,
    "start_time": "2024-03-17T19:55:08.310Z"
   },
   {
    "duration": 20,
    "start_time": "2024-03-17T19:55:08.315Z"
   },
   {
    "duration": 6,
    "start_time": "2024-03-17T19:55:08.337Z"
   },
   {
    "duration": 138,
    "start_time": "2024-03-17T19:55:08.345Z"
   },
   {
    "duration": 5,
    "start_time": "2024-03-17T19:55:08.486Z"
   },
   {
    "duration": 5,
    "start_time": "2024-03-17T19:55:08.492Z"
   },
   {
    "duration": 8,
    "start_time": "2024-03-17T19:55:08.499Z"
   },
   {
    "duration": 163,
    "start_time": "2024-03-17T19:55:08.509Z"
   },
   {
    "duration": 113,
    "start_time": "2024-03-17T19:55:08.674Z"
   },
   {
    "duration": 5,
    "start_time": "2024-03-17T19:55:08.788Z"
   },
   {
    "duration": 4,
    "start_time": "2024-03-17T19:55:08.795Z"
   },
   {
    "duration": 4,
    "start_time": "2024-03-17T19:55:08.800Z"
   },
   {
    "duration": 14,
    "start_time": "2024-03-17T19:55:08.806Z"
   },
   {
    "duration": 5,
    "start_time": "2024-03-17T19:55:08.821Z"
   },
   {
    "duration": 10,
    "start_time": "2024-03-17T19:55:08.827Z"
   },
   {
    "duration": 49,
    "start_time": "2024-03-17T19:55:08.838Z"
   },
   {
    "duration": 143,
    "start_time": "2024-03-17T19:55:08.888Z"
   },
   {
    "duration": 8,
    "start_time": "2024-03-17T19:55:09.032Z"
   },
   {
    "duration": 117,
    "start_time": "2024-03-17T19:55:09.041Z"
   },
   {
    "duration": 7,
    "start_time": "2024-03-17T19:55:09.159Z"
   },
   {
    "duration": 31,
    "start_time": "2024-03-17T19:55:09.167Z"
   },
   {
    "duration": 14,
    "start_time": "2024-03-17T19:55:09.200Z"
   },
   {
    "duration": 20,
    "start_time": "2024-03-17T19:55:09.215Z"
   },
   {
    "duration": 14,
    "start_time": "2024-03-17T19:55:09.237Z"
   },
   {
    "duration": 218,
    "start_time": "2024-03-17T19:55:09.252Z"
   },
   {
    "duration": 276,
    "start_time": "2024-03-17T19:55:09.471Z"
   },
   {
    "duration": 37,
    "start_time": "2024-03-17T19:55:09.748Z"
   },
   {
    "duration": 4,
    "start_time": "2024-03-17T19:55:09.787Z"
   },
   {
    "duration": 11,
    "start_time": "2024-03-17T19:55:09.792Z"
   },
   {
    "duration": 11,
    "start_time": "2024-03-17T19:55:09.805Z"
   },
   {
    "duration": 14,
    "start_time": "2024-03-17T19:55:09.817Z"
   },
   {
    "duration": 7,
    "start_time": "2024-03-17T19:55:09.833Z"
   },
   {
    "duration": 20,
    "start_time": "2024-03-17T19:55:09.842Z"
   },
   {
    "duration": 108,
    "start_time": "2024-03-17T19:58:42.514Z"
   },
   {
    "duration": 3,
    "start_time": "2024-03-17T19:58:48.261Z"
   },
   {
    "duration": 196,
    "start_time": "2024-03-17T19:58:49.824Z"
   },
   {
    "duration": 18,
    "start_time": "2024-03-17T19:58:56.820Z"
   },
   {
    "duration": 19,
    "start_time": "2024-03-17T20:00:20.323Z"
   },
   {
    "duration": 104,
    "start_time": "2024-03-17T20:01:27.896Z"
   },
   {
    "duration": 99,
    "start_time": "2024-03-17T20:08:17.889Z"
   },
   {
    "duration": 118,
    "start_time": "2024-03-17T20:10:25.666Z"
   },
   {
    "duration": 9,
    "start_time": "2024-03-17T20:11:15.060Z"
   },
   {
    "duration": 6,
    "start_time": "2024-03-17T20:11:33.823Z"
   },
   {
    "duration": 41,
    "start_time": "2024-03-17T20:12:55.383Z"
   },
   {
    "duration": 31,
    "start_time": "2024-03-17T20:13:28.406Z"
   },
   {
    "duration": 10,
    "start_time": "2024-03-17T20:22:24.102Z"
   },
   {
    "duration": 525,
    "start_time": "2024-03-17T20:22:30.479Z"
   },
   {
    "duration": 14,
    "start_time": "2024-03-17T20:22:49.530Z"
   },
   {
    "duration": 14,
    "start_time": "2024-03-17T20:23:10.095Z"
   },
   {
    "duration": 13,
    "start_time": "2024-03-17T20:23:20.140Z"
   },
   {
    "duration": 14,
    "start_time": "2024-03-17T20:23:44.858Z"
   },
   {
    "duration": 90,
    "start_time": "2024-03-17T20:24:27.686Z"
   },
   {
    "duration": 5,
    "start_time": "2024-03-17T20:24:34.308Z"
   },
   {
    "duration": 5,
    "start_time": "2024-03-17T20:29:27.783Z"
   },
   {
    "duration": 6,
    "start_time": "2024-03-17T20:32:14.892Z"
   },
   {
    "duration": 50,
    "start_time": "2024-03-18T09:38:24.783Z"
   },
   {
    "duration": 7,
    "start_time": "2024-03-18T09:39:03.535Z"
   },
   {
    "duration": 1467,
    "start_time": "2024-03-18T09:39:18.366Z"
   },
   {
    "duration": 101,
    "start_time": "2024-03-18T09:39:19.836Z"
   },
   {
    "duration": 17,
    "start_time": "2024-03-18T09:39:19.939Z"
   },
   {
    "duration": 21,
    "start_time": "2024-03-18T09:39:19.958Z"
   },
   {
    "duration": 170,
    "start_time": "2024-03-18T09:39:19.982Z"
   },
   {
    "duration": 12,
    "start_time": "2024-03-18T09:39:20.154Z"
   },
   {
    "duration": 20,
    "start_time": "2024-03-18T09:39:20.168Z"
   },
   {
    "duration": 62,
    "start_time": "2024-03-18T09:39:20.190Z"
   },
   {
    "duration": 11,
    "start_time": "2024-03-18T09:39:20.253Z"
   },
   {
    "duration": 10,
    "start_time": "2024-03-18T09:39:20.266Z"
   },
   {
    "duration": 9,
    "start_time": "2024-03-18T09:39:20.278Z"
   },
   {
    "duration": 11,
    "start_time": "2024-03-18T09:39:20.289Z"
   },
   {
    "duration": 36,
    "start_time": "2024-03-18T09:39:20.302Z"
   },
   {
    "duration": 12,
    "start_time": "2024-03-18T09:39:20.343Z"
   },
   {
    "duration": 6,
    "start_time": "2024-03-18T09:39:20.357Z"
   },
   {
    "duration": 5,
    "start_time": "2024-03-18T09:39:20.365Z"
   },
   {
    "duration": 15,
    "start_time": "2024-03-18T09:39:20.372Z"
   },
   {
    "duration": 9,
    "start_time": "2024-03-18T09:39:20.389Z"
   },
   {
    "duration": 11,
    "start_time": "2024-03-18T09:39:20.400Z"
   },
   {
    "duration": 159,
    "start_time": "2024-03-18T09:39:20.413Z"
   },
   {
    "duration": 8,
    "start_time": "2024-03-18T09:39:20.574Z"
   },
   {
    "duration": 21,
    "start_time": "2024-03-18T09:39:20.583Z"
   },
   {
    "duration": 121,
    "start_time": "2024-03-18T09:39:20.606Z"
   },
   {
    "duration": 3,
    "start_time": "2024-03-18T09:39:20.729Z"
   },
   {
    "duration": 38,
    "start_time": "2024-03-18T09:39:20.733Z"
   },
   {
    "duration": 17,
    "start_time": "2024-03-18T09:39:20.772Z"
   },
   {
    "duration": 148,
    "start_time": "2024-03-18T09:39:20.791Z"
   },
   {
    "duration": 5,
    "start_time": "2024-03-18T09:39:20.940Z"
   },
   {
    "duration": 7,
    "start_time": "2024-03-18T09:39:20.946Z"
   },
   {
    "duration": 21,
    "start_time": "2024-03-18T09:39:20.954Z"
   },
   {
    "duration": 150,
    "start_time": "2024-03-18T09:39:20.976Z"
   },
   {
    "duration": 128,
    "start_time": "2024-03-18T09:39:21.128Z"
   },
   {
    "duration": 5,
    "start_time": "2024-03-18T09:39:21.258Z"
   },
   {
    "duration": 52,
    "start_time": "2024-03-18T09:39:21.264Z"
   },
   {
    "duration": 19,
    "start_time": "2024-03-18T09:39:21.317Z"
   },
   {
    "duration": 20,
    "start_time": "2024-03-18T09:39:21.337Z"
   },
   {
    "duration": 19,
    "start_time": "2024-03-18T09:39:21.359Z"
   },
   {
    "duration": 25,
    "start_time": "2024-03-18T09:39:21.380Z"
   },
   {
    "duration": 11,
    "start_time": "2024-03-18T09:39:21.407Z"
   },
   {
    "duration": 146,
    "start_time": "2024-03-18T09:39:21.420Z"
   },
   {
    "duration": 10,
    "start_time": "2024-03-18T09:39:21.574Z"
   },
   {
    "duration": 119,
    "start_time": "2024-03-18T09:39:21.586Z"
   },
   {
    "duration": 8,
    "start_time": "2024-03-18T09:39:21.706Z"
   },
   {
    "duration": 21,
    "start_time": "2024-03-18T09:39:21.715Z"
   },
   {
    "duration": 16,
    "start_time": "2024-03-18T09:39:21.737Z"
   },
   {
    "duration": 19,
    "start_time": "2024-03-18T09:39:21.773Z"
   },
   {
    "duration": 32,
    "start_time": "2024-03-18T09:39:21.794Z"
   },
   {
    "duration": 15,
    "start_time": "2024-03-18T09:39:21.828Z"
   },
   {
    "duration": 55,
    "start_time": "2024-03-18T09:39:21.845Z"
   },
   {
    "duration": 231,
    "start_time": "2024-03-18T09:39:21.902Z"
   },
   {
    "duration": 274,
    "start_time": "2024-03-18T09:39:22.135Z"
   },
   {
    "duration": 31,
    "start_time": "2024-03-18T09:39:22.410Z"
   },
   {
    "duration": 4,
    "start_time": "2024-03-18T09:39:22.474Z"
   },
   {
    "duration": 24,
    "start_time": "2024-03-18T09:39:22.479Z"
   },
   {
    "duration": 16,
    "start_time": "2024-03-18T09:39:22.504Z"
   },
   {
    "duration": 10,
    "start_time": "2024-03-18T09:39:22.522Z"
   },
   {
    "duration": 9,
    "start_time": "2024-03-18T09:39:22.534Z"
   },
   {
    "duration": 26,
    "start_time": "2024-03-18T09:39:22.545Z"
   },
   {
    "duration": 18,
    "start_time": "2024-03-18T09:39:22.572Z"
   },
   {
    "duration": 210,
    "start_time": "2024-03-18T09:39:22.591Z"
   },
   {
    "duration": 19,
    "start_time": "2024-03-18T09:39:22.802Z"
   },
   {
    "duration": 13,
    "start_time": "2024-03-18T09:39:22.823Z"
   },
   {
    "duration": 14,
    "start_time": "2024-03-18T09:39:22.838Z"
   },
   {
    "duration": 5,
    "start_time": "2024-03-18T09:39:22.854Z"
   },
   {
    "duration": 114,
    "start_time": "2024-03-18T09:39:22.860Z"
   },
   {
    "duration": 12,
    "start_time": "2024-03-18T09:39:46.750Z"
   },
   {
    "duration": 11,
    "start_time": "2024-03-18T09:40:01.407Z"
   },
   {
    "duration": 1333,
    "start_time": "2024-03-18T09:41:54.890Z"
   },
   {
    "duration": 38,
    "start_time": "2024-03-18T09:41:56.226Z"
   },
   {
    "duration": 14,
    "start_time": "2024-03-18T09:41:56.266Z"
   },
   {
    "duration": 19,
    "start_time": "2024-03-18T09:41:56.283Z"
   },
   {
    "duration": 35,
    "start_time": "2024-03-18T09:41:56.304Z"
   },
   {
    "duration": 11,
    "start_time": "2024-03-18T09:41:56.340Z"
   },
   {
    "duration": 34,
    "start_time": "2024-03-18T09:41:56.353Z"
   },
   {
    "duration": 30,
    "start_time": "2024-03-18T09:41:56.389Z"
   },
   {
    "duration": 10,
    "start_time": "2024-03-18T09:41:56.421Z"
   },
   {
    "duration": 20,
    "start_time": "2024-03-18T09:41:56.432Z"
   },
   {
    "duration": 11,
    "start_time": "2024-03-18T09:41:56.453Z"
   },
   {
    "duration": 11,
    "start_time": "2024-03-18T09:41:56.466Z"
   },
   {
    "duration": 20,
    "start_time": "2024-03-18T09:41:56.479Z"
   },
   {
    "duration": 7,
    "start_time": "2024-03-18T09:41:56.504Z"
   },
   {
    "duration": 20,
    "start_time": "2024-03-18T09:41:56.512Z"
   },
   {
    "duration": 4,
    "start_time": "2024-03-18T09:41:56.535Z"
   },
   {
    "duration": 16,
    "start_time": "2024-03-18T09:41:56.541Z"
   },
   {
    "duration": 19,
    "start_time": "2024-03-18T09:41:56.558Z"
   },
   {
    "duration": 10,
    "start_time": "2024-03-18T09:41:56.579Z"
   },
   {
    "duration": 187,
    "start_time": "2024-03-18T09:41:56.591Z"
   },
   {
    "duration": 13,
    "start_time": "2024-03-18T09:41:56.780Z"
   },
   {
    "duration": 8,
    "start_time": "2024-03-18T09:41:56.795Z"
   },
   {
    "duration": 152,
    "start_time": "2024-03-18T09:41:56.804Z"
   },
   {
    "duration": 3,
    "start_time": "2024-03-18T09:41:56.958Z"
   },
   {
    "duration": 46,
    "start_time": "2024-03-18T09:41:56.963Z"
   },
   {
    "duration": 7,
    "start_time": "2024-03-18T09:41:57.011Z"
   },
   {
    "duration": 194,
    "start_time": "2024-03-18T09:41:57.020Z"
   },
   {
    "duration": 5,
    "start_time": "2024-03-18T09:41:57.216Z"
   },
   {
    "duration": 19,
    "start_time": "2024-03-18T09:41:57.222Z"
   },
   {
    "duration": 9,
    "start_time": "2024-03-18T09:41:57.242Z"
   },
   {
    "duration": 175,
    "start_time": "2024-03-18T09:41:57.253Z"
   },
   {
    "duration": 123,
    "start_time": "2024-03-18T09:41:57.430Z"
   },
   {
    "duration": 19,
    "start_time": "2024-03-18T09:41:57.555Z"
   },
   {
    "duration": 16,
    "start_time": "2024-03-18T09:41:57.577Z"
   },
   {
    "duration": 4,
    "start_time": "2024-03-18T09:41:57.595Z"
   },
   {
    "duration": 24,
    "start_time": "2024-03-18T09:41:57.601Z"
   },
   {
    "duration": 8,
    "start_time": "2024-03-18T09:41:57.627Z"
   },
   {
    "duration": 33,
    "start_time": "2024-03-18T09:41:57.636Z"
   },
   {
    "duration": 31,
    "start_time": "2024-03-18T09:41:57.670Z"
   },
   {
    "duration": 164,
    "start_time": "2024-03-18T09:41:57.703Z"
   },
   {
    "duration": 19,
    "start_time": "2024-03-18T09:41:57.878Z"
   },
   {
    "duration": 139,
    "start_time": "2024-03-18T09:41:57.899Z"
   },
   {
    "duration": 7,
    "start_time": "2024-03-18T09:41:58.040Z"
   },
   {
    "duration": 46,
    "start_time": "2024-03-18T09:41:58.049Z"
   },
   {
    "duration": 18,
    "start_time": "2024-03-18T09:41:58.096Z"
   },
   {
    "duration": 19,
    "start_time": "2024-03-18T09:41:58.116Z"
   },
   {
    "duration": 71,
    "start_time": "2024-03-18T09:41:58.137Z"
   },
   {
    "duration": 15,
    "start_time": "2024-03-18T09:41:58.209Z"
   },
   {
    "duration": 55,
    "start_time": "2024-03-18T09:41:58.226Z"
   },
   {
    "duration": 258,
    "start_time": "2024-03-18T09:41:58.283Z"
   },
   {
    "duration": 313,
    "start_time": "2024-03-18T09:41:58.543Z"
   },
   {
    "duration": 51,
    "start_time": "2024-03-18T09:41:58.858Z"
   },
   {
    "duration": 4,
    "start_time": "2024-03-18T09:41:58.911Z"
   },
   {
    "duration": 17,
    "start_time": "2024-03-18T09:41:58.917Z"
   },
   {
    "duration": 15,
    "start_time": "2024-03-18T09:41:58.935Z"
   },
   {
    "duration": 11,
    "start_time": "2024-03-18T09:41:58.952Z"
   },
   {
    "duration": 28,
    "start_time": "2024-03-18T09:41:58.964Z"
   },
   {
    "duration": 22,
    "start_time": "2024-03-18T09:41:58.994Z"
   },
   {
    "duration": 11,
    "start_time": "2024-03-18T09:41:59.018Z"
   },
   {
    "duration": 225,
    "start_time": "2024-03-18T09:41:59.031Z"
   },
   {
    "duration": 21,
    "start_time": "2024-03-18T09:41:59.258Z"
   },
   {
    "duration": 19,
    "start_time": "2024-03-18T09:41:59.282Z"
   },
   {
    "duration": 9,
    "start_time": "2024-03-18T09:41:59.303Z"
   },
   {
    "duration": 7,
    "start_time": "2024-03-18T09:41:59.313Z"
   },
   {
    "duration": 141,
    "start_time": "2024-03-18T09:41:59.322Z"
   },
   {
    "duration": 1663,
    "start_time": "2024-03-18T09:44:21.193Z"
   },
   {
    "duration": 1700,
    "start_time": "2024-03-18T09:44:44.624Z"
   },
   {
    "duration": 1623,
    "start_time": "2024-03-18T09:45:16.820Z"
   },
   {
    "duration": 1583,
    "start_time": "2024-03-18T09:45:39.566Z"
   },
   {
    "duration": 1615,
    "start_time": "2024-03-18T09:45:56.200Z"
   },
   {
    "duration": 1346,
    "start_time": "2024-03-18T09:46:33.384Z"
   },
   {
    "duration": 38,
    "start_time": "2024-03-18T09:46:34.733Z"
   },
   {
    "duration": 16,
    "start_time": "2024-03-18T09:46:34.775Z"
   },
   {
    "duration": 26,
    "start_time": "2024-03-18T09:46:34.794Z"
   },
   {
    "duration": 35,
    "start_time": "2024-03-18T09:46:34.821Z"
   },
   {
    "duration": 24,
    "start_time": "2024-03-18T09:46:34.858Z"
   },
   {
    "duration": 30,
    "start_time": "2024-03-18T09:46:34.886Z"
   },
   {
    "duration": 20,
    "start_time": "2024-03-18T09:46:34.918Z"
   },
   {
    "duration": 11,
    "start_time": "2024-03-18T09:46:34.940Z"
   },
   {
    "duration": 22,
    "start_time": "2024-03-18T09:46:34.954Z"
   },
   {
    "duration": 34,
    "start_time": "2024-03-18T09:46:34.979Z"
   },
   {
    "duration": 120,
    "start_time": "2024-03-18T09:46:35.015Z"
   },
   {
    "duration": 35,
    "start_time": "2024-03-18T09:46:35.137Z"
   },
   {
    "duration": 26,
    "start_time": "2024-03-18T09:46:35.178Z"
   },
   {
    "duration": 14,
    "start_time": "2024-03-18T09:46:35.206Z"
   },
   {
    "duration": 11,
    "start_time": "2024-03-18T09:46:35.222Z"
   },
   {
    "duration": 20,
    "start_time": "2024-03-18T09:46:35.235Z"
   },
   {
    "duration": 10,
    "start_time": "2024-03-18T09:46:35.258Z"
   },
   {
    "duration": 15,
    "start_time": "2024-03-18T09:46:35.270Z"
   },
   {
    "duration": 173,
    "start_time": "2024-03-18T09:46:35.288Z"
   },
   {
    "duration": 17,
    "start_time": "2024-03-18T09:46:35.463Z"
   },
   {
    "duration": 13,
    "start_time": "2024-03-18T09:46:35.482Z"
   },
   {
    "duration": 171,
    "start_time": "2024-03-18T09:46:35.497Z"
   },
   {
    "duration": 6,
    "start_time": "2024-03-18T09:46:35.670Z"
   },
   {
    "duration": 40,
    "start_time": "2024-03-18T09:46:35.679Z"
   },
   {
    "duration": 24,
    "start_time": "2024-03-18T09:46:35.721Z"
   },
   {
    "duration": 156,
    "start_time": "2024-03-18T09:46:35.747Z"
   },
   {
    "duration": 5,
    "start_time": "2024-03-18T09:46:35.908Z"
   },
   {
    "duration": 24,
    "start_time": "2024-03-18T09:46:35.915Z"
   },
   {
    "duration": 18,
    "start_time": "2024-03-18T09:46:35.941Z"
   },
   {
    "duration": 179,
    "start_time": "2024-03-18T09:46:35.961Z"
   },
   {
    "duration": 157,
    "start_time": "2024-03-18T09:46:36.143Z"
   },
   {
    "duration": 6,
    "start_time": "2024-03-18T09:46:36.302Z"
   },
   {
    "duration": 8,
    "start_time": "2024-03-18T09:46:36.310Z"
   },
   {
    "duration": 16,
    "start_time": "2024-03-18T09:46:36.319Z"
   },
   {
    "duration": 32,
    "start_time": "2024-03-18T09:46:36.337Z"
   },
   {
    "duration": 8,
    "start_time": "2024-03-18T09:46:36.371Z"
   },
   {
    "duration": 19,
    "start_time": "2024-03-18T09:46:36.381Z"
   },
   {
    "duration": 11,
    "start_time": "2024-03-18T09:46:36.402Z"
   },
   {
    "duration": 186,
    "start_time": "2024-03-18T09:46:36.414Z"
   },
   {
    "duration": 10,
    "start_time": "2024-03-18T09:46:36.602Z"
   },
   {
    "duration": 144,
    "start_time": "2024-03-18T09:46:36.613Z"
   },
   {
    "duration": 35,
    "start_time": "2024-03-18T09:46:36.759Z"
   },
   {
    "duration": 31,
    "start_time": "2024-03-18T09:46:36.796Z"
   },
   {
    "duration": 18,
    "start_time": "2024-03-18T09:46:36.829Z"
   },
   {
    "duration": 25,
    "start_time": "2024-03-18T09:46:36.849Z"
   },
   {
    "duration": 54,
    "start_time": "2024-03-18T09:46:36.879Z"
   },
   {
    "duration": 16,
    "start_time": "2024-03-18T09:46:36.934Z"
   },
   {
    "duration": 59,
    "start_time": "2024-03-18T09:46:36.952Z"
   },
   {
    "duration": 234,
    "start_time": "2024-03-18T09:46:37.013Z"
   },
   {
    "duration": 312,
    "start_time": "2024-03-18T09:46:37.248Z"
   },
   {
    "duration": 47,
    "start_time": "2024-03-18T09:46:37.569Z"
   },
   {
    "duration": 4,
    "start_time": "2024-03-18T09:46:37.618Z"
   },
   {
    "duration": 6,
    "start_time": "2024-03-18T09:46:37.624Z"
   },
   {
    "duration": 18,
    "start_time": "2024-03-18T09:46:37.632Z"
   },
   {
    "duration": 25,
    "start_time": "2024-03-18T09:46:37.651Z"
   },
   {
    "duration": 20,
    "start_time": "2024-03-18T09:46:37.682Z"
   },
   {
    "duration": 16,
    "start_time": "2024-03-18T09:46:37.705Z"
   },
   {
    "duration": 4,
    "start_time": "2024-03-18T09:46:37.723Z"
   },
   {
    "duration": 255,
    "start_time": "2024-03-18T09:46:37.729Z"
   },
   {
    "duration": 17,
    "start_time": "2024-03-18T09:46:37.986Z"
   },
   {
    "duration": 15,
    "start_time": "2024-03-18T09:46:38.005Z"
   },
   {
    "duration": 11,
    "start_time": "2024-03-18T09:46:38.022Z"
   },
   {
    "duration": 15,
    "start_time": "2024-03-18T09:46:38.035Z"
   },
   {
    "duration": 1668,
    "start_time": "2024-03-18T09:46:38.051Z"
   },
   {
    "duration": 0,
    "start_time": "2024-03-18T09:46:39.722Z"
   },
   {
    "duration": 1571,
    "start_time": "2024-03-18T09:50:13.013Z"
   },
   {
    "duration": 1629,
    "start_time": "2024-03-18T09:50:57.231Z"
   },
   {
    "duration": 1566,
    "start_time": "2024-03-18T09:51:27.083Z"
   },
   {
    "duration": 1592,
    "start_time": "2024-03-18T09:52:03.988Z"
   },
   {
    "duration": 1518,
    "start_time": "2024-03-18T09:52:23.212Z"
   },
   {
    "duration": 8,
    "start_time": "2024-03-18T09:52:32.547Z"
   },
   {
    "duration": 15,
    "start_time": "2024-03-18T09:54:08.314Z"
   },
   {
    "duration": 11,
    "start_time": "2024-03-18T09:54:54.352Z"
   },
   {
    "duration": 19,
    "start_time": "2024-03-18T09:55:25.276Z"
   },
   {
    "duration": 13,
    "start_time": "2024-03-18T09:55:28.863Z"
   },
   {
    "duration": 11,
    "start_time": "2024-03-18T09:55:37.641Z"
   },
   {
    "duration": 14,
    "start_time": "2024-03-18T09:55:47.427Z"
   },
   {
    "duration": 1625,
    "start_time": "2024-03-18T09:58:08.247Z"
   },
   {
    "duration": 4,
    "start_time": "2024-03-18T09:59:20.967Z"
   },
   {
    "duration": 12,
    "start_time": "2024-03-18T09:59:26.821Z"
   },
   {
    "duration": 37,
    "start_time": "2024-03-18T10:00:40.158Z"
   },
   {
    "duration": 9,
    "start_time": "2024-03-18T10:01:37.721Z"
   },
   {
    "duration": 9,
    "start_time": "2024-03-18T10:02:01.523Z"
   },
   {
    "duration": 1377,
    "start_time": "2024-03-18T10:03:05.681Z"
   },
   {
    "duration": 49,
    "start_time": "2024-03-18T10:03:07.060Z"
   },
   {
    "duration": 15,
    "start_time": "2024-03-18T10:03:07.110Z"
   },
   {
    "duration": 33,
    "start_time": "2024-03-18T10:03:07.128Z"
   },
   {
    "duration": 47,
    "start_time": "2024-03-18T10:03:07.163Z"
   },
   {
    "duration": 11,
    "start_time": "2024-03-18T10:03:07.212Z"
   },
   {
    "duration": 28,
    "start_time": "2024-03-18T10:03:07.225Z"
   },
   {
    "duration": 35,
    "start_time": "2024-03-18T10:03:07.255Z"
   },
   {
    "duration": 13,
    "start_time": "2024-03-18T10:03:07.293Z"
   },
   {
    "duration": 6,
    "start_time": "2024-03-18T10:03:07.309Z"
   },
   {
    "duration": 6,
    "start_time": "2024-03-18T10:03:07.316Z"
   },
   {
    "duration": 6,
    "start_time": "2024-03-18T10:03:07.323Z"
   },
   {
    "duration": 17,
    "start_time": "2024-03-18T10:03:07.330Z"
   },
   {
    "duration": 34,
    "start_time": "2024-03-18T10:03:07.348Z"
   },
   {
    "duration": 7,
    "start_time": "2024-03-18T10:03:07.385Z"
   },
   {
    "duration": 7,
    "start_time": "2024-03-18T10:03:07.394Z"
   },
   {
    "duration": 12,
    "start_time": "2024-03-18T10:03:07.402Z"
   },
   {
    "duration": 18,
    "start_time": "2024-03-18T10:03:07.416Z"
   },
   {
    "duration": 13,
    "start_time": "2024-03-18T10:03:07.436Z"
   },
   {
    "duration": 204,
    "start_time": "2024-03-18T10:03:07.451Z"
   },
   {
    "duration": 17,
    "start_time": "2024-03-18T10:03:07.657Z"
   },
   {
    "duration": 8,
    "start_time": "2024-03-18T10:03:07.676Z"
   },
   {
    "duration": 155,
    "start_time": "2024-03-18T10:03:07.686Z"
   },
   {
    "duration": 4,
    "start_time": "2024-03-18T10:03:07.843Z"
   },
   {
    "duration": 34,
    "start_time": "2024-03-18T10:03:07.848Z"
   },
   {
    "duration": 16,
    "start_time": "2024-03-18T10:03:07.885Z"
   },
   {
    "duration": 150,
    "start_time": "2024-03-18T10:03:07.903Z"
   },
   {
    "duration": 4,
    "start_time": "2024-03-18T10:03:08.057Z"
   },
   {
    "duration": 17,
    "start_time": "2024-03-18T10:03:08.063Z"
   },
   {
    "duration": 19,
    "start_time": "2024-03-18T10:03:08.084Z"
   },
   {
    "duration": 173,
    "start_time": "2024-03-18T10:03:08.104Z"
   },
   {
    "duration": 130,
    "start_time": "2024-03-18T10:03:08.282Z"
   },
   {
    "duration": 6,
    "start_time": "2024-03-18T10:03:08.414Z"
   },
   {
    "duration": 19,
    "start_time": "2024-03-18T10:03:08.422Z"
   },
   {
    "duration": 5,
    "start_time": "2024-03-18T10:03:08.442Z"
   },
   {
    "duration": 32,
    "start_time": "2024-03-18T10:03:08.449Z"
   },
   {
    "duration": 9,
    "start_time": "2024-03-18T10:03:08.483Z"
   },
   {
    "duration": 19,
    "start_time": "2024-03-18T10:03:08.494Z"
   },
   {
    "duration": 17,
    "start_time": "2024-03-18T10:03:08.515Z"
   },
   {
    "duration": 165,
    "start_time": "2024-03-18T10:03:08.534Z"
   },
   {
    "duration": 10,
    "start_time": "2024-03-18T10:03:08.700Z"
   },
   {
    "duration": 141,
    "start_time": "2024-03-18T10:03:08.711Z"
   },
   {
    "duration": 20,
    "start_time": "2024-03-18T10:03:08.854Z"
   },
   {
    "duration": 42,
    "start_time": "2024-03-18T10:03:08.877Z"
   },
   {
    "duration": 16,
    "start_time": "2024-03-18T10:03:08.920Z"
   },
   {
    "duration": 31,
    "start_time": "2024-03-18T10:03:08.937Z"
   },
   {
    "duration": 53,
    "start_time": "2024-03-18T10:03:08.969Z"
   },
   {
    "duration": 23,
    "start_time": "2024-03-18T10:03:09.025Z"
   },
   {
    "duration": 47,
    "start_time": "2024-03-18T10:03:09.072Z"
   },
   {
    "duration": 244,
    "start_time": "2024-03-18T10:03:09.122Z"
   },
   {
    "duration": 308,
    "start_time": "2024-03-18T10:03:09.368Z"
   },
   {
    "duration": 35,
    "start_time": "2024-03-18T10:03:09.679Z"
   },
   {
    "duration": 4,
    "start_time": "2024-03-18T10:03:09.716Z"
   },
   {
    "duration": 30,
    "start_time": "2024-03-18T10:03:09.722Z"
   },
   {
    "duration": 17,
    "start_time": "2024-03-18T10:03:09.753Z"
   },
   {
    "duration": 15,
    "start_time": "2024-03-18T10:03:09.772Z"
   },
   {
    "duration": 12,
    "start_time": "2024-03-18T10:03:09.789Z"
   },
   {
    "duration": 26,
    "start_time": "2024-03-18T10:03:09.803Z"
   },
   {
    "duration": 3,
    "start_time": "2024-03-18T10:03:09.831Z"
   },
   {
    "duration": 230,
    "start_time": "2024-03-18T10:03:09.835Z"
   },
   {
    "duration": 24,
    "start_time": "2024-03-18T10:03:10.067Z"
   },
   {
    "duration": 7,
    "start_time": "2024-03-18T10:03:10.094Z"
   },
   {
    "duration": 27,
    "start_time": "2024-03-18T10:03:10.102Z"
   },
   {
    "duration": 33,
    "start_time": "2024-03-18T10:03:10.131Z"
   },
   {
    "duration": 262,
    "start_time": "2024-03-18T10:41:02.721Z"
   },
   {
    "duration": 258,
    "start_time": "2024-03-18T10:41:47.209Z"
   },
   {
    "duration": 1930,
    "start_time": "2024-03-18T10:52:13.136Z"
   },
   {
    "duration": 1883,
    "start_time": "2024-03-18T10:52:36.563Z"
   },
   {
    "duration": 135,
    "start_time": "2024-03-18T11:32:27.977Z"
   },
   {
    "duration": 1986,
    "start_time": "2024-03-18T11:33:23.616Z"
   },
   {
    "duration": 266,
    "start_time": "2024-03-18T11:34:37.301Z"
   },
   {
    "duration": 248,
    "start_time": "2024-03-18T11:34:41.664Z"
   },
   {
    "duration": 325,
    "start_time": "2024-03-18T11:35:38.993Z"
   },
   {
    "duration": 335,
    "start_time": "2024-03-18T11:35:46.080Z"
   },
   {
    "duration": 179,
    "start_time": "2024-03-18T11:35:59.009Z"
   },
   {
    "duration": 101,
    "start_time": "2024-03-18T11:49:11.707Z"
   },
   {
    "duration": 464,
    "start_time": "2024-03-18T11:49:30.766Z"
   },
   {
    "duration": 144,
    "start_time": "2024-03-18T11:50:18.431Z"
   },
   {
    "duration": 492,
    "start_time": "2024-03-18T11:50:29.292Z"
   },
   {
    "duration": 139,
    "start_time": "2024-03-18T11:50:37.425Z"
   },
   {
    "duration": 104,
    "start_time": "2024-03-18T11:51:55.826Z"
   },
   {
    "duration": 6,
    "start_time": "2024-03-18T12:14:24.317Z"
   },
   {
    "duration": 37137,
    "start_time": "2024-03-18T12:17:35.386Z"
   },
   {
    "duration": 174,
    "start_time": "2024-03-18T12:22:09.345Z"
   },
   {
    "duration": 8,
    "start_time": "2024-03-18T12:22:35.787Z"
   },
   {
    "duration": 167,
    "start_time": "2024-03-18T12:22:53.241Z"
   },
   {
    "duration": 147,
    "start_time": "2024-03-18T12:24:09.521Z"
   },
   {
    "duration": 114,
    "start_time": "2024-03-18T12:24:17.429Z"
   },
   {
    "duration": 155,
    "start_time": "2024-03-18T12:24:22.410Z"
   },
   {
    "duration": 138,
    "start_time": "2024-03-18T12:24:37.218Z"
   },
   {
    "duration": 152,
    "start_time": "2024-03-18T12:24:42.373Z"
   },
   {
    "duration": 151,
    "start_time": "2024-03-18T12:26:00.248Z"
   },
   {
    "duration": 148,
    "start_time": "2024-03-18T12:26:35.370Z"
   },
   {
    "duration": 153,
    "start_time": "2024-03-18T12:41:47.093Z"
   },
   {
    "duration": 159,
    "start_time": "2024-03-18T12:43:40.175Z"
   },
   {
    "duration": 131,
    "start_time": "2024-03-18T12:43:48.501Z"
   },
   {
    "duration": 1353,
    "start_time": "2024-03-18T12:44:00.638Z"
   },
   {
    "duration": 39,
    "start_time": "2024-03-18T12:44:01.994Z"
   },
   {
    "duration": 100,
    "start_time": "2024-03-18T12:44:02.035Z"
   },
   {
    "duration": 83,
    "start_time": "2024-03-18T12:44:02.137Z"
   },
   {
    "duration": 273,
    "start_time": "2024-03-18T12:44:02.222Z"
   },
   {
    "duration": 22,
    "start_time": "2024-03-18T12:44:02.498Z"
   },
   {
    "duration": 61,
    "start_time": "2024-03-18T12:44:02.522Z"
   },
   {
    "duration": 43,
    "start_time": "2024-03-18T12:44:02.585Z"
   },
   {
    "duration": 10,
    "start_time": "2024-03-18T12:44:02.630Z"
   },
   {
    "duration": 21,
    "start_time": "2024-03-18T12:44:02.642Z"
   },
   {
    "duration": 34,
    "start_time": "2024-03-18T12:44:02.664Z"
   },
   {
    "duration": 15,
    "start_time": "2024-03-18T12:44:02.700Z"
   },
   {
    "duration": 16,
    "start_time": "2024-03-18T12:44:02.716Z"
   },
   {
    "duration": 26,
    "start_time": "2024-03-18T12:44:02.734Z"
   },
   {
    "duration": 27,
    "start_time": "2024-03-18T12:44:02.762Z"
   },
   {
    "duration": 49,
    "start_time": "2024-03-18T12:44:02.792Z"
   },
   {
    "duration": 23,
    "start_time": "2024-03-18T12:44:02.842Z"
   },
   {
    "duration": 17,
    "start_time": "2024-03-18T12:44:02.867Z"
   },
   {
    "duration": 27,
    "start_time": "2024-03-18T12:44:02.886Z"
   },
   {
    "duration": 175,
    "start_time": "2024-03-18T12:44:02.915Z"
   },
   {
    "duration": 9,
    "start_time": "2024-03-18T12:44:03.092Z"
   },
   {
    "duration": 15,
    "start_time": "2024-03-18T12:44:03.102Z"
   },
   {
    "duration": 135,
    "start_time": "2024-03-18T12:44:03.119Z"
   },
   {
    "duration": 3,
    "start_time": "2024-03-18T12:44:03.256Z"
   },
   {
    "duration": 27,
    "start_time": "2024-03-18T12:44:03.273Z"
   },
   {
    "duration": 7,
    "start_time": "2024-03-18T12:44:03.304Z"
   },
   {
    "duration": 173,
    "start_time": "2024-03-18T12:44:03.313Z"
   },
   {
    "duration": 17,
    "start_time": "2024-03-18T12:44:03.493Z"
   },
   {
    "duration": 11,
    "start_time": "2024-03-18T12:44:03.512Z"
   },
   {
    "duration": 9,
    "start_time": "2024-03-18T12:44:03.525Z"
   },
   {
    "duration": 183,
    "start_time": "2024-03-18T12:44:03.536Z"
   },
   {
    "duration": 128,
    "start_time": "2024-03-18T12:44:03.721Z"
   },
   {
    "duration": 6,
    "start_time": "2024-03-18T12:44:03.850Z"
   },
   {
    "duration": 24,
    "start_time": "2024-03-18T12:44:03.857Z"
   },
   {
    "duration": 10,
    "start_time": "2024-03-18T12:44:03.884Z"
   },
   {
    "duration": 19,
    "start_time": "2024-03-18T12:44:03.896Z"
   },
   {
    "duration": 5,
    "start_time": "2024-03-18T12:44:03.916Z"
   },
   {
    "duration": 14,
    "start_time": "2024-03-18T12:44:03.923Z"
   },
   {
    "duration": 38,
    "start_time": "2024-03-18T12:44:03.938Z"
   },
   {
    "duration": 178,
    "start_time": "2024-03-18T12:44:03.979Z"
   },
   {
    "duration": 20,
    "start_time": "2024-03-18T12:44:04.159Z"
   },
   {
    "duration": 123,
    "start_time": "2024-03-18T12:44:04.181Z"
   },
   {
    "duration": 11,
    "start_time": "2024-03-18T12:44:04.305Z"
   },
   {
    "duration": 21,
    "start_time": "2024-03-18T12:44:04.317Z"
   },
   {
    "duration": 37,
    "start_time": "2024-03-18T12:44:04.339Z"
   },
   {
    "duration": 26,
    "start_time": "2024-03-18T12:44:04.377Z"
   },
   {
    "duration": 33,
    "start_time": "2024-03-18T12:44:04.405Z"
   },
   {
    "duration": 45,
    "start_time": "2024-03-18T12:44:04.439Z"
   },
   {
    "duration": 35,
    "start_time": "2024-03-18T12:44:04.486Z"
   },
   {
    "duration": 237,
    "start_time": "2024-03-18T12:44:04.523Z"
   },
   {
    "duration": 298,
    "start_time": "2024-03-18T12:44:04.762Z"
   },
   {
    "duration": 56,
    "start_time": "2024-03-18T12:44:05.062Z"
   },
   {
    "duration": 5,
    "start_time": "2024-03-18T12:44:05.121Z"
   },
   {
    "duration": 27,
    "start_time": "2024-03-18T12:44:05.128Z"
   },
   {
    "duration": 34,
    "start_time": "2024-03-18T12:44:05.157Z"
   },
   {
    "duration": 27,
    "start_time": "2024-03-18T12:44:05.196Z"
   },
   {
    "duration": 48,
    "start_time": "2024-03-18T12:44:05.225Z"
   },
   {
    "duration": 39,
    "start_time": "2024-03-18T12:44:05.275Z"
   },
   {
    "duration": 3,
    "start_time": "2024-03-18T12:44:05.316Z"
   },
   {
    "duration": 251,
    "start_time": "2024-03-18T12:44:05.321Z"
   },
   {
    "duration": 16,
    "start_time": "2024-03-18T12:44:05.576Z"
   },
   {
    "duration": 10,
    "start_time": "2024-03-18T12:44:05.594Z"
   },
   {
    "duration": 8,
    "start_time": "2024-03-18T12:44:05.605Z"
   },
   {
    "duration": 10,
    "start_time": "2024-03-18T12:44:05.615Z"
   },
   {
    "duration": 1827,
    "start_time": "2024-03-18T12:44:05.627Z"
   },
   {
    "duration": 160,
    "start_time": "2024-03-18T12:44:07.456Z"
   },
   {
    "duration": 8,
    "start_time": "2024-03-18T12:44:07.618Z"
   },
   {
    "duration": 156,
    "start_time": "2024-03-18T12:44:07.628Z"
   },
   {
    "duration": 159,
    "start_time": "2024-03-18T12:47:42.450Z"
   },
   {
    "duration": 10,
    "start_time": "2024-03-18T12:47:46.594Z"
   },
   {
    "duration": 119,
    "start_time": "2024-03-18T12:47:51.548Z"
   },
   {
    "duration": 1397,
    "start_time": "2024-03-18T12:49:55.771Z"
   },
   {
    "duration": 40,
    "start_time": "2024-03-18T12:49:57.173Z"
   },
   {
    "duration": 11,
    "start_time": "2024-03-18T12:49:57.215Z"
   },
   {
    "duration": 19,
    "start_time": "2024-03-18T12:49:57.227Z"
   },
   {
    "duration": 40,
    "start_time": "2024-03-18T12:49:57.249Z"
   },
   {
    "duration": 13,
    "start_time": "2024-03-18T12:49:57.292Z"
   },
   {
    "duration": 40,
    "start_time": "2024-03-18T12:49:57.307Z"
   },
   {
    "duration": 20,
    "start_time": "2024-03-18T12:49:57.349Z"
   },
   {
    "duration": 16,
    "start_time": "2024-03-18T12:49:57.370Z"
   },
   {
    "duration": 11,
    "start_time": "2024-03-18T12:49:57.389Z"
   },
   {
    "duration": 8,
    "start_time": "2024-03-18T12:49:57.403Z"
   },
   {
    "duration": 14,
    "start_time": "2024-03-18T12:49:57.414Z"
   },
   {
    "duration": 13,
    "start_time": "2024-03-18T12:49:57.430Z"
   },
   {
    "duration": 16,
    "start_time": "2024-03-18T12:49:57.446Z"
   },
   {
    "duration": 11,
    "start_time": "2024-03-18T12:49:57.463Z"
   },
   {
    "duration": 7,
    "start_time": "2024-03-18T12:49:57.477Z"
   },
   {
    "duration": 16,
    "start_time": "2024-03-18T12:49:57.487Z"
   },
   {
    "duration": 8,
    "start_time": "2024-03-18T12:49:57.505Z"
   },
   {
    "duration": 6,
    "start_time": "2024-03-18T12:49:57.514Z"
   },
   {
    "duration": 208,
    "start_time": "2024-03-18T12:49:57.521Z"
   },
   {
    "duration": 8,
    "start_time": "2024-03-18T12:49:57.730Z"
   },
   {
    "duration": 19,
    "start_time": "2024-03-18T12:49:57.739Z"
   },
   {
    "duration": 151,
    "start_time": "2024-03-18T12:49:57.760Z"
   },
   {
    "duration": 3,
    "start_time": "2024-03-18T12:49:57.913Z"
   },
   {
    "duration": 36,
    "start_time": "2024-03-18T12:49:57.918Z"
   },
   {
    "duration": 14,
    "start_time": "2024-03-18T12:49:57.955Z"
   },
   {
    "duration": 170,
    "start_time": "2024-03-18T12:49:57.971Z"
   },
   {
    "duration": 4,
    "start_time": "2024-03-18T12:49:58.143Z"
   },
   {
    "duration": 31,
    "start_time": "2024-03-18T12:49:58.149Z"
   },
   {
    "duration": 29,
    "start_time": "2024-03-18T12:49:58.182Z"
   },
   {
    "duration": 176,
    "start_time": "2024-03-18T12:49:58.213Z"
   },
   {
    "duration": 137,
    "start_time": "2024-03-18T12:49:58.392Z"
   },
   {
    "duration": 5,
    "start_time": "2024-03-18T12:49:58.530Z"
   },
   {
    "duration": 20,
    "start_time": "2024-03-18T12:49:58.537Z"
   },
   {
    "duration": 25,
    "start_time": "2024-03-18T12:49:58.558Z"
   },
   {
    "duration": 33,
    "start_time": "2024-03-18T12:49:58.585Z"
   },
   {
    "duration": 5,
    "start_time": "2024-03-18T12:49:58.620Z"
   },
   {
    "duration": 14,
    "start_time": "2024-03-18T12:49:58.627Z"
   },
   {
    "duration": 8,
    "start_time": "2024-03-18T12:49:58.642Z"
   },
   {
    "duration": 174,
    "start_time": "2024-03-18T12:49:58.652Z"
   },
   {
    "duration": 9,
    "start_time": "2024-03-18T12:49:58.830Z"
   },
   {
    "duration": 148,
    "start_time": "2024-03-18T12:49:58.840Z"
   },
   {
    "duration": 9,
    "start_time": "2024-03-18T12:49:58.989Z"
   },
   {
    "duration": 29,
    "start_time": "2024-03-18T12:49:59.000Z"
   },
   {
    "duration": 16,
    "start_time": "2024-03-18T12:49:59.030Z"
   },
   {
    "duration": 45,
    "start_time": "2024-03-18T12:49:59.047Z"
   },
   {
    "duration": 35,
    "start_time": "2024-03-18T12:49:59.094Z"
   },
   {
    "duration": 34,
    "start_time": "2024-03-18T12:49:59.130Z"
   },
   {
    "duration": 36,
    "start_time": "2024-03-18T12:49:59.166Z"
   },
   {
    "duration": 236,
    "start_time": "2024-03-18T12:49:59.204Z"
   },
   {
    "duration": 322,
    "start_time": "2024-03-18T12:49:59.442Z"
   },
   {
    "duration": 47,
    "start_time": "2024-03-18T12:49:59.766Z"
   },
   {
    "duration": 4,
    "start_time": "2024-03-18T12:49:59.815Z"
   },
   {
    "duration": 10,
    "start_time": "2024-03-18T12:49:59.821Z"
   },
   {
    "duration": 15,
    "start_time": "2024-03-18T12:49:59.832Z"
   },
   {
    "duration": 12,
    "start_time": "2024-03-18T12:49:59.849Z"
   },
   {
    "duration": 25,
    "start_time": "2024-03-18T12:49:59.862Z"
   },
   {
    "duration": 18,
    "start_time": "2024-03-18T12:49:59.893Z"
   },
   {
    "duration": 3,
    "start_time": "2024-03-18T12:49:59.913Z"
   },
   {
    "duration": 271,
    "start_time": "2024-03-18T12:49:59.918Z"
   },
   {
    "duration": 14,
    "start_time": "2024-03-18T12:50:00.192Z"
   },
   {
    "duration": 91,
    "start_time": "2024-03-18T12:50:00.208Z"
   },
   {
    "duration": 57,
    "start_time": "2024-03-18T12:50:00.302Z"
   },
   {
    "duration": 58,
    "start_time": "2024-03-18T12:50:00.361Z"
   },
   {
    "duration": 1999,
    "start_time": "2024-03-18T12:50:00.421Z"
   },
   {
    "duration": 145,
    "start_time": "2024-03-18T12:50:02.422Z"
   },
   {
    "duration": 9,
    "start_time": "2024-03-18T12:50:02.572Z"
   },
   {
    "duration": 154,
    "start_time": "2024-03-18T12:50:02.584Z"
   },
   {
    "duration": 115,
    "start_time": "2024-03-18T12:53:35.732Z"
   },
   {
    "duration": 106709,
    "start_time": "2024-03-18T12:54:44.971Z"
   },
   {
    "duration": 157,
    "start_time": "2024-03-18T12:57:22.132Z"
   },
   {
    "duration": 136,
    "start_time": "2024-03-18T12:57:35.081Z"
   },
   {
    "duration": 37058,
    "start_time": "2024-03-18T12:58:27.199Z"
   },
   {
    "duration": 196,
    "start_time": "2024-03-18T12:59:13.300Z"
   },
   {
    "duration": 204,
    "start_time": "2024-03-18T12:59:50.271Z"
   },
   {
    "duration": 127,
    "start_time": "2024-03-18T13:00:11.797Z"
   },
   {
    "duration": 183,
    "start_time": "2024-03-18T13:00:19.467Z"
   },
   {
    "duration": 183,
    "start_time": "2024-03-18T13:01:19.239Z"
   },
   {
    "duration": 3,
    "start_time": "2024-03-18T13:02:39.820Z"
   },
   {
    "duration": 1270,
    "start_time": "2024-03-18T13:06:32.023Z"
   },
   {
    "duration": 41,
    "start_time": "2024-03-18T13:06:33.295Z"
   },
   {
    "duration": 13,
    "start_time": "2024-03-18T13:06:33.338Z"
   },
   {
    "duration": 31,
    "start_time": "2024-03-18T13:06:33.354Z"
   },
   {
    "duration": 57,
    "start_time": "2024-03-18T13:06:33.388Z"
   },
   {
    "duration": 18,
    "start_time": "2024-03-18T13:06:33.447Z"
   },
   {
    "duration": 55,
    "start_time": "2024-03-18T13:06:33.467Z"
   },
   {
    "duration": 24,
    "start_time": "2024-03-18T13:06:33.524Z"
   },
   {
    "duration": 17,
    "start_time": "2024-03-18T13:06:33.549Z"
   },
   {
    "duration": 40,
    "start_time": "2024-03-18T13:06:33.569Z"
   },
   {
    "duration": 17,
    "start_time": "2024-03-18T13:06:33.611Z"
   },
   {
    "duration": 17,
    "start_time": "2024-03-18T13:06:33.629Z"
   },
   {
    "duration": 25,
    "start_time": "2024-03-18T13:06:33.648Z"
   },
   {
    "duration": 35,
    "start_time": "2024-03-18T13:06:33.675Z"
   },
   {
    "duration": 38,
    "start_time": "2024-03-18T13:06:33.712Z"
   },
   {
    "duration": 15,
    "start_time": "2024-03-18T13:06:33.751Z"
   },
   {
    "duration": 36,
    "start_time": "2024-03-18T13:06:33.768Z"
   },
   {
    "duration": 32,
    "start_time": "2024-03-18T13:06:33.806Z"
   },
   {
    "duration": 7,
    "start_time": "2024-03-18T13:06:33.840Z"
   },
   {
    "duration": 189,
    "start_time": "2024-03-18T13:06:33.848Z"
   },
   {
    "duration": 9,
    "start_time": "2024-03-18T13:06:34.039Z"
   },
   {
    "duration": 34,
    "start_time": "2024-03-18T13:06:34.050Z"
   },
   {
    "duration": 145,
    "start_time": "2024-03-18T13:06:34.086Z"
   },
   {
    "duration": 4,
    "start_time": "2024-03-18T13:06:34.233Z"
   },
   {
    "duration": 25,
    "start_time": "2024-03-18T13:06:34.239Z"
   },
   {
    "duration": 41,
    "start_time": "2024-03-18T13:06:34.266Z"
   },
   {
    "duration": 142,
    "start_time": "2024-03-18T13:06:34.308Z"
   },
   {
    "duration": 4,
    "start_time": "2024-03-18T13:06:34.455Z"
   },
   {
    "duration": 35,
    "start_time": "2024-03-18T13:06:34.461Z"
   },
   {
    "duration": 48,
    "start_time": "2024-03-18T13:06:34.497Z"
   },
   {
    "duration": 200,
    "start_time": "2024-03-18T13:06:34.546Z"
   },
   {
    "duration": 135,
    "start_time": "2024-03-18T13:06:34.748Z"
   },
   {
    "duration": 11,
    "start_time": "2024-03-18T13:06:34.886Z"
   },
   {
    "duration": 16,
    "start_time": "2024-03-18T13:06:34.901Z"
   },
   {
    "duration": 29,
    "start_time": "2024-03-18T13:06:34.918Z"
   },
   {
    "duration": 55,
    "start_time": "2024-03-18T13:06:34.948Z"
   },
   {
    "duration": 20,
    "start_time": "2024-03-18T13:06:35.005Z"
   },
   {
    "duration": 18,
    "start_time": "2024-03-18T13:06:35.027Z"
   },
   {
    "duration": 42,
    "start_time": "2024-03-18T13:06:35.047Z"
   },
   {
    "duration": 169,
    "start_time": "2024-03-18T13:06:35.092Z"
   },
   {
    "duration": 15,
    "start_time": "2024-03-18T13:06:35.262Z"
   },
   {
    "duration": 128,
    "start_time": "2024-03-18T13:06:35.280Z"
   },
   {
    "duration": 7,
    "start_time": "2024-03-18T13:06:35.409Z"
   },
   {
    "duration": 30,
    "start_time": "2024-03-18T13:06:35.417Z"
   },
   {
    "duration": 24,
    "start_time": "2024-03-18T13:06:35.449Z"
   },
   {
    "duration": 31,
    "start_time": "2024-03-18T13:06:35.475Z"
   },
   {
    "duration": 38,
    "start_time": "2024-03-18T13:06:35.508Z"
   },
   {
    "duration": 25,
    "start_time": "2024-03-18T13:06:35.548Z"
   },
   {
    "duration": 43,
    "start_time": "2024-03-18T13:06:35.575Z"
   },
   {
    "duration": 224,
    "start_time": "2024-03-18T13:06:35.619Z"
   },
   {
    "duration": 315,
    "start_time": "2024-03-18T13:06:35.845Z"
   },
   {
    "duration": 40,
    "start_time": "2024-03-18T13:06:36.162Z"
   },
   {
    "duration": 7,
    "start_time": "2024-03-18T13:06:36.205Z"
   },
   {
    "duration": 7,
    "start_time": "2024-03-18T13:06:36.213Z"
   },
   {
    "duration": 50,
    "start_time": "2024-03-18T13:06:36.222Z"
   },
   {
    "duration": 23,
    "start_time": "2024-03-18T13:06:36.274Z"
   },
   {
    "duration": 21,
    "start_time": "2024-03-18T13:06:36.299Z"
   },
   {
    "duration": 22,
    "start_time": "2024-03-18T13:06:36.322Z"
   },
   {
    "duration": 15,
    "start_time": "2024-03-18T13:06:36.346Z"
   },
   {
    "duration": 257,
    "start_time": "2024-03-18T13:06:36.362Z"
   },
   {
    "duration": 11,
    "start_time": "2024-03-18T13:06:36.621Z"
   },
   {
    "duration": 35,
    "start_time": "2024-03-18T13:06:36.634Z"
   },
   {
    "duration": 21,
    "start_time": "2024-03-18T13:06:36.670Z"
   },
   {
    "duration": 11,
    "start_time": "2024-03-18T13:06:36.693Z"
   },
   {
    "duration": 1848,
    "start_time": "2024-03-18T13:06:36.706Z"
   },
   {
    "duration": 175,
    "start_time": "2024-03-18T13:06:38.556Z"
   },
   {
    "duration": 5,
    "start_time": "2024-03-18T13:06:38.733Z"
   },
   {
    "duration": 218,
    "start_time": "2024-03-18T13:06:38.740Z"
   },
   {
    "duration": 1350,
    "start_time": "2024-03-18T14:29:44.641Z"
   },
   {
    "duration": 90,
    "start_time": "2024-03-18T14:29:45.993Z"
   },
   {
    "duration": 11,
    "start_time": "2024-03-18T14:29:46.085Z"
   },
   {
    "duration": 28,
    "start_time": "2024-03-18T14:29:46.098Z"
   },
   {
    "duration": 78,
    "start_time": "2024-03-18T14:29:46.128Z"
   },
   {
    "duration": 12,
    "start_time": "2024-03-18T14:29:46.208Z"
   },
   {
    "duration": 18,
    "start_time": "2024-03-18T14:29:46.222Z"
   },
   {
    "duration": 58,
    "start_time": "2024-03-18T14:29:46.242Z"
   },
   {
    "duration": 10,
    "start_time": "2024-03-18T14:29:46.302Z"
   },
   {
    "duration": 6,
    "start_time": "2024-03-18T14:29:46.314Z"
   },
   {
    "duration": 5,
    "start_time": "2024-03-18T14:29:46.322Z"
   },
   {
    "duration": 9,
    "start_time": "2024-03-18T14:29:46.328Z"
   },
   {
    "duration": 10,
    "start_time": "2024-03-18T14:29:46.339Z"
   },
   {
    "duration": 8,
    "start_time": "2024-03-18T14:29:46.350Z"
   },
   {
    "duration": 6,
    "start_time": "2024-03-18T14:29:46.359Z"
   },
   {
    "duration": 3,
    "start_time": "2024-03-18T14:29:46.367Z"
   },
   {
    "duration": 45,
    "start_time": "2024-03-18T14:29:46.371Z"
   },
   {
    "duration": 8,
    "start_time": "2024-03-18T14:29:46.417Z"
   },
   {
    "duration": 5,
    "start_time": "2024-03-18T14:29:46.427Z"
   },
   {
    "duration": 283,
    "start_time": "2024-03-18T14:29:46.433Z"
   },
   {
    "duration": 9,
    "start_time": "2024-03-18T14:29:46.718Z"
   },
   {
    "duration": 13,
    "start_time": "2024-03-18T14:29:46.729Z"
   },
   {
    "duration": 245,
    "start_time": "2024-03-18T14:29:46.744Z"
   },
   {
    "duration": 3,
    "start_time": "2024-03-18T14:29:46.991Z"
   },
   {
    "duration": 28,
    "start_time": "2024-03-18T14:29:46.996Z"
   },
   {
    "duration": 9,
    "start_time": "2024-03-18T14:29:47.025Z"
   },
   {
    "duration": 287,
    "start_time": "2024-03-18T14:29:47.036Z"
   },
   {
    "duration": 6,
    "start_time": "2024-03-18T14:29:47.328Z"
   },
   {
    "duration": 9,
    "start_time": "2024-03-18T14:29:47.336Z"
   },
   {
    "duration": 12,
    "start_time": "2024-03-18T14:29:47.347Z"
   },
   {
    "duration": 292,
    "start_time": "2024-03-18T14:29:47.361Z"
   },
   {
    "duration": 211,
    "start_time": "2024-03-18T14:29:47.654Z"
   },
   {
    "duration": 5,
    "start_time": "2024-03-18T14:29:47.866Z"
   },
   {
    "duration": 15,
    "start_time": "2024-03-18T14:29:47.873Z"
   },
   {
    "duration": 4,
    "start_time": "2024-03-18T14:29:47.890Z"
   },
   {
    "duration": 29,
    "start_time": "2024-03-18T14:29:47.895Z"
   },
   {
    "duration": 5,
    "start_time": "2024-03-18T14:29:47.925Z"
   },
   {
    "duration": 33,
    "start_time": "2024-03-18T14:29:47.931Z"
   },
   {
    "duration": 8,
    "start_time": "2024-03-18T14:29:47.966Z"
   },
   {
    "duration": 327,
    "start_time": "2024-03-18T14:29:47.976Z"
   },
   {
    "duration": 14,
    "start_time": "2024-03-18T14:29:48.305Z"
   },
   {
    "duration": 248,
    "start_time": "2024-03-18T14:29:48.321Z"
   },
   {
    "duration": 8,
    "start_time": "2024-03-18T14:29:48.570Z"
   },
   {
    "duration": 39,
    "start_time": "2024-03-18T14:29:48.580Z"
   },
   {
    "duration": 15,
    "start_time": "2024-03-18T14:29:48.621Z"
   },
   {
    "duration": 17,
    "start_time": "2024-03-18T14:29:48.638Z"
   },
   {
    "duration": 32,
    "start_time": "2024-03-18T14:29:48.657Z"
   },
   {
    "duration": 38,
    "start_time": "2024-03-18T14:29:48.690Z"
   },
   {
    "duration": 31,
    "start_time": "2024-03-18T14:29:48.730Z"
   },
   {
    "duration": 364,
    "start_time": "2024-03-18T14:29:48.762Z"
   },
   {
    "duration": 375,
    "start_time": "2024-03-18T14:29:49.127Z"
   },
   {
    "duration": 35,
    "start_time": "2024-03-18T14:29:49.504Z"
   },
   {
    "duration": 5,
    "start_time": "2024-03-18T14:29:49.540Z"
   },
   {
    "duration": 20,
    "start_time": "2024-03-18T14:29:49.548Z"
   },
   {
    "duration": 14,
    "start_time": "2024-03-18T14:29:49.570Z"
   },
   {
    "duration": 13,
    "start_time": "2024-03-18T14:29:49.586Z"
   },
   {
    "duration": 21,
    "start_time": "2024-03-18T14:29:49.601Z"
   },
   {
    "duration": 14,
    "start_time": "2024-03-18T14:29:49.623Z"
   },
   {
    "duration": 3,
    "start_time": "2024-03-18T14:29:49.639Z"
   },
   {
    "duration": 250,
    "start_time": "2024-03-18T14:29:49.643Z"
   },
   {
    "duration": 21,
    "start_time": "2024-03-18T14:29:49.894Z"
   },
   {
    "duration": 5,
    "start_time": "2024-03-18T14:29:49.917Z"
   },
   {
    "duration": 5,
    "start_time": "2024-03-18T14:29:49.924Z"
   },
   {
    "duration": 14,
    "start_time": "2024-03-18T14:29:49.931Z"
   },
   {
    "duration": 1826,
    "start_time": "2024-03-18T14:29:49.946Z"
   },
   {
    "duration": 158,
    "start_time": "2024-03-18T14:29:51.774Z"
   },
   {
    "duration": 6,
    "start_time": "2024-03-18T14:29:51.934Z"
   },
   {
    "duration": 350,
    "start_time": "2024-03-18T14:29:51.942Z"
   },
   {
    "duration": 7,
    "start_time": "2024-03-18T14:35:28.580Z"
   },
   {
    "duration": 123,
    "start_time": "2024-03-19T10:42:18.523Z"
   },
   {
    "duration": 1321,
    "start_time": "2024-03-19T10:42:54.692Z"
   },
   {
    "duration": 93,
    "start_time": "2024-03-19T10:42:56.016Z"
   },
   {
    "duration": 11,
    "start_time": "2024-03-19T10:42:56.110Z"
   },
   {
    "duration": 15,
    "start_time": "2024-03-19T10:42:56.123Z"
   },
   {
    "duration": 147,
    "start_time": "2024-03-19T10:42:56.141Z"
   },
   {
    "duration": 11,
    "start_time": "2024-03-19T10:42:56.290Z"
   },
   {
    "duration": 16,
    "start_time": "2024-03-19T10:42:56.302Z"
   },
   {
    "duration": 58,
    "start_time": "2024-03-19T10:42:56.320Z"
   },
   {
    "duration": 9,
    "start_time": "2024-03-19T10:42:56.380Z"
   },
   {
    "duration": 10,
    "start_time": "2024-03-19T10:42:56.391Z"
   },
   {
    "duration": 4,
    "start_time": "2024-03-19T10:42:56.402Z"
   },
   {
    "duration": 14,
    "start_time": "2024-03-19T10:42:56.407Z"
   },
   {
    "duration": 16,
    "start_time": "2024-03-19T10:42:56.423Z"
   },
   {
    "duration": 103,
    "start_time": "2024-03-19T10:42:56.441Z"
   },
   {
    "duration": 1,
    "start_time": "2024-03-19T10:42:56.546Z"
   },
   {
    "duration": 0,
    "start_time": "2024-03-19T10:42:56.548Z"
   },
   {
    "duration": 0,
    "start_time": "2024-03-19T10:42:56.550Z"
   },
   {
    "duration": 0,
    "start_time": "2024-03-19T10:42:56.551Z"
   },
   {
    "duration": 0,
    "start_time": "2024-03-19T10:42:56.552Z"
   },
   {
    "duration": 0,
    "start_time": "2024-03-19T10:42:56.553Z"
   },
   {
    "duration": 0,
    "start_time": "2024-03-19T10:42:56.554Z"
   },
   {
    "duration": 0,
    "start_time": "2024-03-19T10:42:56.555Z"
   },
   {
    "duration": 0,
    "start_time": "2024-03-19T10:42:56.556Z"
   },
   {
    "duration": 0,
    "start_time": "2024-03-19T10:42:56.557Z"
   },
   {
    "duration": 0,
    "start_time": "2024-03-19T10:42:56.559Z"
   },
   {
    "duration": 0,
    "start_time": "2024-03-19T10:42:56.560Z"
   },
   {
    "duration": 0,
    "start_time": "2024-03-19T10:42:56.561Z"
   },
   {
    "duration": 0,
    "start_time": "2024-03-19T10:42:56.562Z"
   },
   {
    "duration": 0,
    "start_time": "2024-03-19T10:42:56.563Z"
   },
   {
    "duration": 0,
    "start_time": "2024-03-19T10:42:56.564Z"
   },
   {
    "duration": 0,
    "start_time": "2024-03-19T10:42:56.565Z"
   },
   {
    "duration": 0,
    "start_time": "2024-03-19T10:42:56.567Z"
   },
   {
    "duration": 0,
    "start_time": "2024-03-19T10:42:56.568Z"
   },
   {
    "duration": 0,
    "start_time": "2024-03-19T10:42:56.569Z"
   },
   {
    "duration": 0,
    "start_time": "2024-03-19T10:42:56.570Z"
   },
   {
    "duration": 0,
    "start_time": "2024-03-19T10:42:56.571Z"
   },
   {
    "duration": 0,
    "start_time": "2024-03-19T10:42:56.573Z"
   },
   {
    "duration": 0,
    "start_time": "2024-03-19T10:42:56.573Z"
   },
   {
    "duration": 0,
    "start_time": "2024-03-19T10:42:56.574Z"
   },
   {
    "duration": 0,
    "start_time": "2024-03-19T10:42:56.576Z"
   },
   {
    "duration": 0,
    "start_time": "2024-03-19T10:42:56.577Z"
   },
   {
    "duration": 0,
    "start_time": "2024-03-19T10:42:56.578Z"
   },
   {
    "duration": 0,
    "start_time": "2024-03-19T10:42:56.579Z"
   },
   {
    "duration": 0,
    "start_time": "2024-03-19T10:42:56.580Z"
   },
   {
    "duration": 0,
    "start_time": "2024-03-19T10:42:56.581Z"
   },
   {
    "duration": 0,
    "start_time": "2024-03-19T10:42:56.583Z"
   },
   {
    "duration": 0,
    "start_time": "2024-03-19T10:42:56.583Z"
   },
   {
    "duration": 0,
    "start_time": "2024-03-19T10:42:56.584Z"
   },
   {
    "duration": 0,
    "start_time": "2024-03-19T10:42:56.586Z"
   },
   {
    "duration": 0,
    "start_time": "2024-03-19T10:42:56.587Z"
   },
   {
    "duration": 0,
    "start_time": "2024-03-19T10:42:56.588Z"
   },
   {
    "duration": 0,
    "start_time": "2024-03-19T10:42:56.589Z"
   },
   {
    "duration": 0,
    "start_time": "2024-03-19T10:42:56.590Z"
   },
   {
    "duration": 0,
    "start_time": "2024-03-19T10:42:56.591Z"
   },
   {
    "duration": 1,
    "start_time": "2024-03-19T10:42:56.591Z"
   },
   {
    "duration": 0,
    "start_time": "2024-03-19T10:42:56.592Z"
   },
   {
    "duration": 0,
    "start_time": "2024-03-19T10:42:56.593Z"
   },
   {
    "duration": 0,
    "start_time": "2024-03-19T10:42:56.594Z"
   },
   {
    "duration": 0,
    "start_time": "2024-03-19T10:42:56.595Z"
   },
   {
    "duration": 0,
    "start_time": "2024-03-19T10:42:56.597Z"
   },
   {
    "duration": 0,
    "start_time": "2024-03-19T10:42:56.598Z"
   },
   {
    "duration": 0,
    "start_time": "2024-03-19T10:42:56.599Z"
   },
   {
    "duration": 0,
    "start_time": "2024-03-19T10:42:56.600Z"
   },
   {
    "duration": 0,
    "start_time": "2024-03-19T10:42:56.601Z"
   },
   {
    "duration": 0,
    "start_time": "2024-03-19T10:42:56.602Z"
   },
   {
    "duration": 0,
    "start_time": "2024-03-19T10:42:56.603Z"
   },
   {
    "duration": 0,
    "start_time": "2024-03-19T10:42:56.604Z"
   },
   {
    "duration": 0,
    "start_time": "2024-03-19T10:42:56.605Z"
   },
   {
    "duration": 0,
    "start_time": "2024-03-19T10:42:56.606Z"
   },
   {
    "duration": 7,
    "start_time": "2024-03-19T10:43:43.284Z"
   },
   {
    "duration": 1172,
    "start_time": "2024-03-19T10:47:04.451Z"
   },
   {
    "duration": 36,
    "start_time": "2024-03-19T10:47:05.625Z"
   },
   {
    "duration": 11,
    "start_time": "2024-03-19T10:47:05.662Z"
   },
   {
    "duration": 58,
    "start_time": "2024-03-19T10:47:05.675Z"
   },
   {
    "duration": 33,
    "start_time": "2024-03-19T10:47:05.735Z"
   },
   {
    "duration": 10,
    "start_time": "2024-03-19T10:47:05.770Z"
   },
   {
    "duration": 18,
    "start_time": "2024-03-19T10:47:05.782Z"
   },
   {
    "duration": 19,
    "start_time": "2024-03-19T10:47:05.801Z"
   },
   {
    "duration": 9,
    "start_time": "2024-03-19T10:47:05.822Z"
   },
   {
    "duration": 12,
    "start_time": "2024-03-19T10:47:05.833Z"
   },
   {
    "duration": 19,
    "start_time": "2024-03-19T10:47:05.847Z"
   },
   {
    "duration": 9,
    "start_time": "2024-03-19T10:47:05.867Z"
   },
   {
    "duration": 36,
    "start_time": "2024-03-19T10:47:05.878Z"
   },
   {
    "duration": 13,
    "start_time": "2024-03-19T10:47:05.917Z"
   },
   {
    "duration": 7,
    "start_time": "2024-03-19T10:47:05.931Z"
   },
   {
    "duration": 7,
    "start_time": "2024-03-19T10:47:05.939Z"
   },
   {
    "duration": 5,
    "start_time": "2024-03-19T10:47:05.947Z"
   },
   {
    "duration": 10,
    "start_time": "2024-03-19T10:47:05.953Z"
   },
   {
    "duration": 14,
    "start_time": "2024-03-19T10:47:05.964Z"
   },
   {
    "duration": 5,
    "start_time": "2024-03-19T10:47:05.979Z"
   },
   {
    "duration": 145,
    "start_time": "2024-03-19T10:47:05.985Z"
   },
   {
    "duration": 8,
    "start_time": "2024-03-19T10:47:06.131Z"
   },
   {
    "duration": 17,
    "start_time": "2024-03-19T10:47:06.140Z"
   },
   {
    "duration": 122,
    "start_time": "2024-03-19T10:47:06.159Z"
   },
   {
    "duration": 3,
    "start_time": "2024-03-19T10:47:06.283Z"
   },
   {
    "duration": 26,
    "start_time": "2024-03-19T10:47:06.288Z"
   },
   {
    "duration": 11,
    "start_time": "2024-03-19T10:47:06.315Z"
   },
   {
    "duration": 143,
    "start_time": "2024-03-19T10:47:06.328Z"
   },
   {
    "duration": 8,
    "start_time": "2024-03-19T10:47:06.473Z"
   },
   {
    "duration": 8,
    "start_time": "2024-03-19T10:47:06.482Z"
   },
   {
    "duration": 19,
    "start_time": "2024-03-19T10:47:06.491Z"
   },
   {
    "duration": 161,
    "start_time": "2024-03-19T10:47:06.512Z"
   },
   {
    "duration": 113,
    "start_time": "2024-03-19T10:47:06.674Z"
   },
   {
    "duration": 5,
    "start_time": "2024-03-19T10:47:06.789Z"
   },
   {
    "duration": 5,
    "start_time": "2024-03-19T10:47:06.795Z"
   },
   {
    "duration": 5,
    "start_time": "2024-03-19T10:47:06.801Z"
   },
   {
    "duration": 15,
    "start_time": "2024-03-19T10:47:06.807Z"
   },
   {
    "duration": 5,
    "start_time": "2024-03-19T10:47:06.823Z"
   },
   {
    "duration": 10,
    "start_time": "2024-03-19T10:47:06.829Z"
   },
   {
    "duration": 44,
    "start_time": "2024-03-19T10:47:06.840Z"
   },
   {
    "duration": 145,
    "start_time": "2024-03-19T10:47:06.888Z"
   },
   {
    "duration": 9,
    "start_time": "2024-03-19T10:47:07.034Z"
   },
   {
    "duration": 113,
    "start_time": "2024-03-19T10:47:07.044Z"
   },
   {
    "duration": 7,
    "start_time": "2024-03-19T10:47:07.158Z"
   },
   {
    "duration": 31,
    "start_time": "2024-03-19T10:47:07.166Z"
   },
   {
    "duration": 15,
    "start_time": "2024-03-19T10:47:07.199Z"
   },
   {
    "duration": 20,
    "start_time": "2024-03-19T10:47:07.216Z"
   },
   {
    "duration": 63,
    "start_time": "2024-03-19T10:47:07.237Z"
   },
   {
    "duration": 16,
    "start_time": "2024-03-19T10:47:07.301Z"
   },
   {
    "duration": 32,
    "start_time": "2024-03-19T10:47:07.318Z"
   },
   {
    "duration": 219,
    "start_time": "2024-03-19T10:47:07.351Z"
   },
   {
    "duration": 275,
    "start_time": "2024-03-19T10:47:07.572Z"
   },
   {
    "duration": 37,
    "start_time": "2024-03-19T10:47:07.849Z"
   },
   {
    "duration": 4,
    "start_time": "2024-03-19T10:47:07.888Z"
   },
   {
    "duration": 5,
    "start_time": "2024-03-19T10:47:07.893Z"
   },
   {
    "duration": 11,
    "start_time": "2024-03-19T10:47:07.899Z"
   },
   {
    "duration": 8,
    "start_time": "2024-03-19T10:47:07.912Z"
   },
   {
    "duration": 8,
    "start_time": "2024-03-19T10:47:07.922Z"
   },
   {
    "duration": 14,
    "start_time": "2024-03-19T10:47:07.931Z"
   },
   {
    "duration": 4,
    "start_time": "2024-03-19T10:47:07.981Z"
   },
   {
    "duration": 207,
    "start_time": "2024-03-19T10:47:07.987Z"
   },
   {
    "duration": 11,
    "start_time": "2024-03-19T10:47:08.196Z"
   },
   {
    "duration": 4,
    "start_time": "2024-03-19T10:47:08.209Z"
   },
   {
    "duration": 20,
    "start_time": "2024-03-19T10:47:08.214Z"
   },
   {
    "duration": 8,
    "start_time": "2024-03-19T10:47:08.235Z"
   },
   {
    "duration": 1568,
    "start_time": "2024-03-19T10:47:08.244Z"
   },
   {
    "duration": 141,
    "start_time": "2024-03-19T10:47:09.814Z"
   },
   {
    "duration": 5,
    "start_time": "2024-03-19T10:47:09.956Z"
   },
   {
    "duration": 167,
    "start_time": "2024-03-19T10:47:09.962Z"
   },
   {
    "duration": 5,
    "start_time": "2024-03-19T10:47:35.173Z"
   },
   {
    "duration": 89,
    "start_time": "2024-03-19T10:48:05.082Z"
   },
   {
    "duration": 134,
    "start_time": "2024-03-19T10:48:49.588Z"
   },
   {
    "duration": 5,
    "start_time": "2024-03-19T10:48:54.521Z"
   },
   {
    "duration": 1206,
    "start_time": "2024-03-19T10:49:05.274Z"
   },
   {
    "duration": 36,
    "start_time": "2024-03-19T10:49:06.482Z"
   },
   {
    "duration": 11,
    "start_time": "2024-03-19T10:49:06.519Z"
   },
   {
    "duration": 19,
    "start_time": "2024-03-19T10:49:06.532Z"
   },
   {
    "duration": 37,
    "start_time": "2024-03-19T10:49:06.554Z"
   },
   {
    "duration": 10,
    "start_time": "2024-03-19T10:49:06.593Z"
   },
   {
    "duration": 38,
    "start_time": "2024-03-19T10:49:06.605Z"
   },
   {
    "duration": 19,
    "start_time": "2024-03-19T10:49:06.644Z"
   },
   {
    "duration": 10,
    "start_time": "2024-03-19T10:49:06.664Z"
   },
   {
    "duration": 21,
    "start_time": "2024-03-19T10:49:06.675Z"
   },
   {
    "duration": 5,
    "start_time": "2024-03-19T10:49:06.697Z"
   },
   {
    "duration": 6,
    "start_time": "2024-03-19T10:49:06.703Z"
   },
   {
    "duration": 13,
    "start_time": "2024-03-19T10:49:06.710Z"
   },
   {
    "duration": 6,
    "start_time": "2024-03-19T10:49:06.726Z"
   },
   {
    "duration": 7,
    "start_time": "2024-03-19T10:49:06.733Z"
   },
   {
    "duration": 4,
    "start_time": "2024-03-19T10:49:06.742Z"
   },
   {
    "duration": 7,
    "start_time": "2024-03-19T10:49:06.748Z"
   },
   {
    "duration": 28,
    "start_time": "2024-03-19T10:49:06.756Z"
   },
   {
    "duration": 8,
    "start_time": "2024-03-19T10:49:06.785Z"
   },
   {
    "duration": 34,
    "start_time": "2024-03-19T10:49:06.794Z"
   },
   {
    "duration": 159,
    "start_time": "2024-03-19T10:49:06.830Z"
   },
   {
    "duration": 8,
    "start_time": "2024-03-19T10:49:06.991Z"
   },
   {
    "duration": 32,
    "start_time": "2024-03-19T10:49:07.000Z"
   },
   {
    "duration": 111,
    "start_time": "2024-03-19T10:49:07.034Z"
   },
   {
    "duration": 4,
    "start_time": "2024-03-19T10:49:07.146Z"
   },
   {
    "duration": 34,
    "start_time": "2024-03-19T10:49:07.152Z"
   },
   {
    "duration": 23,
    "start_time": "2024-03-19T10:49:07.188Z"
   },
   {
    "duration": 156,
    "start_time": "2024-03-19T10:49:07.213Z"
   },
   {
    "duration": 11,
    "start_time": "2024-03-19T10:49:07.371Z"
   },
   {
    "duration": 6,
    "start_time": "2024-03-19T10:49:07.383Z"
   },
   {
    "duration": 39,
    "start_time": "2024-03-19T10:49:07.390Z"
   },
   {
    "duration": 121,
    "start_time": "2024-03-19T10:49:07.430Z"
   },
   {
    "duration": 100,
    "start_time": "2024-03-19T10:49:07.552Z"
   },
   {
    "duration": 5,
    "start_time": "2024-03-19T10:49:07.653Z"
   },
   {
    "duration": 21,
    "start_time": "2024-03-19T10:49:07.659Z"
   },
   {
    "duration": 4,
    "start_time": "2024-03-19T10:49:07.681Z"
   },
   {
    "duration": 20,
    "start_time": "2024-03-19T10:49:07.687Z"
   },
   {
    "duration": 5,
    "start_time": "2024-03-19T10:49:07.708Z"
   },
   {
    "duration": 33,
    "start_time": "2024-03-19T10:49:07.714Z"
   },
   {
    "duration": 8,
    "start_time": "2024-03-19T10:49:07.748Z"
   },
   {
    "duration": 126,
    "start_time": "2024-03-19T10:49:07.759Z"
   },
   {
    "duration": 7,
    "start_time": "2024-03-19T10:49:07.886Z"
   },
   {
    "duration": 106,
    "start_time": "2024-03-19T10:49:07.895Z"
   },
   {
    "duration": 6,
    "start_time": "2024-03-19T10:49:08.002Z"
   },
   {
    "duration": 30,
    "start_time": "2024-03-19T10:49:08.009Z"
   },
   {
    "duration": 13,
    "start_time": "2024-03-19T10:49:08.041Z"
   },
   {
    "duration": 27,
    "start_time": "2024-03-19T10:49:08.055Z"
   },
   {
    "duration": 29,
    "start_time": "2024-03-19T10:49:08.084Z"
   },
   {
    "duration": 13,
    "start_time": "2024-03-19T10:49:08.114Z"
   },
   {
    "duration": 29,
    "start_time": "2024-03-19T10:49:08.128Z"
   },
   {
    "duration": 189,
    "start_time": "2024-03-19T10:49:08.181Z"
   },
   {
    "duration": 269,
    "start_time": "2024-03-19T10:49:08.371Z"
   },
   {
    "duration": 30,
    "start_time": "2024-03-19T10:49:08.641Z"
   },
   {
    "duration": 10,
    "start_time": "2024-03-19T10:49:08.672Z"
   },
   {
    "duration": 5,
    "start_time": "2024-03-19T10:49:08.683Z"
   },
   {
    "duration": 20,
    "start_time": "2024-03-19T10:49:08.690Z"
   },
   {
    "duration": 26,
    "start_time": "2024-03-19T10:49:08.712Z"
   },
   {
    "duration": 10,
    "start_time": "2024-03-19T10:49:08.739Z"
   },
   {
    "duration": 15,
    "start_time": "2024-03-19T10:49:08.751Z"
   },
   {
    "duration": 13,
    "start_time": "2024-03-19T10:49:08.768Z"
   },
   {
    "duration": 203,
    "start_time": "2024-03-19T10:49:08.783Z"
   },
   {
    "duration": 11,
    "start_time": "2024-03-19T10:49:08.988Z"
   },
   {
    "duration": 33,
    "start_time": "2024-03-19T10:49:09.001Z"
   },
   {
    "duration": 6,
    "start_time": "2024-03-19T10:49:09.035Z"
   },
   {
    "duration": 7,
    "start_time": "2024-03-19T10:49:09.042Z"
   },
   {
    "duration": 1656,
    "start_time": "2024-03-19T10:49:09.051Z"
   },
   {
    "duration": 138,
    "start_time": "2024-03-19T10:49:10.709Z"
   },
   {
    "duration": 5,
    "start_time": "2024-03-19T10:49:10.849Z"
   },
   {
    "duration": 170,
    "start_time": "2024-03-19T10:49:10.856Z"
   },
   {
    "duration": 148,
    "start_time": "2024-03-19T11:06:32.365Z"
   },
   {
    "duration": 149,
    "start_time": "2024-03-19T11:07:31.237Z"
   },
   {
    "duration": 239,
    "start_time": "2024-03-19T11:08:10.326Z"
   },
   {
    "duration": 158,
    "start_time": "2024-03-19T11:08:27.685Z"
   },
   {
    "duration": 157,
    "start_time": "2024-03-19T11:10:09.779Z"
   },
   {
    "duration": 167,
    "start_time": "2024-03-19T11:10:16.041Z"
   },
   {
    "duration": 156,
    "start_time": "2024-03-19T11:10:22.390Z"
   },
   {
    "duration": 154,
    "start_time": "2024-03-19T11:10:26.573Z"
   },
   {
    "duration": 199,
    "start_time": "2024-03-19T11:10:39.799Z"
   },
   {
    "duration": 90,
    "start_time": "2024-03-19T11:11:17.012Z"
   },
   {
    "duration": 82,
    "start_time": "2024-03-19T11:11:32.333Z"
   },
   {
    "duration": 106,
    "start_time": "2024-03-19T11:15:26.289Z"
   },
   {
    "duration": 114,
    "start_time": "2024-03-19T11:15:36.535Z"
   },
   {
    "duration": 87,
    "start_time": "2024-03-19T11:17:40.047Z"
   },
   {
    "duration": 9,
    "start_time": "2024-03-19T11:18:41.471Z"
   },
   {
    "duration": 129,
    "start_time": "2024-03-19T11:18:58.241Z"
   },
   {
    "duration": 117,
    "start_time": "2024-03-19T11:19:10.888Z"
   },
   {
    "duration": 113,
    "start_time": "2024-03-19T11:19:18.244Z"
   },
   {
    "duration": 86,
    "start_time": "2024-03-19T11:19:27.303Z"
   },
   {
    "duration": 83,
    "start_time": "2024-03-19T11:20:33.005Z"
   },
   {
    "duration": 86,
    "start_time": "2024-03-19T11:20:44.929Z"
   },
   {
    "duration": 90,
    "start_time": "2024-03-19T11:20:58.421Z"
   },
   {
    "duration": 10,
    "start_time": "2024-03-19T11:21:06.805Z"
   },
   {
    "duration": 98,
    "start_time": "2024-03-19T11:21:11.098Z"
   },
   {
    "duration": 132,
    "start_time": "2024-03-19T11:25:56.327Z"
   },
   {
    "duration": 130,
    "start_time": "2024-03-19T11:26:35.843Z"
   },
   {
    "duration": 133,
    "start_time": "2024-03-19T11:26:50.408Z"
   },
   {
    "duration": 140,
    "start_time": "2024-03-19T11:27:15.130Z"
   },
   {
    "duration": 137,
    "start_time": "2024-03-19T11:27:21.712Z"
   },
   {
    "duration": 131,
    "start_time": "2024-03-19T11:27:27.424Z"
   },
   {
    "duration": 133,
    "start_time": "2024-03-19T11:27:37.903Z"
   },
   {
    "duration": 143,
    "start_time": "2024-03-19T11:28:17.731Z"
   },
   {
    "duration": 146,
    "start_time": "2024-03-19T11:28:29.637Z"
   },
   {
    "duration": 141,
    "start_time": "2024-03-19T11:28:37.786Z"
   },
   {
    "duration": 323,
    "start_time": "2024-03-19T11:28:58.475Z"
   },
   {
    "duration": 154,
    "start_time": "2024-03-19T11:30:44.126Z"
   },
   {
    "duration": 281,
    "start_time": "2024-03-19T11:30:49.349Z"
   },
   {
    "duration": 202,
    "start_time": "2024-03-19T11:30:57.478Z"
   },
   {
    "duration": 175,
    "start_time": "2024-03-19T11:31:33.880Z"
   },
   {
    "duration": 153,
    "start_time": "2024-03-19T11:34:24.042Z"
   },
   {
    "duration": 169,
    "start_time": "2024-03-19T11:34:36.568Z"
   },
   {
    "duration": 156,
    "start_time": "2024-03-19T11:34:42.152Z"
   },
   {
    "duration": 173,
    "start_time": "2024-03-19T11:35:05.097Z"
   },
   {
    "duration": 151,
    "start_time": "2024-03-19T11:35:55.929Z"
   },
   {
    "duration": 160,
    "start_time": "2024-03-19T12:02:49.191Z"
   },
   {
    "duration": 166,
    "start_time": "2024-03-19T12:03:22.910Z"
   },
   {
    "duration": 149,
    "start_time": "2024-03-19T12:03:31.188Z"
   },
   {
    "duration": 186,
    "start_time": "2024-03-19T12:07:08.141Z"
   },
   {
    "duration": 166,
    "start_time": "2024-03-19T12:07:18.825Z"
   },
   {
    "duration": 118,
    "start_time": "2024-03-19T12:08:00.121Z"
   },
   {
    "duration": 112,
    "start_time": "2024-03-19T12:08:06.638Z"
   },
   {
    "duration": 327,
    "start_time": "2024-03-19T12:08:13.258Z"
   },
   {
    "duration": 106,
    "start_time": "2024-03-19T12:08:31.922Z"
   },
   {
    "duration": 150,
    "start_time": "2024-03-19T12:08:47.454Z"
   },
   {
    "duration": 170,
    "start_time": "2024-03-19T12:11:43.045Z"
   },
   {
    "duration": 218,
    "start_time": "2024-03-19T12:12:54.274Z"
   },
   {
    "duration": 179,
    "start_time": "2024-03-19T12:13:05.820Z"
   },
   {
    "duration": 186,
    "start_time": "2024-03-19T12:13:16.224Z"
   },
   {
    "duration": 173,
    "start_time": "2024-03-19T12:13:24.723Z"
   },
   {
    "duration": 189,
    "start_time": "2024-03-19T12:13:33.553Z"
   },
   {
    "duration": 16,
    "start_time": "2024-03-19T12:16:19.426Z"
   },
   {
    "duration": 12,
    "start_time": "2024-03-19T12:17:03.090Z"
   },
   {
    "duration": 12,
    "start_time": "2024-03-19T12:17:12.573Z"
   },
   {
    "duration": 109,
    "start_time": "2024-03-19T12:17:20.837Z"
   },
   {
    "duration": 103,
    "start_time": "2024-03-19T12:17:40.753Z"
   },
   {
    "duration": 19,
    "start_time": "2024-03-19T12:17:46.260Z"
   },
   {
    "duration": 17,
    "start_time": "2024-03-19T12:18:25.336Z"
   },
   {
    "duration": 11,
    "start_time": "2024-03-19T12:18:58.976Z"
   },
   {
    "duration": 15,
    "start_time": "2024-03-19T12:19:06.614Z"
   },
   {
    "duration": 20,
    "start_time": "2024-03-19T12:19:58.504Z"
   },
   {
    "duration": 136,
    "start_time": "2024-03-19T12:25:36.232Z"
   },
   {
    "duration": 108,
    "start_time": "2024-03-19T12:25:56.008Z"
   },
   {
    "duration": 113,
    "start_time": "2024-03-19T12:26:16.222Z"
   },
   {
    "duration": 111,
    "start_time": "2024-03-19T12:26:19.198Z"
   },
   {
    "duration": 4,
    "start_time": "2024-03-19T12:30:03.844Z"
   },
   {
    "duration": 4,
    "start_time": "2024-03-19T12:30:34.873Z"
   },
   {
    "duration": 11,
    "start_time": "2024-03-19T12:30:47.864Z"
   },
   {
    "duration": 198,
    "start_time": "2024-03-19T12:33:21.675Z"
   },
   {
    "duration": 186,
    "start_time": "2024-03-19T12:33:40.618Z"
   },
   {
    "duration": 194,
    "start_time": "2024-03-19T12:33:46.679Z"
   },
   {
    "duration": 199,
    "start_time": "2024-03-19T13:21:55.846Z"
   },
   {
    "duration": 221,
    "start_time": "2024-03-19T13:22:02.331Z"
   },
   {
    "duration": 211,
    "start_time": "2024-03-19T13:22:19.767Z"
   },
   {
    "duration": 100,
    "start_time": "2024-03-19T13:26:11.550Z"
   },
   {
    "duration": 13,
    "start_time": "2024-03-19T13:27:31.523Z"
   },
   {
    "duration": 4,
    "start_time": "2024-03-19T13:27:36.766Z"
   },
   {
    "duration": 1254,
    "start_time": "2024-03-19T13:27:44.574Z"
   },
   {
    "duration": 38,
    "start_time": "2024-03-19T13:27:45.830Z"
   },
   {
    "duration": 12,
    "start_time": "2024-03-19T13:27:45.870Z"
   },
   {
    "duration": 20,
    "start_time": "2024-03-19T13:27:45.885Z"
   },
   {
    "duration": 37,
    "start_time": "2024-03-19T13:27:45.907Z"
   },
   {
    "duration": 11,
    "start_time": "2024-03-19T13:27:45.946Z"
   },
   {
    "duration": 29,
    "start_time": "2024-03-19T13:27:45.958Z"
   },
   {
    "duration": 20,
    "start_time": "2024-03-19T13:27:45.989Z"
   },
   {
    "duration": 12,
    "start_time": "2024-03-19T13:27:46.011Z"
   },
   {
    "duration": 13,
    "start_time": "2024-03-19T13:27:46.025Z"
   },
   {
    "duration": 16,
    "start_time": "2024-03-19T13:27:46.040Z"
   },
   {
    "duration": 7,
    "start_time": "2024-03-19T13:27:46.057Z"
   },
   {
    "duration": 22,
    "start_time": "2024-03-19T13:27:46.066Z"
   },
   {
    "duration": 25,
    "start_time": "2024-03-19T13:27:46.090Z"
   },
   {
    "duration": 15,
    "start_time": "2024-03-19T13:27:46.117Z"
   },
   {
    "duration": 4,
    "start_time": "2024-03-19T13:27:46.134Z"
   },
   {
    "duration": 4,
    "start_time": "2024-03-19T13:27:46.140Z"
   },
   {
    "duration": 16,
    "start_time": "2024-03-19T13:27:46.146Z"
   },
   {
    "duration": 29,
    "start_time": "2024-03-19T13:27:46.164Z"
   },
   {
    "duration": 7,
    "start_time": "2024-03-19T13:27:46.195Z"
   },
   {
    "duration": 182,
    "start_time": "2024-03-19T13:27:46.204Z"
   },
   {
    "duration": 8,
    "start_time": "2024-03-19T13:27:46.388Z"
   },
   {
    "duration": 14,
    "start_time": "2024-03-19T13:27:46.398Z"
   },
   {
    "duration": 116,
    "start_time": "2024-03-19T13:27:46.414Z"
   },
   {
    "duration": 3,
    "start_time": "2024-03-19T13:27:46.531Z"
   },
   {
    "duration": 16,
    "start_time": "2024-03-19T13:27:46.536Z"
   },
   {
    "duration": 6,
    "start_time": "2024-03-19T13:27:46.554Z"
   },
   {
    "duration": 168,
    "start_time": "2024-03-19T13:27:46.583Z"
   },
   {
    "duration": 183,
    "start_time": "2024-03-19T13:27:46.753Z"
   },
   {
    "duration": 5,
    "start_time": "2024-03-19T13:27:46.937Z"
   },
   {
    "duration": 6,
    "start_time": "2024-03-19T13:27:46.944Z"
   },
   {
    "duration": 12,
    "start_time": "2024-03-19T13:27:46.951Z"
   },
   {
    "duration": 189,
    "start_time": "2024-03-19T13:27:46.965Z"
   },
   {
    "duration": 128,
    "start_time": "2024-03-19T13:27:47.156Z"
   },
   {
    "duration": 5,
    "start_time": "2024-03-19T13:27:47.286Z"
   },
   {
    "duration": 5,
    "start_time": "2024-03-19T13:27:47.292Z"
   },
   {
    "duration": 5,
    "start_time": "2024-03-19T13:27:47.299Z"
   },
   {
    "duration": 16,
    "start_time": "2024-03-19T13:27:47.306Z"
   },
   {
    "duration": 17,
    "start_time": "2024-03-19T13:27:47.324Z"
   },
   {
    "duration": 45,
    "start_time": "2024-03-19T13:27:47.343Z"
   },
   {
    "duration": 12,
    "start_time": "2024-03-19T13:27:47.390Z"
   },
   {
    "duration": 215,
    "start_time": "2024-03-19T13:27:47.404Z"
   },
   {
    "duration": 9,
    "start_time": "2024-03-19T13:27:47.621Z"
   },
   {
    "duration": 155,
    "start_time": "2024-03-19T13:27:47.631Z"
   },
   {
    "duration": 18,
    "start_time": "2024-03-19T13:27:47.787Z"
   },
   {
    "duration": 19,
    "start_time": "2024-03-19T13:27:47.807Z"
   },
   {
    "duration": 25,
    "start_time": "2024-03-19T13:27:47.828Z"
   },
   {
    "duration": 66,
    "start_time": "2024-03-19T13:27:47.855Z"
   },
   {
    "duration": 90,
    "start_time": "2024-03-19T13:27:47.923Z"
   },
   {
    "duration": 4,
    "start_time": "2024-03-19T13:27:48.015Z"
   },
   {
    "duration": 13,
    "start_time": "2024-03-19T13:27:48.020Z"
   },
   {
    "duration": 19,
    "start_time": "2024-03-19T13:27:48.034Z"
   },
   {
    "duration": 58,
    "start_time": "2024-03-19T13:27:48.055Z"
   },
   {
    "duration": 16,
    "start_time": "2024-03-19T13:27:48.115Z"
   },
   {
    "duration": 76,
    "start_time": "2024-03-19T13:27:48.132Z"
   },
   {
    "duration": 208,
    "start_time": "2024-03-19T13:27:48.209Z"
   },
   {
    "duration": 249,
    "start_time": "2024-03-19T13:27:48.419Z"
   },
   {
    "duration": 12,
    "start_time": "2024-03-19T13:27:48.670Z"
   },
   {
    "duration": 61,
    "start_time": "2024-03-19T13:27:48.684Z"
   },
   {
    "duration": 5,
    "start_time": "2024-03-19T13:27:48.747Z"
   },
   {
    "duration": 37,
    "start_time": "2024-03-19T13:27:48.754Z"
   },
   {
    "duration": 28,
    "start_time": "2024-03-19T13:27:48.793Z"
   },
   {
    "duration": 10,
    "start_time": "2024-03-19T13:27:48.823Z"
   },
   {
    "duration": 10,
    "start_time": "2024-03-19T13:27:48.834Z"
   },
   {
    "duration": 17,
    "start_time": "2024-03-19T13:27:48.845Z"
   },
   {
    "duration": 3,
    "start_time": "2024-03-19T13:27:48.864Z"
   },
   {
    "duration": 212,
    "start_time": "2024-03-19T13:27:48.880Z"
   },
   {
    "duration": 12,
    "start_time": "2024-03-19T13:27:49.094Z"
   },
   {
    "duration": 18,
    "start_time": "2024-03-19T13:27:49.109Z"
   },
   {
    "duration": 7,
    "start_time": "2024-03-19T13:27:49.129Z"
   },
   {
    "duration": 11,
    "start_time": "2024-03-19T13:27:49.138Z"
   },
   {
    "duration": 1722,
    "start_time": "2024-03-19T13:27:49.151Z"
   },
   {
    "duration": 180,
    "start_time": "2024-03-19T13:27:50.876Z"
   },
   {
    "duration": 6,
    "start_time": "2024-03-19T13:27:51.058Z"
   },
   {
    "duration": 184,
    "start_time": "2024-03-19T13:27:51.065Z"
   },
   {
    "duration": 97,
    "start_time": "2024-03-19T13:28:44.659Z"
   },
   {
    "duration": 1249,
    "start_time": "2024-03-19T13:29:18.452Z"
   },
   {
    "duration": 37,
    "start_time": "2024-03-19T13:29:19.703Z"
   },
   {
    "duration": 11,
    "start_time": "2024-03-19T13:29:19.741Z"
   },
   {
    "duration": 16,
    "start_time": "2024-03-19T13:29:19.754Z"
   },
   {
    "duration": 33,
    "start_time": "2024-03-19T13:29:19.772Z"
   },
   {
    "duration": 12,
    "start_time": "2024-03-19T13:29:19.807Z"
   },
   {
    "duration": 42,
    "start_time": "2024-03-19T13:29:19.821Z"
   },
   {
    "duration": 20,
    "start_time": "2024-03-19T13:29:19.865Z"
   },
   {
    "duration": 10,
    "start_time": "2024-03-19T13:29:19.887Z"
   },
   {
    "duration": 13,
    "start_time": "2024-03-19T13:29:19.899Z"
   },
   {
    "duration": 9,
    "start_time": "2024-03-19T13:29:19.913Z"
   },
   {
    "duration": 24,
    "start_time": "2024-03-19T13:29:19.923Z"
   },
   {
    "duration": 14,
    "start_time": "2024-03-19T13:29:19.948Z"
   },
   {
    "duration": 22,
    "start_time": "2024-03-19T13:29:19.966Z"
   },
   {
    "duration": 45,
    "start_time": "2024-03-19T13:29:19.989Z"
   },
   {
    "duration": 30,
    "start_time": "2024-03-19T13:29:20.036Z"
   },
   {
    "duration": 25,
    "start_time": "2024-03-19T13:29:20.068Z"
   },
   {
    "duration": 37,
    "start_time": "2024-03-19T13:29:20.094Z"
   },
   {
    "duration": 27,
    "start_time": "2024-03-19T13:29:20.133Z"
   },
   {
    "duration": 11,
    "start_time": "2024-03-19T13:29:20.162Z"
   },
   {
    "duration": 171,
    "start_time": "2024-03-19T13:29:20.175Z"
   },
   {
    "duration": 7,
    "start_time": "2024-03-19T13:29:20.348Z"
   },
   {
    "duration": 10,
    "start_time": "2024-03-19T13:29:20.357Z"
   },
   {
    "duration": 116,
    "start_time": "2024-03-19T13:29:20.368Z"
   },
   {
    "duration": 3,
    "start_time": "2024-03-19T13:29:20.486Z"
   },
   {
    "duration": 31,
    "start_time": "2024-03-19T13:29:20.491Z"
   },
   {
    "duration": 8,
    "start_time": "2024-03-19T13:29:20.524Z"
   },
   {
    "duration": 176,
    "start_time": "2024-03-19T13:29:20.534Z"
   },
   {
    "duration": 182,
    "start_time": "2024-03-19T13:29:20.712Z"
   },
   {
    "duration": 5,
    "start_time": "2024-03-19T13:29:20.895Z"
   },
   {
    "duration": 9,
    "start_time": "2024-03-19T13:29:20.901Z"
   },
   {
    "duration": 13,
    "start_time": "2024-03-19T13:29:20.912Z"
   },
   {
    "duration": 199,
    "start_time": "2024-03-19T13:29:20.926Z"
   },
   {
    "duration": 123,
    "start_time": "2024-03-19T13:29:21.127Z"
   },
   {
    "duration": 5,
    "start_time": "2024-03-19T13:29:21.251Z"
   },
   {
    "duration": 9,
    "start_time": "2024-03-19T13:29:21.258Z"
   },
   {
    "duration": 5,
    "start_time": "2024-03-19T13:29:21.280Z"
   },
   {
    "duration": 34,
    "start_time": "2024-03-19T13:29:21.287Z"
   },
   {
    "duration": 5,
    "start_time": "2024-03-19T13:29:21.322Z"
   },
   {
    "duration": 19,
    "start_time": "2024-03-19T13:29:21.328Z"
   },
   {
    "duration": 8,
    "start_time": "2024-03-19T13:29:21.351Z"
   },
   {
    "duration": 198,
    "start_time": "2024-03-19T13:29:21.361Z"
   },
   {
    "duration": 20,
    "start_time": "2024-03-19T13:29:21.560Z"
   },
   {
    "duration": 128,
    "start_time": "2024-03-19T13:29:21.582Z"
   },
   {
    "duration": 16,
    "start_time": "2024-03-19T13:29:21.713Z"
   },
   {
    "duration": 21,
    "start_time": "2024-03-19T13:29:21.731Z"
   },
   {
    "duration": 32,
    "start_time": "2024-03-19T13:29:21.754Z"
   },
   {
    "duration": 21,
    "start_time": "2024-03-19T13:29:21.788Z"
   },
   {
    "duration": 14,
    "start_time": "2024-03-19T13:29:21.811Z"
   },
   {
    "duration": 24,
    "start_time": "2024-03-19T13:29:21.827Z"
   },
   {
    "duration": 106,
    "start_time": "2024-03-19T13:29:21.853Z"
   },
   {
    "duration": 37,
    "start_time": "2024-03-19T13:29:21.960Z"
   },
   {
    "duration": 36,
    "start_time": "2024-03-19T13:29:21.999Z"
   },
   {
    "duration": 16,
    "start_time": "2024-03-19T13:29:22.037Z"
   },
   {
    "duration": 60,
    "start_time": "2024-03-19T13:29:22.055Z"
   },
   {
    "duration": 216,
    "start_time": "2024-03-19T13:29:22.117Z"
   },
   {
    "duration": 292,
    "start_time": "2024-03-19T13:29:22.335Z"
   },
   {
    "duration": 5,
    "start_time": "2024-03-19T13:29:22.630Z"
   },
   {
    "duration": 48,
    "start_time": "2024-03-19T13:29:22.637Z"
   },
   {
    "duration": 5,
    "start_time": "2024-03-19T13:29:22.686Z"
   },
   {
    "duration": 14,
    "start_time": "2024-03-19T13:29:22.692Z"
   },
   {
    "duration": 10,
    "start_time": "2024-03-19T13:29:22.708Z"
   },
   {
    "duration": 15,
    "start_time": "2024-03-19T13:29:22.720Z"
   },
   {
    "duration": 14,
    "start_time": "2024-03-19T13:29:22.737Z"
   },
   {
    "duration": 26,
    "start_time": "2024-03-19T13:29:22.753Z"
   },
   {
    "duration": 207,
    "start_time": "2024-03-19T13:29:22.782Z"
   },
   {
    "duration": 12,
    "start_time": "2024-03-19T13:29:22.991Z"
   },
   {
    "duration": 6,
    "start_time": "2024-03-19T13:29:23.005Z"
   },
   {
    "duration": 8,
    "start_time": "2024-03-19T13:29:23.013Z"
   },
   {
    "duration": 8,
    "start_time": "2024-03-19T13:29:23.022Z"
   },
   {
    "duration": 1689,
    "start_time": "2024-03-19T13:29:23.031Z"
   },
   {
    "duration": 137,
    "start_time": "2024-03-19T13:29:24.721Z"
   },
   {
    "duration": 6,
    "start_time": "2024-03-19T13:29:24.859Z"
   },
   {
    "duration": 178,
    "start_time": "2024-03-19T13:29:24.866Z"
   },
   {
    "duration": 7,
    "start_time": "2024-03-19T13:54:31.564Z"
   },
   {
    "duration": 1340,
    "start_time": "2024-03-19T13:55:08.559Z"
   },
   {
    "duration": 37,
    "start_time": "2024-03-19T13:55:09.901Z"
   },
   {
    "duration": 12,
    "start_time": "2024-03-19T13:55:09.940Z"
   },
   {
    "duration": 20,
    "start_time": "2024-03-19T13:55:09.955Z"
   },
   {
    "duration": 35,
    "start_time": "2024-03-19T13:55:09.978Z"
   },
   {
    "duration": 12,
    "start_time": "2024-03-19T13:55:10.015Z"
   },
   {
    "duration": 24,
    "start_time": "2024-03-19T13:55:10.029Z"
   },
   {
    "duration": 26,
    "start_time": "2024-03-19T13:55:10.055Z"
   },
   {
    "duration": 11,
    "start_time": "2024-03-19T13:55:10.083Z"
   },
   {
    "duration": 14,
    "start_time": "2024-03-19T13:55:10.096Z"
   },
   {
    "duration": 17,
    "start_time": "2024-03-19T13:55:10.112Z"
   },
   {
    "duration": 18,
    "start_time": "2024-03-19T13:55:10.131Z"
   },
   {
    "duration": 14,
    "start_time": "2024-03-19T13:55:10.151Z"
   },
   {
    "duration": 7,
    "start_time": "2024-03-19T13:55:10.181Z"
   },
   {
    "duration": 38,
    "start_time": "2024-03-19T13:55:10.190Z"
   },
   {
    "duration": 36,
    "start_time": "2024-03-19T13:55:10.230Z"
   },
   {
    "duration": 6,
    "start_time": "2024-03-19T13:55:10.268Z"
   },
   {
    "duration": 25,
    "start_time": "2024-03-19T13:55:10.276Z"
   },
   {
    "duration": 10,
    "start_time": "2024-03-19T13:55:10.303Z"
   },
   {
    "duration": 6,
    "start_time": "2024-03-19T13:55:10.315Z"
   },
   {
    "duration": 192,
    "start_time": "2024-03-19T13:55:10.323Z"
   },
   {
    "duration": 10,
    "start_time": "2024-03-19T13:55:10.518Z"
   },
   {
    "duration": 20,
    "start_time": "2024-03-19T13:55:10.530Z"
   },
   {
    "duration": 132,
    "start_time": "2024-03-19T13:55:10.552Z"
   },
   {
    "duration": 4,
    "start_time": "2024-03-19T13:55:10.686Z"
   },
   {
    "duration": 21,
    "start_time": "2024-03-19T13:55:10.692Z"
   },
   {
    "duration": 12,
    "start_time": "2024-03-19T13:55:10.715Z"
   },
   {
    "duration": 183,
    "start_time": "2024-03-19T13:55:10.729Z"
   },
   {
    "duration": 194,
    "start_time": "2024-03-19T13:55:10.914Z"
   },
   {
    "duration": 6,
    "start_time": "2024-03-19T13:55:11.110Z"
   },
   {
    "duration": 12,
    "start_time": "2024-03-19T13:55:11.117Z"
   },
   {
    "duration": 9,
    "start_time": "2024-03-19T13:55:11.131Z"
   },
   {
    "duration": 201,
    "start_time": "2024-03-19T13:55:11.141Z"
   },
   {
    "duration": 137,
    "start_time": "2024-03-19T13:55:11.343Z"
   },
   {
    "duration": 6,
    "start_time": "2024-03-19T13:55:11.482Z"
   },
   {
    "duration": 5,
    "start_time": "2024-03-19T13:55:11.489Z"
   },
   {
    "duration": 5,
    "start_time": "2024-03-19T13:55:11.495Z"
   },
   {
    "duration": 16,
    "start_time": "2024-03-19T13:55:11.502Z"
   },
   {
    "duration": 6,
    "start_time": "2024-03-19T13:55:11.520Z"
   },
   {
    "duration": 54,
    "start_time": "2024-03-19T13:55:11.527Z"
   },
   {
    "duration": 9,
    "start_time": "2024-03-19T13:55:11.586Z"
   },
   {
    "duration": 220,
    "start_time": "2024-03-19T13:55:11.596Z"
   },
   {
    "duration": 9,
    "start_time": "2024-03-19T13:55:11.818Z"
   },
   {
    "duration": 132,
    "start_time": "2024-03-19T13:55:11.828Z"
   },
   {
    "duration": 29,
    "start_time": "2024-03-19T13:55:11.963Z"
   },
   {
    "duration": 20,
    "start_time": "2024-03-19T13:55:11.994Z"
   },
   {
    "duration": 7,
    "start_time": "2024-03-19T13:55:12.016Z"
   },
   {
    "duration": 25,
    "start_time": "2024-03-19T13:55:12.025Z"
   },
   {
    "duration": 124,
    "start_time": "2024-03-19T13:55:12.081Z"
   },
   {
    "duration": 4,
    "start_time": "2024-03-19T13:55:12.207Z"
   },
   {
    "duration": 23,
    "start_time": "2024-03-19T13:55:12.214Z"
   },
   {
    "duration": 41,
    "start_time": "2024-03-19T13:55:12.239Z"
   },
   {
    "duration": 36,
    "start_time": "2024-03-19T13:55:12.282Z"
   },
   {
    "duration": 22,
    "start_time": "2024-03-19T13:55:12.320Z"
   },
   {
    "duration": 70,
    "start_time": "2024-03-19T13:55:12.344Z"
   },
   {
    "duration": 249,
    "start_time": "2024-03-19T13:55:12.416Z"
   },
   {
    "duration": 264,
    "start_time": "2024-03-19T13:55:12.667Z"
   },
   {
    "duration": 5,
    "start_time": "2024-03-19T13:55:12.933Z"
   },
   {
    "duration": 48,
    "start_time": "2024-03-19T13:55:12.939Z"
   },
   {
    "duration": 5,
    "start_time": "2024-03-19T13:55:12.988Z"
   },
   {
    "duration": 19,
    "start_time": "2024-03-19T13:55:12.994Z"
   },
   {
    "duration": 21,
    "start_time": "2024-03-19T13:55:13.016Z"
   },
   {
    "duration": 12,
    "start_time": "2024-03-19T13:55:13.040Z"
   },
   {
    "duration": 33,
    "start_time": "2024-03-19T13:55:13.054Z"
   },
   {
    "duration": 99,
    "start_time": "2024-03-19T13:55:13.089Z"
   },
   {
    "duration": 0,
    "start_time": "2024-03-19T13:55:13.191Z"
   },
   {
    "duration": 0,
    "start_time": "2024-03-19T13:55:13.193Z"
   },
   {
    "duration": 0,
    "start_time": "2024-03-19T13:55:13.194Z"
   },
   {
    "duration": 0,
    "start_time": "2024-03-19T13:55:13.196Z"
   },
   {
    "duration": 0,
    "start_time": "2024-03-19T13:55:13.198Z"
   },
   {
    "duration": 0,
    "start_time": "2024-03-19T13:55:13.199Z"
   },
   {
    "duration": 0,
    "start_time": "2024-03-19T13:55:13.201Z"
   },
   {
    "duration": 0,
    "start_time": "2024-03-19T13:55:13.202Z"
   },
   {
    "duration": 0,
    "start_time": "2024-03-19T13:55:13.204Z"
   },
   {
    "duration": 0,
    "start_time": "2024-03-19T13:55:13.205Z"
   },
   {
    "duration": 3,
    "start_time": "2024-03-19T13:55:24.789Z"
   },
   {
    "duration": 1375,
    "start_time": "2024-03-19T13:55:29.652Z"
   },
   {
    "duration": 36,
    "start_time": "2024-03-19T13:55:31.029Z"
   },
   {
    "duration": 77,
    "start_time": "2024-03-19T13:55:31.067Z"
   },
   {
    "duration": 63,
    "start_time": "2024-03-19T13:55:31.145Z"
   },
   {
    "duration": 65,
    "start_time": "2024-03-19T13:55:31.210Z"
   },
   {
    "duration": 13,
    "start_time": "2024-03-19T13:55:31.277Z"
   },
   {
    "duration": 49,
    "start_time": "2024-03-19T13:55:31.292Z"
   },
   {
    "duration": 30,
    "start_time": "2024-03-19T13:55:31.343Z"
   },
   {
    "duration": 12,
    "start_time": "2024-03-19T13:55:31.375Z"
   },
   {
    "duration": 46,
    "start_time": "2024-03-19T13:55:31.389Z"
   },
   {
    "duration": 45,
    "start_time": "2024-03-19T13:55:31.436Z"
   },
   {
    "duration": 35,
    "start_time": "2024-03-19T13:55:31.483Z"
   },
   {
    "duration": 38,
    "start_time": "2024-03-19T13:55:31.520Z"
   },
   {
    "duration": 34,
    "start_time": "2024-03-19T13:55:31.561Z"
   },
   {
    "duration": 55,
    "start_time": "2024-03-19T13:55:31.596Z"
   },
   {
    "duration": 48,
    "start_time": "2024-03-19T13:55:31.653Z"
   },
   {
    "duration": 40,
    "start_time": "2024-03-19T13:55:31.703Z"
   },
   {
    "duration": 28,
    "start_time": "2024-03-19T13:55:31.745Z"
   },
   {
    "duration": 18,
    "start_time": "2024-03-19T13:55:31.775Z"
   },
   {
    "duration": 40,
    "start_time": "2024-03-19T13:55:31.794Z"
   },
   {
    "duration": 226,
    "start_time": "2024-03-19T13:55:31.836Z"
   },
   {
    "duration": 11,
    "start_time": "2024-03-19T13:55:32.064Z"
   },
   {
    "duration": 24,
    "start_time": "2024-03-19T13:55:32.080Z"
   },
   {
    "duration": 140,
    "start_time": "2024-03-19T13:55:32.106Z"
   },
   {
    "duration": 4,
    "start_time": "2024-03-19T13:55:32.248Z"
   },
   {
    "duration": 26,
    "start_time": "2024-03-19T13:55:32.254Z"
   },
   {
    "duration": 11,
    "start_time": "2024-03-19T13:55:32.281Z"
   },
   {
    "duration": 162,
    "start_time": "2024-03-19T13:55:32.294Z"
   },
   {
    "duration": 181,
    "start_time": "2024-03-19T13:55:32.457Z"
   },
   {
    "duration": 5,
    "start_time": "2024-03-19T13:55:32.639Z"
   },
   {
    "duration": 5,
    "start_time": "2024-03-19T13:55:32.645Z"
   },
   {
    "duration": 14,
    "start_time": "2024-03-19T13:55:32.651Z"
   },
   {
    "duration": 182,
    "start_time": "2024-03-19T13:55:32.681Z"
   },
   {
    "duration": 129,
    "start_time": "2024-03-19T13:55:32.865Z"
   },
   {
    "duration": 5,
    "start_time": "2024-03-19T13:55:32.995Z"
   },
   {
    "duration": 22,
    "start_time": "2024-03-19T13:55:33.002Z"
   },
   {
    "duration": 9,
    "start_time": "2024-03-19T13:55:33.025Z"
   },
   {
    "duration": 23,
    "start_time": "2024-03-19T13:55:33.036Z"
   },
   {
    "duration": 5,
    "start_time": "2024-03-19T13:55:33.061Z"
   },
   {
    "duration": 29,
    "start_time": "2024-03-19T13:55:33.067Z"
   },
   {
    "duration": 9,
    "start_time": "2024-03-19T13:55:33.101Z"
   },
   {
    "duration": 212,
    "start_time": "2024-03-19T13:55:33.111Z"
   },
   {
    "duration": 9,
    "start_time": "2024-03-19T13:55:33.324Z"
   },
   {
    "duration": 128,
    "start_time": "2024-03-19T13:55:33.334Z"
   },
   {
    "duration": 32,
    "start_time": "2024-03-19T13:55:33.463Z"
   },
   {
    "duration": 21,
    "start_time": "2024-03-19T13:55:33.496Z"
   },
   {
    "duration": 7,
    "start_time": "2024-03-19T13:55:33.518Z"
   },
   {
    "duration": 35,
    "start_time": "2024-03-19T13:55:33.527Z"
   },
   {
    "duration": 32,
    "start_time": "2024-03-19T13:55:33.564Z"
   },
   {
    "duration": 92,
    "start_time": "2024-03-19T13:55:33.598Z"
   },
   {
    "duration": 22,
    "start_time": "2024-03-19T13:55:33.693Z"
   },
   {
    "duration": 23,
    "start_time": "2024-03-19T13:55:33.717Z"
   },
   {
    "duration": 51,
    "start_time": "2024-03-19T13:55:33.742Z"
   },
   {
    "duration": 15,
    "start_time": "2024-03-19T13:55:33.795Z"
   },
   {
    "duration": 40,
    "start_time": "2024-03-19T13:55:33.811Z"
   },
   {
    "duration": 224,
    "start_time": "2024-03-19T13:55:33.853Z"
   },
   {
    "duration": 224,
    "start_time": "2024-03-19T13:55:34.080Z"
   },
   {
    "duration": 5,
    "start_time": "2024-03-19T13:55:34.306Z"
   },
   {
    "duration": 39,
    "start_time": "2024-03-19T13:55:34.312Z"
   },
   {
    "duration": 5,
    "start_time": "2024-03-19T13:55:34.353Z"
   },
   {
    "duration": 14,
    "start_time": "2024-03-19T13:55:34.380Z"
   },
   {
    "duration": 10,
    "start_time": "2024-03-19T13:55:34.395Z"
   },
   {
    "duration": 16,
    "start_time": "2024-03-19T13:55:34.407Z"
   },
   {
    "duration": 16,
    "start_time": "2024-03-19T13:55:34.425Z"
   },
   {
    "duration": 3,
    "start_time": "2024-03-19T13:55:34.443Z"
   },
   {
    "duration": 36,
    "start_time": "2024-03-19T13:55:34.448Z"
   },
   {
    "duration": 18,
    "start_time": "2024-03-19T13:55:34.486Z"
   },
   {
    "duration": 27,
    "start_time": "2024-03-19T13:55:34.506Z"
   },
   {
    "duration": 11,
    "start_time": "2024-03-19T13:55:34.536Z"
   },
   {
    "duration": 6,
    "start_time": "2024-03-19T13:55:34.549Z"
   },
   {
    "duration": 11,
    "start_time": "2024-03-19T13:55:34.557Z"
   },
   {
    "duration": 1658,
    "start_time": "2024-03-19T13:55:34.570Z"
   },
   {
    "duration": 143,
    "start_time": "2024-03-19T13:55:36.230Z"
   },
   {
    "duration": 7,
    "start_time": "2024-03-19T13:55:36.375Z"
   },
   {
    "duration": 187,
    "start_time": "2024-03-19T13:55:36.383Z"
   },
   {
    "duration": 5,
    "start_time": "2024-03-19T13:59:09.092Z"
   },
   {
    "duration": 6,
    "start_time": "2024-03-19T14:04:11.381Z"
   },
   {
    "duration": 6,
    "start_time": "2024-03-19T14:17:36.226Z"
   },
   {
    "duration": 3,
    "start_time": "2024-03-19T14:23:52.883Z"
   },
   {
    "duration": 1214,
    "start_time": "2024-03-19T14:24:22.499Z"
   },
   {
    "duration": 38,
    "start_time": "2024-03-19T14:24:23.715Z"
   },
   {
    "duration": 12,
    "start_time": "2024-03-19T14:24:23.754Z"
   },
   {
    "duration": 19,
    "start_time": "2024-03-19T14:24:23.768Z"
   },
   {
    "duration": 37,
    "start_time": "2024-03-19T14:24:23.789Z"
   },
   {
    "duration": 12,
    "start_time": "2024-03-19T14:24:23.828Z"
   },
   {
    "duration": 29,
    "start_time": "2024-03-19T14:24:23.841Z"
   },
   {
    "duration": 19,
    "start_time": "2024-03-19T14:24:23.871Z"
   },
   {
    "duration": 10,
    "start_time": "2024-03-19T14:24:23.892Z"
   },
   {
    "duration": 21,
    "start_time": "2024-03-19T14:24:23.904Z"
   },
   {
    "duration": 9,
    "start_time": "2024-03-19T14:24:23.927Z"
   },
   {
    "duration": 18,
    "start_time": "2024-03-19T14:24:23.938Z"
   },
   {
    "duration": 37,
    "start_time": "2024-03-19T14:24:23.958Z"
   },
   {
    "duration": 26,
    "start_time": "2024-03-19T14:24:24.000Z"
   },
   {
    "duration": 8,
    "start_time": "2024-03-19T14:24:24.028Z"
   },
   {
    "duration": 7,
    "start_time": "2024-03-19T14:24:24.038Z"
   },
   {
    "duration": 4,
    "start_time": "2024-03-19T14:24:24.047Z"
   },
   {
    "duration": 23,
    "start_time": "2024-03-19T14:24:24.053Z"
   },
   {
    "duration": 12,
    "start_time": "2024-03-19T14:24:24.081Z"
   },
   {
    "duration": 17,
    "start_time": "2024-03-19T14:24:24.094Z"
   },
   {
    "duration": 175,
    "start_time": "2024-03-19T14:24:24.113Z"
   },
   {
    "duration": 8,
    "start_time": "2024-03-19T14:24:24.289Z"
   },
   {
    "duration": 18,
    "start_time": "2024-03-19T14:24:24.299Z"
   },
   {
    "duration": 134,
    "start_time": "2024-03-19T14:24:24.319Z"
   },
   {
    "duration": 4,
    "start_time": "2024-03-19T14:24:24.455Z"
   },
   {
    "duration": 37,
    "start_time": "2024-03-19T14:24:24.460Z"
   },
   {
    "duration": 42,
    "start_time": "2024-03-19T14:24:24.500Z"
   },
   {
    "duration": 151,
    "start_time": "2024-03-19T14:24:24.544Z"
   },
   {
    "duration": 188,
    "start_time": "2024-03-19T14:24:24.697Z"
   },
   {
    "duration": 4,
    "start_time": "2024-03-19T14:24:24.887Z"
   },
   {
    "duration": 6,
    "start_time": "2024-03-19T14:24:24.893Z"
   },
   {
    "duration": 11,
    "start_time": "2024-03-19T14:24:24.901Z"
   },
   {
    "duration": 200,
    "start_time": "2024-03-19T14:24:24.914Z"
   },
   {
    "duration": 133,
    "start_time": "2024-03-19T14:24:25.116Z"
   },
   {
    "duration": 5,
    "start_time": "2024-03-19T14:24:25.251Z"
   },
   {
    "duration": 11,
    "start_time": "2024-03-19T14:24:25.258Z"
   },
   {
    "duration": 5,
    "start_time": "2024-03-19T14:24:25.281Z"
   },
   {
    "duration": 16,
    "start_time": "2024-03-19T14:24:25.287Z"
   },
   {
    "duration": 5,
    "start_time": "2024-03-19T14:24:25.305Z"
   },
   {
    "duration": 48,
    "start_time": "2024-03-19T14:24:25.311Z"
   },
   {
    "duration": 13,
    "start_time": "2024-03-19T14:24:25.363Z"
   },
   {
    "duration": 201,
    "start_time": "2024-03-19T14:24:25.378Z"
   },
   {
    "duration": 11,
    "start_time": "2024-03-19T14:24:25.581Z"
   },
   {
    "duration": 137,
    "start_time": "2024-03-19T14:24:25.595Z"
   },
   {
    "duration": 18,
    "start_time": "2024-03-19T14:24:25.733Z"
   },
   {
    "duration": 40,
    "start_time": "2024-03-19T14:24:25.753Z"
   },
   {
    "duration": 6,
    "start_time": "2024-03-19T14:24:25.795Z"
   },
   {
    "duration": 22,
    "start_time": "2024-03-19T14:24:25.803Z"
   },
   {
    "duration": 16,
    "start_time": "2024-03-19T14:24:25.826Z"
   },
   {
    "duration": 4,
    "start_time": "2024-03-19T14:24:25.844Z"
   },
   {
    "duration": 94,
    "start_time": "2024-03-19T14:24:25.880Z"
   },
   {
    "duration": 26,
    "start_time": "2024-03-19T14:24:25.981Z"
   },
   {
    "duration": 34,
    "start_time": "2024-03-19T14:24:26.009Z"
   },
   {
    "duration": 40,
    "start_time": "2024-03-19T14:24:26.045Z"
   },
   {
    "duration": 32,
    "start_time": "2024-03-19T14:24:26.087Z"
   },
   {
    "duration": 218,
    "start_time": "2024-03-19T14:24:26.121Z"
   },
   {
    "duration": 225,
    "start_time": "2024-03-19T14:24:26.341Z"
   },
   {
    "duration": 4,
    "start_time": "2024-03-19T14:24:26.568Z"
   },
   {
    "duration": 42,
    "start_time": "2024-03-19T14:24:26.580Z"
   },
   {
    "duration": 5,
    "start_time": "2024-03-19T14:24:26.624Z"
   },
   {
    "duration": 19,
    "start_time": "2024-03-19T14:24:26.630Z"
   },
   {
    "duration": 23,
    "start_time": "2024-03-19T14:24:26.651Z"
   },
   {
    "duration": 11,
    "start_time": "2024-03-19T14:24:26.676Z"
   },
   {
    "duration": 26,
    "start_time": "2024-03-19T14:24:26.688Z"
   },
   {
    "duration": 3,
    "start_time": "2024-03-19T14:24:26.716Z"
   },
   {
    "duration": 17,
    "start_time": "2024-03-19T14:24:26.721Z"
   },
   {
    "duration": 11,
    "start_time": "2024-03-19T14:24:26.740Z"
   },
   {
    "duration": 15,
    "start_time": "2024-03-19T14:24:26.753Z"
   },
   {
    "duration": 11,
    "start_time": "2024-03-19T14:24:26.769Z"
   },
   {
    "duration": 5,
    "start_time": "2024-03-19T14:24:26.782Z"
   },
   {
    "duration": 28,
    "start_time": "2024-03-19T14:24:26.788Z"
   },
   {
    "duration": 1679,
    "start_time": "2024-03-19T14:24:26.817Z"
   },
   {
    "duration": 235,
    "start_time": "2024-03-19T14:24:28.498Z"
   },
   {
    "duration": 6,
    "start_time": "2024-03-19T14:24:28.735Z"
   },
   {
    "duration": 211,
    "start_time": "2024-03-19T14:24:28.743Z"
   },
   {
    "duration": 1846,
    "start_time": "2024-03-19T14:30:53.209Z"
   },
   {
    "duration": 6,
    "start_time": "2024-03-19T14:31:09.648Z"
   },
   {
    "duration": 167,
    "start_time": "2024-03-19T14:31:16.755Z"
   },
   {
    "duration": 176,
    "start_time": "2024-03-19T14:31:47.642Z"
   },
   {
    "duration": 1229,
    "start_time": "2024-03-19T15:37:11.776Z"
   },
   {
    "duration": 38,
    "start_time": "2024-03-19T15:37:13.007Z"
   },
   {
    "duration": 12,
    "start_time": "2024-03-19T15:37:13.046Z"
   },
   {
    "duration": 33,
    "start_time": "2024-03-19T15:37:13.060Z"
   },
   {
    "duration": 58,
    "start_time": "2024-03-19T15:37:13.094Z"
   },
   {
    "duration": 11,
    "start_time": "2024-03-19T15:37:13.154Z"
   },
   {
    "duration": 24,
    "start_time": "2024-03-19T15:37:13.167Z"
   },
   {
    "duration": 21,
    "start_time": "2024-03-19T15:37:13.193Z"
   },
   {
    "duration": 11,
    "start_time": "2024-03-19T15:37:13.216Z"
   },
   {
    "duration": 61,
    "start_time": "2024-03-19T15:37:13.230Z"
   },
   {
    "duration": 26,
    "start_time": "2024-03-19T15:37:13.292Z"
   },
   {
    "duration": 13,
    "start_time": "2024-03-19T15:37:13.319Z"
   },
   {
    "duration": 28,
    "start_time": "2024-03-19T15:37:13.333Z"
   },
   {
    "duration": 17,
    "start_time": "2024-03-19T15:37:13.362Z"
   },
   {
    "duration": 43,
    "start_time": "2024-03-19T15:37:13.381Z"
   },
   {
    "duration": 15,
    "start_time": "2024-03-19T15:37:13.426Z"
   },
   {
    "duration": 6,
    "start_time": "2024-03-19T15:37:13.443Z"
   },
   {
    "duration": 45,
    "start_time": "2024-03-19T15:37:13.450Z"
   },
   {
    "duration": 62,
    "start_time": "2024-03-19T15:37:13.496Z"
   },
   {
    "duration": 34,
    "start_time": "2024-03-19T15:37:13.560Z"
   },
   {
    "duration": 169,
    "start_time": "2024-03-19T15:37:13.596Z"
   },
   {
    "duration": 9,
    "start_time": "2024-03-19T15:37:13.767Z"
   },
   {
    "duration": 27,
    "start_time": "2024-03-19T15:37:13.777Z"
   },
   {
    "duration": 123,
    "start_time": "2024-03-19T15:37:13.805Z"
   },
   {
    "duration": 4,
    "start_time": "2024-03-19T15:37:13.930Z"
   },
   {
    "duration": 26,
    "start_time": "2024-03-19T15:37:13.935Z"
   },
   {
    "duration": 43,
    "start_time": "2024-03-19T15:37:13.962Z"
   },
   {
    "duration": 141,
    "start_time": "2024-03-19T15:37:14.010Z"
   },
   {
    "duration": 173,
    "start_time": "2024-03-19T15:37:14.153Z"
   },
   {
    "duration": 5,
    "start_time": "2024-03-19T15:37:14.328Z"
   },
   {
    "duration": 18,
    "start_time": "2024-03-19T15:37:14.334Z"
   },
   {
    "duration": 21,
    "start_time": "2024-03-19T15:37:14.354Z"
   },
   {
    "duration": 167,
    "start_time": "2024-03-19T15:37:14.377Z"
   },
   {
    "duration": 119,
    "start_time": "2024-03-19T15:37:14.546Z"
   },
   {
    "duration": 6,
    "start_time": "2024-03-19T15:37:14.666Z"
   },
   {
    "duration": 21,
    "start_time": "2024-03-19T15:37:14.674Z"
   },
   {
    "duration": 5,
    "start_time": "2024-03-19T15:37:14.696Z"
   },
   {
    "duration": 19,
    "start_time": "2024-03-19T15:37:14.703Z"
   },
   {
    "duration": 24,
    "start_time": "2024-03-19T15:37:14.724Z"
   },
   {
    "duration": 13,
    "start_time": "2024-03-19T15:37:14.750Z"
   },
   {
    "duration": 9,
    "start_time": "2024-03-19T15:37:14.765Z"
   },
   {
    "duration": 216,
    "start_time": "2024-03-19T15:37:14.775Z"
   },
   {
    "duration": 11,
    "start_time": "2024-03-19T15:37:14.994Z"
   },
   {
    "duration": 151,
    "start_time": "2024-03-19T15:37:15.006Z"
   },
   {
    "duration": 16,
    "start_time": "2024-03-19T15:37:15.159Z"
   },
   {
    "duration": 173,
    "start_time": "2024-03-19T15:37:15.177Z"
   },
   {
    "duration": 229,
    "start_time": "2024-03-19T15:37:15.352Z"
   },
   {
    "duration": 67,
    "start_time": "2024-03-19T15:37:15.582Z"
   },
   {
    "duration": 105,
    "start_time": "2024-03-19T15:37:15.650Z"
   },
   {
    "duration": 4,
    "start_time": "2024-03-19T15:37:15.756Z"
   },
   {
    "duration": 35,
    "start_time": "2024-03-19T15:37:15.762Z"
   },
   {
    "duration": 46,
    "start_time": "2024-03-19T15:37:15.799Z"
   },
   {
    "duration": 68,
    "start_time": "2024-03-19T15:37:15.847Z"
   },
   {
    "duration": 37,
    "start_time": "2024-03-19T15:37:15.917Z"
   },
   {
    "duration": 41,
    "start_time": "2024-03-19T15:37:15.956Z"
   },
   {
    "duration": 191,
    "start_time": "2024-03-19T15:37:15.999Z"
   },
   {
    "duration": 213,
    "start_time": "2024-03-19T15:37:16.193Z"
   },
   {
    "duration": 4,
    "start_time": "2024-03-19T15:37:16.407Z"
   },
   {
    "duration": 74,
    "start_time": "2024-03-19T15:37:16.413Z"
   },
   {
    "duration": 4,
    "start_time": "2024-03-19T15:37:16.489Z"
   },
   {
    "duration": 43,
    "start_time": "2024-03-19T15:37:16.494Z"
   },
   {
    "duration": 31,
    "start_time": "2024-03-19T15:37:16.539Z"
   },
   {
    "duration": 27,
    "start_time": "2024-03-19T15:37:16.572Z"
   },
   {
    "duration": 28,
    "start_time": "2024-03-19T15:37:16.600Z"
   },
   {
    "duration": 12,
    "start_time": "2024-03-19T15:37:16.630Z"
   },
   {
    "duration": 38,
    "start_time": "2024-03-19T15:37:16.643Z"
   },
   {
    "duration": 38,
    "start_time": "2024-03-19T15:37:16.683Z"
   },
   {
    "duration": 23,
    "start_time": "2024-03-19T15:37:16.723Z"
   },
   {
    "duration": 24,
    "start_time": "2024-03-19T15:37:16.748Z"
   },
   {
    "duration": 24,
    "start_time": "2024-03-19T15:37:16.773Z"
   },
   {
    "duration": 25,
    "start_time": "2024-03-19T15:37:16.799Z"
   },
   {
    "duration": 1561,
    "start_time": "2024-03-19T15:37:16.825Z"
   },
   {
    "duration": 138,
    "start_time": "2024-03-19T15:37:18.388Z"
   },
   {
    "duration": 5,
    "start_time": "2024-03-19T15:37:18.527Z"
   },
   {
    "duration": 179,
    "start_time": "2024-03-19T15:37:18.534Z"
   },
   {
    "duration": 7,
    "start_time": "2024-03-19T15:39:05.927Z"
   }
  ],
  "kernelspec": {
   "display_name": "Python 3 (ipykernel)",
   "language": "python",
   "name": "python3"
  },
  "language_info": {
   "codemirror_mode": {
    "name": "ipython",
    "version": 3
   },
   "file_extension": ".py",
   "mimetype": "text/x-python",
   "name": "python",
   "nbconvert_exporter": "python",
   "pygments_lexer": "ipython3",
   "version": "3.11.7"
  },
  "toc": {
   "base_numbering": 1,
   "nav_menu": {},
   "number_sections": true,
   "sideBar": true,
   "skip_h1_title": true,
   "title_cell": "Содержание",
   "title_sidebar": "Contents",
   "toc_cell": true,
   "toc_position": {},
   "toc_section_display": true,
   "toc_window_display": false
  }
 },
 "nbformat": 4,
 "nbformat_minor": 5
}

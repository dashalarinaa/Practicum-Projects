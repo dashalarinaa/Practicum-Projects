{
 "cells": [
  {
   "cell_type": "markdown",
   "metadata": {},
   "source": [
    "# Проект по SQL"
   ]
  },
  {
   "cell_type": "markdown",
   "metadata": {},
   "source": [
    "Коронавирус застал мир врасплох, изменив привычный порядок вещей. На какое-то время жители городов перестали выходить на улицу, посещать кафе и торговые центры. Зато стало больше времени для книг. Это заметили стартаперы — и бросились создавать приложения для тех, кто любит читать.\n",
    "Компания решила быть на волне и купила крупный сервис для чтения книг по подписке. \n",
    "\n",
    "**Цель исследования:** на основании анализа предложенной базы данных сформулировать ценностное предложение для нового продукта (приложения для чтения книг)\n",
    "\n",
    "**Задачи:**\n",
    "- проанализировать базу данных;\n",
    "- посчитать, сколько книг вышло после 1 января 2000 года;\n",
    "- посчитать,  количество обзоров и среднюю оценку;\n",
    "- определите издательство, которое выпустило наибольшее число книг толще 50 страниц;\n",
    "- определите автора с самой высокой средней оценкой книг;\n",
    "- посчитать  среднее количество обзоров от пользователей, которые поставили больше 48 оценок."
   ]
  },
  {
   "cell_type": "markdown",
   "metadata": {},
   "source": [
    "**Описание данных**\n",
    "\n",
    "Таблица books\n",
    "\n",
    "Содержит данные о книгах:\n",
    "\n",
    "-  book_id — идентификатор книги;\n",
    "- author_id — идентификатор автора;\n",
    "- title — название книги;\n",
    "- num_pages — количество страниц;\n",
    "- publication_date — дата публикации книги;\n",
    "- publisher_id — идентификатор издателя.\n",
    "\n",
    "Таблица authors\n",
    "\n",
    "Содержит данные об авторах:\n",
    "\n",
    "- author_id — идентификатор автора;\n",
    "- author — имя автора.\n",
    "\n",
    "Таблица publishers\n",
    "\n",
    "Содержит данные об издательствах:\n",
    "\n",
    "- publisher_id — идентификатор издательства;\n",
    "- publisher — название издательства;\n",
    "\n",
    "Таблица ratings\n",
    "\n",
    "Содержит данные о пользовательских оценках книг:\n",
    "\n",
    "- rating_id — идентификатор оценки;\n",
    "- book_id — идентификатор книги;\n",
    "- username — имя пользователя, оставившего оценку;\n",
    "- rating — оценка книги.\n",
    "\n",
    "Таблица reviews\n",
    "\n",
    "Содержит данные о пользовательских обзорах:\n",
    "\n",
    "- review_id — идентификатор обзора;\n",
    "- book_id — идентификатор книги;\n",
    "- username — имя автора обзора;\n",
    "- text — текст обзора."
   ]
  },
  {
   "cell_type": "code",
   "execution_count": 1,
   "metadata": {},
   "outputs": [],
   "source": [
    "import pandas as pd\n",
    "from sqlalchemy import text, create_engine"
   ]
  },
  {
   "cell_type": "code",
   "execution_count": 2,
   "metadata": {},
   "outputs": [],
   "source": [
    "db_config = {'user': 'praktikum_student', # имя пользователя\n",
    "'pwd': 'Sdf4$2;d-d30pp', # пароль\n",
    "'host': 'rc1b-wcoijxj3yxfsf3fs.mdb.yandexcloud.net',\n",
    "'port': 6432, # порт подключения\n",
    "'db': 'data-analyst-final-project-db'} # название базы данных\n",
    "connection_string = 'postgresql://{user}:{pwd}@{host}:{port}/{db}'.format(**db_config)\n"
   ]
  },
  {
   "cell_type": "code",
   "execution_count": 3,
   "metadata": {},
   "outputs": [],
   "source": [
    "engine = create_engine(connection_string, connect_args={'sslmode':'require'})"
   ]
  },
  {
   "cell_type": "markdown",
   "metadata": {},
   "source": [
    "### Вывод данных"
   ]
  },
  {
   "cell_type": "code",
   "execution_count": 4,
   "metadata": {
    "scrolled": true
   },
   "outputs": [
    {
     "data": {
      "text/html": [
       "<div>\n",
       "<style scoped>\n",
       "    .dataframe tbody tr th:only-of-type {\n",
       "        vertical-align: middle;\n",
       "    }\n",
       "\n",
       "    .dataframe tbody tr th {\n",
       "        vertical-align: top;\n",
       "    }\n",
       "\n",
       "    .dataframe thead th {\n",
       "        text-align: right;\n",
       "    }\n",
       "</style>\n",
       "<table border=\"1\" class=\"dataframe\">\n",
       "  <thead>\n",
       "    <tr style=\"text-align: right;\">\n",
       "      <th></th>\n",
       "      <th>book_id</th>\n",
       "      <th>author_id</th>\n",
       "      <th>title</th>\n",
       "      <th>num_pages</th>\n",
       "      <th>publication_date</th>\n",
       "      <th>publisher_id</th>\n",
       "    </tr>\n",
       "  </thead>\n",
       "  <tbody>\n",
       "    <tr>\n",
       "      <th>0</th>\n",
       "      <td>1</td>\n",
       "      <td>546</td>\n",
       "      <td>'Salem's Lot</td>\n",
       "      <td>594</td>\n",
       "      <td>2005-11-01</td>\n",
       "      <td>93</td>\n",
       "    </tr>\n",
       "    <tr>\n",
       "      <th>1</th>\n",
       "      <td>2</td>\n",
       "      <td>465</td>\n",
       "      <td>1 000 Places to See Before You Die</td>\n",
       "      <td>992</td>\n",
       "      <td>2003-05-22</td>\n",
       "      <td>336</td>\n",
       "    </tr>\n",
       "    <tr>\n",
       "      <th>2</th>\n",
       "      <td>3</td>\n",
       "      <td>407</td>\n",
       "      <td>13 Little Blue Envelopes (Little Blue Envelope...</td>\n",
       "      <td>322</td>\n",
       "      <td>2010-12-21</td>\n",
       "      <td>135</td>\n",
       "    </tr>\n",
       "    <tr>\n",
       "      <th>3</th>\n",
       "      <td>4</td>\n",
       "      <td>82</td>\n",
       "      <td>1491: New Revelations of the Americas Before C...</td>\n",
       "      <td>541</td>\n",
       "      <td>2006-10-10</td>\n",
       "      <td>309</td>\n",
       "    </tr>\n",
       "    <tr>\n",
       "      <th>4</th>\n",
       "      <td>5</td>\n",
       "      <td>125</td>\n",
       "      <td>1776</td>\n",
       "      <td>386</td>\n",
       "      <td>2006-07-04</td>\n",
       "      <td>268</td>\n",
       "    </tr>\n",
       "  </tbody>\n",
       "</table>\n",
       "</div>"
      ],
      "text/plain": [
       "   book_id  author_id                                              title  \\\n",
       "0        1        546                                       'Salem's Lot   \n",
       "1        2        465                 1 000 Places to See Before You Die   \n",
       "2        3        407  13 Little Blue Envelopes (Little Blue Envelope...   \n",
       "3        4         82  1491: New Revelations of the Americas Before C...   \n",
       "4        5        125                                               1776   \n",
       "\n",
       "   num_pages publication_date  publisher_id  \n",
       "0        594       2005-11-01            93  \n",
       "1        992       2003-05-22           336  \n",
       "2        322       2010-12-21           135  \n",
       "3        541       2006-10-10           309  \n",
       "4        386       2006-07-04           268  "
      ]
     },
     "execution_count": 4,
     "metadata": {},
     "output_type": "execute_result"
    }
   ],
   "source": [
    "query = '''SELECT * FROM books'''\n",
    "con=engine.connect()\n",
    "books = pd.io.sql.read_sql(sql=text(query), con = con)\n",
    "books.head()"
   ]
  },
  {
   "cell_type": "code",
   "execution_count": 5,
   "metadata": {},
   "outputs": [
    {
     "name": "stdout",
     "output_type": "stream",
     "text": [
      "<class 'pandas.core.frame.DataFrame'>\n",
      "RangeIndex: 1000 entries, 0 to 999\n",
      "Data columns (total 6 columns):\n",
      " #   Column            Non-Null Count  Dtype \n",
      "---  ------            --------------  ----- \n",
      " 0   book_id           1000 non-null   int64 \n",
      " 1   author_id         1000 non-null   int64 \n",
      " 2   title             1000 non-null   object\n",
      " 3   num_pages         1000 non-null   int64 \n",
      " 4   publication_date  1000 non-null   object\n",
      " 5   publisher_id      1000 non-null   int64 \n",
      "dtypes: int64(4), object(2)\n",
      "memory usage: 47.0+ KB\n"
     ]
    }
   ],
   "source": [
    "books.info()"
   ]
  },
  {
   "cell_type": "code",
   "execution_count": 6,
   "metadata": {
    "scrolled": true
   },
   "outputs": [
    {
     "data": {
      "text/html": [
       "<div>\n",
       "<style scoped>\n",
       "    .dataframe tbody tr th:only-of-type {\n",
       "        vertical-align: middle;\n",
       "    }\n",
       "\n",
       "    .dataframe tbody tr th {\n",
       "        vertical-align: top;\n",
       "    }\n",
       "\n",
       "    .dataframe thead th {\n",
       "        text-align: right;\n",
       "    }\n",
       "</style>\n",
       "<table border=\"1\" class=\"dataframe\">\n",
       "  <thead>\n",
       "    <tr style=\"text-align: right;\">\n",
       "      <th></th>\n",
       "      <th>author_id</th>\n",
       "      <th>author</th>\n",
       "    </tr>\n",
       "  </thead>\n",
       "  <tbody>\n",
       "    <tr>\n",
       "      <th>0</th>\n",
       "      <td>1</td>\n",
       "      <td>A.S. Byatt</td>\n",
       "    </tr>\n",
       "    <tr>\n",
       "      <th>1</th>\n",
       "      <td>2</td>\n",
       "      <td>Aesop/Laura Harris/Laura Gibbs</td>\n",
       "    </tr>\n",
       "    <tr>\n",
       "      <th>2</th>\n",
       "      <td>3</td>\n",
       "      <td>Agatha Christie</td>\n",
       "    </tr>\n",
       "    <tr>\n",
       "      <th>3</th>\n",
       "      <td>4</td>\n",
       "      <td>Alan Brennert</td>\n",
       "    </tr>\n",
       "    <tr>\n",
       "      <th>4</th>\n",
       "      <td>5</td>\n",
       "      <td>Alan Moore/David   Lloyd</td>\n",
       "    </tr>\n",
       "  </tbody>\n",
       "</table>\n",
       "</div>"
      ],
      "text/plain": [
       "   author_id                          author\n",
       "0          1                      A.S. Byatt\n",
       "1          2  Aesop/Laura Harris/Laura Gibbs\n",
       "2          3                 Agatha Christie\n",
       "3          4                   Alan Brennert\n",
       "4          5        Alan Moore/David   Lloyd"
      ]
     },
     "execution_count": 6,
     "metadata": {},
     "output_type": "execute_result"
    }
   ],
   "source": [
    "query = '''SELECT * FROM authors'''\n",
    "con=engine.connect()\n",
    "authors = pd.io.sql.read_sql(sql=text(query), con = con)\n",
    "authors.head()"
   ]
  },
  {
   "cell_type": "code",
   "execution_count": 7,
   "metadata": {},
   "outputs": [
    {
     "name": "stdout",
     "output_type": "stream",
     "text": [
      "<class 'pandas.core.frame.DataFrame'>\n",
      "RangeIndex: 636 entries, 0 to 635\n",
      "Data columns (total 2 columns):\n",
      " #   Column     Non-Null Count  Dtype \n",
      "---  ------     --------------  ----- \n",
      " 0   author_id  636 non-null    int64 \n",
      " 1   author     636 non-null    object\n",
      "dtypes: int64(1), object(1)\n",
      "memory usage: 10.1+ KB\n"
     ]
    }
   ],
   "source": [
    "authors.info()"
   ]
  },
  {
   "cell_type": "code",
   "execution_count": 8,
   "metadata": {},
   "outputs": [
    {
     "data": {
      "text/html": [
       "<div>\n",
       "<style scoped>\n",
       "    .dataframe tbody tr th:only-of-type {\n",
       "        vertical-align: middle;\n",
       "    }\n",
       "\n",
       "    .dataframe tbody tr th {\n",
       "        vertical-align: top;\n",
       "    }\n",
       "\n",
       "    .dataframe thead th {\n",
       "        text-align: right;\n",
       "    }\n",
       "</style>\n",
       "<table border=\"1\" class=\"dataframe\">\n",
       "  <thead>\n",
       "    <tr style=\"text-align: right;\">\n",
       "      <th></th>\n",
       "      <th>publisher_id</th>\n",
       "      <th>publisher</th>\n",
       "    </tr>\n",
       "  </thead>\n",
       "  <tbody>\n",
       "    <tr>\n",
       "      <th>0</th>\n",
       "      <td>1</td>\n",
       "      <td>Ace</td>\n",
       "    </tr>\n",
       "    <tr>\n",
       "      <th>1</th>\n",
       "      <td>2</td>\n",
       "      <td>Ace Book</td>\n",
       "    </tr>\n",
       "    <tr>\n",
       "      <th>2</th>\n",
       "      <td>3</td>\n",
       "      <td>Ace Books</td>\n",
       "    </tr>\n",
       "    <tr>\n",
       "      <th>3</th>\n",
       "      <td>4</td>\n",
       "      <td>Ace Hardcover</td>\n",
       "    </tr>\n",
       "    <tr>\n",
       "      <th>4</th>\n",
       "      <td>5</td>\n",
       "      <td>Addison Wesley Publishing Company</td>\n",
       "    </tr>\n",
       "  </tbody>\n",
       "</table>\n",
       "</div>"
      ],
      "text/plain": [
       "   publisher_id                          publisher\n",
       "0             1                                Ace\n",
       "1             2                           Ace Book\n",
       "2             3                          Ace Books\n",
       "3             4                      Ace Hardcover\n",
       "4             5  Addison Wesley Publishing Company"
      ]
     },
     "execution_count": 8,
     "metadata": {},
     "output_type": "execute_result"
    }
   ],
   "source": [
    "query = '''SELECT * FROM publishers'''\n",
    "con=engine.connect()\n",
    "publishers = pd.io.sql.read_sql(sql=text(query), con = con)\n",
    "publishers.head()"
   ]
  },
  {
   "cell_type": "code",
   "execution_count": 9,
   "metadata": {},
   "outputs": [
    {
     "name": "stdout",
     "output_type": "stream",
     "text": [
      "<class 'pandas.core.frame.DataFrame'>\n",
      "RangeIndex: 340 entries, 0 to 339\n",
      "Data columns (total 2 columns):\n",
      " #   Column        Non-Null Count  Dtype \n",
      "---  ------        --------------  ----- \n",
      " 0   publisher_id  340 non-null    int64 \n",
      " 1   publisher     340 non-null    object\n",
      "dtypes: int64(1), object(1)\n",
      "memory usage: 5.4+ KB\n"
     ]
    }
   ],
   "source": [
    "publishers.info()"
   ]
  },
  {
   "cell_type": "code",
   "execution_count": 10,
   "metadata": {},
   "outputs": [
    {
     "data": {
      "text/html": [
       "<div>\n",
       "<style scoped>\n",
       "    .dataframe tbody tr th:only-of-type {\n",
       "        vertical-align: middle;\n",
       "    }\n",
       "\n",
       "    .dataframe tbody tr th {\n",
       "        vertical-align: top;\n",
       "    }\n",
       "\n",
       "    .dataframe thead th {\n",
       "        text-align: right;\n",
       "    }\n",
       "</style>\n",
       "<table border=\"1\" class=\"dataframe\">\n",
       "  <thead>\n",
       "    <tr style=\"text-align: right;\">\n",
       "      <th></th>\n",
       "      <th>rating_id</th>\n",
       "      <th>book_id</th>\n",
       "      <th>username</th>\n",
       "      <th>rating</th>\n",
       "    </tr>\n",
       "  </thead>\n",
       "  <tbody>\n",
       "    <tr>\n",
       "      <th>0</th>\n",
       "      <td>1</td>\n",
       "      <td>1</td>\n",
       "      <td>ryanfranco</td>\n",
       "      <td>4</td>\n",
       "    </tr>\n",
       "    <tr>\n",
       "      <th>1</th>\n",
       "      <td>2</td>\n",
       "      <td>1</td>\n",
       "      <td>grantpatricia</td>\n",
       "      <td>2</td>\n",
       "    </tr>\n",
       "    <tr>\n",
       "      <th>2</th>\n",
       "      <td>3</td>\n",
       "      <td>1</td>\n",
       "      <td>brandtandrea</td>\n",
       "      <td>5</td>\n",
       "    </tr>\n",
       "    <tr>\n",
       "      <th>3</th>\n",
       "      <td>4</td>\n",
       "      <td>2</td>\n",
       "      <td>lorichen</td>\n",
       "      <td>3</td>\n",
       "    </tr>\n",
       "    <tr>\n",
       "      <th>4</th>\n",
       "      <td>5</td>\n",
       "      <td>2</td>\n",
       "      <td>mariokeller</td>\n",
       "      <td>2</td>\n",
       "    </tr>\n",
       "  </tbody>\n",
       "</table>\n",
       "</div>"
      ],
      "text/plain": [
       "   rating_id  book_id       username  rating\n",
       "0          1        1     ryanfranco       4\n",
       "1          2        1  grantpatricia       2\n",
       "2          3        1   brandtandrea       5\n",
       "3          4        2       lorichen       3\n",
       "4          5        2    mariokeller       2"
      ]
     },
     "execution_count": 10,
     "metadata": {},
     "output_type": "execute_result"
    }
   ],
   "source": [
    "query = '''SELECT * FROM ratings'''\n",
    "con=engine.connect()\n",
    "ratings = pd.io.sql.read_sql(sql=text(query), con = con)\n",
    "ratings.head()"
   ]
  },
  {
   "cell_type": "code",
   "execution_count": 11,
   "metadata": {},
   "outputs": [
    {
     "name": "stdout",
     "output_type": "stream",
     "text": [
      "<class 'pandas.core.frame.DataFrame'>\n",
      "RangeIndex: 6456 entries, 0 to 6455\n",
      "Data columns (total 4 columns):\n",
      " #   Column     Non-Null Count  Dtype \n",
      "---  ------     --------------  ----- \n",
      " 0   rating_id  6456 non-null   int64 \n",
      " 1   book_id    6456 non-null   int64 \n",
      " 2   username   6456 non-null   object\n",
      " 3   rating     6456 non-null   int64 \n",
      "dtypes: int64(3), object(1)\n",
      "memory usage: 201.9+ KB\n"
     ]
    }
   ],
   "source": [
    "ratings.info()"
   ]
  },
  {
   "cell_type": "code",
   "execution_count": 12,
   "metadata": {
    "scrolled": false
   },
   "outputs": [
    {
     "data": {
      "text/html": [
       "<div>\n",
       "<style scoped>\n",
       "    .dataframe tbody tr th:only-of-type {\n",
       "        vertical-align: middle;\n",
       "    }\n",
       "\n",
       "    .dataframe tbody tr th {\n",
       "        vertical-align: top;\n",
       "    }\n",
       "\n",
       "    .dataframe thead th {\n",
       "        text-align: right;\n",
       "    }\n",
       "</style>\n",
       "<table border=\"1\" class=\"dataframe\">\n",
       "  <thead>\n",
       "    <tr style=\"text-align: right;\">\n",
       "      <th></th>\n",
       "      <th>review_id</th>\n",
       "      <th>book_id</th>\n",
       "      <th>username</th>\n",
       "      <th>text</th>\n",
       "    </tr>\n",
       "  </thead>\n",
       "  <tbody>\n",
       "    <tr>\n",
       "      <th>0</th>\n",
       "      <td>1</td>\n",
       "      <td>1</td>\n",
       "      <td>brandtandrea</td>\n",
       "      <td>Mention society tell send professor analysis. ...</td>\n",
       "    </tr>\n",
       "    <tr>\n",
       "      <th>1</th>\n",
       "      <td>2</td>\n",
       "      <td>1</td>\n",
       "      <td>ryanfranco</td>\n",
       "      <td>Foot glass pretty audience hit themselves. Amo...</td>\n",
       "    </tr>\n",
       "    <tr>\n",
       "      <th>2</th>\n",
       "      <td>3</td>\n",
       "      <td>2</td>\n",
       "      <td>lorichen</td>\n",
       "      <td>Listen treat keep worry. Miss husband tax but ...</td>\n",
       "    </tr>\n",
       "    <tr>\n",
       "      <th>3</th>\n",
       "      <td>4</td>\n",
       "      <td>3</td>\n",
       "      <td>johnsonamanda</td>\n",
       "      <td>Finally month interesting blue could nature cu...</td>\n",
       "    </tr>\n",
       "    <tr>\n",
       "      <th>4</th>\n",
       "      <td>5</td>\n",
       "      <td>3</td>\n",
       "      <td>scotttamara</td>\n",
       "      <td>Nation purpose heavy give wait song will. List...</td>\n",
       "    </tr>\n",
       "  </tbody>\n",
       "</table>\n",
       "</div>"
      ],
      "text/plain": [
       "   review_id  book_id       username  \\\n",
       "0          1        1   brandtandrea   \n",
       "1          2        1     ryanfranco   \n",
       "2          3        2       lorichen   \n",
       "3          4        3  johnsonamanda   \n",
       "4          5        3    scotttamara   \n",
       "\n",
       "                                                text  \n",
       "0  Mention society tell send professor analysis. ...  \n",
       "1  Foot glass pretty audience hit themselves. Amo...  \n",
       "2  Listen treat keep worry. Miss husband tax but ...  \n",
       "3  Finally month interesting blue could nature cu...  \n",
       "4  Nation purpose heavy give wait song will. List...  "
      ]
     },
     "execution_count": 12,
     "metadata": {},
     "output_type": "execute_result"
    }
   ],
   "source": [
    "query = '''SELECT * FROM reviews'''\n",
    "con=engine.connect()\n",
    "reviews = pd.io.sql.read_sql(sql=text(query), con = con)\n",
    "reviews.head()"
   ]
  },
  {
   "cell_type": "code",
   "execution_count": 13,
   "metadata": {},
   "outputs": [
    {
     "name": "stdout",
     "output_type": "stream",
     "text": [
      "<class 'pandas.core.frame.DataFrame'>\n",
      "RangeIndex: 2793 entries, 0 to 2792\n",
      "Data columns (total 4 columns):\n",
      " #   Column     Non-Null Count  Dtype \n",
      "---  ------     --------------  ----- \n",
      " 0   review_id  2793 non-null   int64 \n",
      " 1   book_id    2793 non-null   int64 \n",
      " 2   username   2793 non-null   object\n",
      " 3   text       2793 non-null   object\n",
      "dtypes: int64(2), object(2)\n",
      "memory usage: 87.4+ KB\n"
     ]
    }
   ],
   "source": [
    "reviews.info()"
   ]
  },
  {
   "cell_type": "markdown",
   "metadata": {},
   "source": [
    "В таблице books представлена информация о 1000 книг. Данные книги написали 636 авторов, представленные в таблице authors. Эти две таблицы соединены по внешнему ключу author_id. В таблице books также указано, какое именно издательство напечатало книгу, информация о наименования вынесена в отдельную таблицу publishers? связь между таблицами по ключу publisher_id. Отзывы и обзоры на книги представлены в таблицах ratings и reviews соответственно, связь по book_id."
   ]
  },
  {
   "cell_type": "markdown",
   "metadata": {},
   "source": [
    "### Cколько книг вышло после 1 января 2000 года?"
   ]
  },
  {
   "cell_type": "code",
   "execution_count": 14,
   "metadata": {
    "scrolled": true
   },
   "outputs": [
    {
     "data": {
      "text/html": [
       "<div>\n",
       "<style scoped>\n",
       "    .dataframe tbody tr th:only-of-type {\n",
       "        vertical-align: middle;\n",
       "    }\n",
       "\n",
       "    .dataframe tbody tr th {\n",
       "        vertical-align: top;\n",
       "    }\n",
       "\n",
       "    .dataframe thead th {\n",
       "        text-align: right;\n",
       "    }\n",
       "</style>\n",
       "<table border=\"1\" class=\"dataframe\">\n",
       "  <thead>\n",
       "    <tr style=\"text-align: right;\">\n",
       "      <th></th>\n",
       "      <th>count</th>\n",
       "    </tr>\n",
       "  </thead>\n",
       "  <tbody>\n",
       "    <tr>\n",
       "      <th>0</th>\n",
       "      <td>819</td>\n",
       "    </tr>\n",
       "  </tbody>\n",
       "</table>\n",
       "</div>"
      ],
      "text/plain": [
       "   count\n",
       "0    819"
      ]
     },
     "execution_count": 14,
     "metadata": {},
     "output_type": "execute_result"
    }
   ],
   "source": [
    "query = '''SELECT COUNT(distinct book_id)\n",
    "FROM books\n",
    "WHERE publication_date > '2000-01-01' '''\n",
    "con=engine.connect()\n",
    "pd.io.sql.read_sql(sql=text(query), con = con)"
   ]
  },
  {
   "cell_type": "markdown",
   "metadata": {},
   "source": [
    "После 01.01.2000 вышло 819 книг."
   ]
  },
  {
   "cell_type": "markdown",
   "metadata": {},
   "source": [
    "### Посчитать количество обзоров и среднюю оценку для каждой книги"
   ]
  },
  {
   "cell_type": "code",
   "execution_count": 15,
   "metadata": {
    "scrolled": false
   },
   "outputs": [
    {
     "data": {
      "text/html": [
       "<div>\n",
       "<style scoped>\n",
       "    .dataframe tbody tr th:only-of-type {\n",
       "        vertical-align: middle;\n",
       "    }\n",
       "\n",
       "    .dataframe tbody tr th {\n",
       "        vertical-align: top;\n",
       "    }\n",
       "\n",
       "    .dataframe thead th {\n",
       "        text-align: right;\n",
       "    }\n",
       "</style>\n",
       "<table border=\"1\" class=\"dataframe\">\n",
       "  <thead>\n",
       "    <tr style=\"text-align: right;\">\n",
       "      <th></th>\n",
       "      <th>book_id</th>\n",
       "      <th>title</th>\n",
       "      <th>count_reviews</th>\n",
       "      <th>avg_rating</th>\n",
       "    </tr>\n",
       "  </thead>\n",
       "  <tbody>\n",
       "    <tr>\n",
       "      <th>0</th>\n",
       "      <td>948</td>\n",
       "      <td>Twilight (Twilight  #1)</td>\n",
       "      <td>7</td>\n",
       "      <td>3.662500</td>\n",
       "    </tr>\n",
       "    <tr>\n",
       "      <th>1</th>\n",
       "      <td>302</td>\n",
       "      <td>Harry Potter and the Prisoner of Azkaban (Harr...</td>\n",
       "      <td>6</td>\n",
       "      <td>4.414634</td>\n",
       "    </tr>\n",
       "    <tr>\n",
       "      <th>2</th>\n",
       "      <td>299</td>\n",
       "      <td>Harry Potter and the Chamber of Secrets (Harry...</td>\n",
       "      <td>6</td>\n",
       "      <td>4.287500</td>\n",
       "    </tr>\n",
       "    <tr>\n",
       "      <th>3</th>\n",
       "      <td>656</td>\n",
       "      <td>The Book Thief</td>\n",
       "      <td>6</td>\n",
       "      <td>4.264151</td>\n",
       "    </tr>\n",
       "    <tr>\n",
       "      <th>4</th>\n",
       "      <td>734</td>\n",
       "      <td>The Glass Castle</td>\n",
       "      <td>6</td>\n",
       "      <td>4.206897</td>\n",
       "    </tr>\n",
       "    <tr>\n",
       "      <th>...</th>\n",
       "      <td>...</td>\n",
       "      <td>...</td>\n",
       "      <td>...</td>\n",
       "      <td>...</td>\n",
       "    </tr>\n",
       "    <tr>\n",
       "      <th>995</th>\n",
       "      <td>191</td>\n",
       "      <td>Disney's Beauty and the Beast (A Little Golden...</td>\n",
       "      <td>0</td>\n",
       "      <td>4.000000</td>\n",
       "    </tr>\n",
       "    <tr>\n",
       "      <th>996</th>\n",
       "      <td>387</td>\n",
       "      <td>Leonardo's Notebooks</td>\n",
       "      <td>0</td>\n",
       "      <td>4.000000</td>\n",
       "    </tr>\n",
       "    <tr>\n",
       "      <th>997</th>\n",
       "      <td>221</td>\n",
       "      <td>Essential Tales and Poems</td>\n",
       "      <td>0</td>\n",
       "      <td>4.000000</td>\n",
       "    </tr>\n",
       "    <tr>\n",
       "      <th>998</th>\n",
       "      <td>83</td>\n",
       "      <td>Anne Rice's The Vampire Lestat: A Graphic Novel</td>\n",
       "      <td>0</td>\n",
       "      <td>3.666667</td>\n",
       "    </tr>\n",
       "    <tr>\n",
       "      <th>999</th>\n",
       "      <td>808</td>\n",
       "      <td>The Natural Way to Draw</td>\n",
       "      <td>0</td>\n",
       "      <td>3.000000</td>\n",
       "    </tr>\n",
       "  </tbody>\n",
       "</table>\n",
       "<p>1000 rows × 4 columns</p>\n",
       "</div>"
      ],
      "text/plain": [
       "     book_id                                              title  \\\n",
       "0        948                            Twilight (Twilight  #1)   \n",
       "1        302  Harry Potter and the Prisoner of Azkaban (Harr...   \n",
       "2        299  Harry Potter and the Chamber of Secrets (Harry...   \n",
       "3        656                                     The Book Thief   \n",
       "4        734                                   The Glass Castle   \n",
       "..       ...                                                ...   \n",
       "995      191  Disney's Beauty and the Beast (A Little Golden...   \n",
       "996      387                               Leonardo's Notebooks   \n",
       "997      221                          Essential Tales and Poems   \n",
       "998       83    Anne Rice's The Vampire Lestat: A Graphic Novel   \n",
       "999      808                            The Natural Way to Draw   \n",
       "\n",
       "     count_reviews  avg_rating  \n",
       "0                7    3.662500  \n",
       "1                6    4.414634  \n",
       "2                6    4.287500  \n",
       "3                6    4.264151  \n",
       "4                6    4.206897  \n",
       "..             ...         ...  \n",
       "995              0    4.000000  \n",
       "996              0    4.000000  \n",
       "997              0    4.000000  \n",
       "998              0    3.666667  \n",
       "999              0    3.000000  \n",
       "\n",
       "[1000 rows x 4 columns]"
      ]
     },
     "execution_count": 15,
     "metadata": {},
     "output_type": "execute_result"
    }
   ],
   "source": [
    "query = '''with temp as (SELECT books.book_id, title, rating_id, rating, review_id\n",
    "FROM books LEFT JOIN ratings USING (book_id)\n",
    "LEFT JOIN reviews USING (book_id))\n",
    "\n",
    "SELECT book_id, title, COUNT(distinct review_id) as count_reviews, AVG(rating) as avg_rating\n",
    "FROM temp\n",
    "GROUP BY book_id, title\n",
    "ORDER BY 3 DESC, 4 DESC'''\n",
    "con=engine.connect()\n",
    "pd.io.sql.read_sql(sql=text(query), con = con)"
   ]
  },
  {
   "cell_type": "markdown",
   "metadata": {},
   "source": [
    "Самое большое количество обзоров - 7. Данные представлены в порядке убывания количества обзоров и дале в порядке убывания рейтинга."
   ]
  },
  {
   "cell_type": "markdown",
   "metadata": {},
   "source": [
    "### Определить издательство, которое выпустило наибольшее число книг толще 50 страниц — так исключатся из анализа брошюры"
   ]
  },
  {
   "cell_type": "code",
   "execution_count": 16,
   "metadata": {},
   "outputs": [
    {
     "data": {
      "text/html": [
       "<div>\n",
       "<style scoped>\n",
       "    .dataframe tbody tr th:only-of-type {\n",
       "        vertical-align: middle;\n",
       "    }\n",
       "\n",
       "    .dataframe tbody tr th {\n",
       "        vertical-align: top;\n",
       "    }\n",
       "\n",
       "    .dataframe thead th {\n",
       "        text-align: right;\n",
       "    }\n",
       "</style>\n",
       "<table border=\"1\" class=\"dataframe\">\n",
       "  <thead>\n",
       "    <tr style=\"text-align: right;\">\n",
       "      <th></th>\n",
       "      <th>publisher</th>\n",
       "      <th>count</th>\n",
       "    </tr>\n",
       "  </thead>\n",
       "  <tbody>\n",
       "    <tr>\n",
       "      <th>0</th>\n",
       "      <td>Penguin Books</td>\n",
       "      <td>42</td>\n",
       "    </tr>\n",
       "  </tbody>\n",
       "</table>\n",
       "</div>"
      ],
      "text/plain": [
       "       publisher  count\n",
       "0  Penguin Books     42"
      ]
     },
     "execution_count": 16,
     "metadata": {},
     "output_type": "execute_result"
    }
   ],
   "source": [
    "query = ''' \n",
    "\n",
    "with temp as (SELECT publisher, COUNT(book_id)\n",
    "FROM books INNER JOIN publishers USING (publisher_id)\n",
    "WHERE num_pages > 50\n",
    "GROUP BY publisher\n",
    "ORDER BY 2 DESC)\n",
    "\n",
    "SELECT publisher, count\n",
    "FROM temp\n",
    "WHERE count = (SELECT MAX(count)\n",
    "                FROM temp)\n",
    "\n",
    "'''\n",
    "con=engine.connect()\n",
    "pd.io.sql.read_sql(sql=text(query), con = con)"
   ]
  },
  {
   "cell_type": "markdown",
   "metadata": {},
   "source": [
    "Издательство, выпустившее наибольшее количество книг толще 50 страниц, называется Penguin Books. Оно выпустило 42 книги."
   ]
  },
  {
   "cell_type": "markdown",
   "metadata": {},
   "source": [
    "### Определить автора с самой высокой средней оценкой книг — учитывать только книги с 50 и более оценками"
   ]
  },
  {
   "cell_type": "code",
   "execution_count": 17,
   "metadata": {},
   "outputs": [
    {
     "data": {
      "text/html": [
       "<div>\n",
       "<style scoped>\n",
       "    .dataframe tbody tr th:only-of-type {\n",
       "        vertical-align: middle;\n",
       "    }\n",
       "\n",
       "    .dataframe tbody tr th {\n",
       "        vertical-align: top;\n",
       "    }\n",
       "\n",
       "    .dataframe thead th {\n",
       "        text-align: right;\n",
       "    }\n",
       "</style>\n",
       "<table border=\"1\" class=\"dataframe\">\n",
       "  <thead>\n",
       "    <tr style=\"text-align: right;\">\n",
       "      <th></th>\n",
       "      <th>author</th>\n",
       "      <th>avg</th>\n",
       "    </tr>\n",
       "  </thead>\n",
       "  <tbody>\n",
       "    <tr>\n",
       "      <th>0</th>\n",
       "      <td>J.K. Rowling/Mary GrandPré</td>\n",
       "      <td>4.283844</td>\n",
       "    </tr>\n",
       "  </tbody>\n",
       "</table>\n",
       "</div>"
      ],
      "text/plain": [
       "                       author       avg\n",
       "0  J.K. Rowling/Mary GrandPré  4.283844"
      ]
     },
     "execution_count": 17,
     "metadata": {},
     "output_type": "execute_result"
    }
   ],
   "source": [
    "query = ''' \n",
    "\n",
    "with temp as (SELECT author, book_id, avg(rating)\n",
    "FROM books\n",
    "INNER JOIN ratings USING(book_id)\n",
    "INNER JOIN author USING (author_id)\n",
    "GROUP BY 1, 2\n",
    "HAVING COUNT(rating) >= 50)\n",
    "\n",
    "SELECT author, avg(avg) over (partition by author)\n",
    "FROM temp\n",
    "ORDER BY 2 DESC\n",
    "LIMIT 1\n",
    "'''\n",
    "con=engine.connect()\n",
    "pd.io.sql.read_sql(sql=text(query), con = con)"
   ]
  },
  {
   "cell_type": "markdown",
   "metadata": {},
   "source": [
    "Автор с самой высокой средней оценкой (среди книг с более, чем пятьюдесятью оценками) - J.K. Rowling/Mary GrandPré, средняя оценка книг - 4.28"
   ]
  },
  {
   "cell_type": "markdown",
   "metadata": {},
   "source": [
    "### Посчитать среднее количество обзоров от пользователей, которые поставили больше 48 оценок."
   ]
  },
  {
   "cell_type": "code",
   "execution_count": 18,
   "metadata": {},
   "outputs": [
    {
     "data": {
      "text/html": [
       "<div>\n",
       "<style scoped>\n",
       "    .dataframe tbody tr th:only-of-type {\n",
       "        vertical-align: middle;\n",
       "    }\n",
       "\n",
       "    .dataframe tbody tr th {\n",
       "        vertical-align: top;\n",
       "    }\n",
       "\n",
       "    .dataframe thead th {\n",
       "        text-align: right;\n",
       "    }\n",
       "</style>\n",
       "<table border=\"1\" class=\"dataframe\">\n",
       "  <thead>\n",
       "    <tr style=\"text-align: right;\">\n",
       "      <th></th>\n",
       "      <th>avg</th>\n",
       "    </tr>\n",
       "  </thead>\n",
       "  <tbody>\n",
       "    <tr>\n",
       "      <th>0</th>\n",
       "      <td>24.0</td>\n",
       "    </tr>\n",
       "  </tbody>\n",
       "</table>\n",
       "</div>"
      ],
      "text/plain": [
       "    avg\n",
       "0  24.0"
      ]
     },
     "execution_count": 18,
     "metadata": {},
     "output_type": "execute_result"
    }
   ],
   "source": [
    "query = ''' \n",
    "SELECT AVG(count)\n",
    "FROM\n",
    "(SELECT username, count(review_id)\n",
    "FROM reviews\n",
    "WHERE username in (SELECT username\n",
    "                    FROM ratings\n",
    "                    GROUP BY username\n",
    "                    HAVING count(rating_id) > 48)\n",
    "GROUP BY username) as query\n",
    "'''\n",
    "con=engine.connect()\n",
    "pd.io.sql.read_sql(sql=text(query), con = con)"
   ]
  },
  {
   "cell_type": "markdown",
   "metadata": {},
   "source": [
    "Среднее количество обзоров от пользователей, которые поставили больше 48 оценок - 24."
   ]
  },
  {
   "cell_type": "markdown",
   "metadata": {},
   "source": [
    "В данных представлена информация о 1000 книг, самое большое количество обзоров - 7 шт - на книгу Twilight. Самое популярное издательство - Penguin Book, самые высокие оценки у автора J.K. Rowling/Mary GrandPré (4.28 в среднем). В среднем, пользователи, которые оставляют более 48 отзывов, также пишут по 24 обзора на книги, т.е. примерно на 2 отзыва приходится 1 обзор."
   ]
  }
 ],
 "metadata": {
  "ExecuteTimeLog": [
   {
    "duration": 531,
    "start_time": "2024-06-12T19:20:41.187Z"
   },
   {
    "duration": 3,
    "start_time": "2024-06-12T19:21:16.888Z"
   },
   {
    "duration": 6573,
    "start_time": "2024-06-12T19:21:28.048Z"
   },
   {
    "duration": 61,
    "start_time": "2024-06-12T19:26:35.805Z"
   },
   {
    "duration": 42,
    "start_time": "2024-06-12T19:27:16.568Z"
   },
   {
    "duration": 26,
    "start_time": "2024-06-12T19:27:44.825Z"
   },
   {
    "duration": 9,
    "start_time": "2024-06-12T19:28:12.214Z"
   },
   {
    "duration": 10,
    "start_time": "2024-06-12T19:28:26.553Z"
   },
   {
    "duration": 19,
    "start_time": "2024-06-12T19:28:35.793Z"
   },
   {
    "duration": 12,
    "start_time": "2024-06-12T19:28:39.052Z"
   },
   {
    "duration": 38,
    "start_time": "2024-06-12T19:34:45.548Z"
   },
   {
    "duration": 18,
    "start_time": "2024-06-12T19:36:37.170Z"
   },
   {
    "duration": 9,
    "start_time": "2024-06-12T19:36:55.445Z"
   },
   {
    "duration": 12,
    "start_time": "2024-06-12T19:37:06.763Z"
   },
   {
    "duration": 38,
    "start_time": "2024-06-12T19:37:40.242Z"
   },
   {
    "duration": 11,
    "start_time": "2024-06-12T19:37:52.171Z"
   },
   {
    "duration": 8,
    "start_time": "2024-06-12T19:41:43.652Z"
   },
   {
    "duration": 6,
    "start_time": "2024-06-12T19:42:14.807Z"
   },
   {
    "duration": 47,
    "start_time": "2024-06-12T19:42:30.645Z"
   },
   {
    "duration": 56,
    "start_time": "2024-06-12T19:42:33.607Z"
   },
   {
    "duration": 9,
    "start_time": "2024-06-12T19:42:42.805Z"
   },
   {
    "duration": 6,
    "start_time": "2024-06-12T19:42:52.265Z"
   },
   {
    "duration": 31,
    "start_time": "2024-06-12T19:43:23.146Z"
   },
   {
    "duration": 13,
    "start_time": "2024-06-12T19:43:42.982Z"
   },
   {
    "duration": 9,
    "start_time": "2024-06-12T19:44:42.650Z"
   },
   {
    "duration": 50,
    "start_time": "2024-06-12T19:54:56.626Z"
   },
   {
    "duration": 16,
    "start_time": "2024-06-12T19:55:44.603Z"
   },
   {
    "duration": 12,
    "start_time": "2024-06-12T19:56:01.069Z"
   },
   {
    "duration": 13,
    "start_time": "2024-06-12T19:57:23.959Z"
   },
   {
    "duration": 20,
    "start_time": "2024-06-12T19:57:30.156Z"
   },
   {
    "duration": 16,
    "start_time": "2024-06-12T19:58:26.709Z"
   },
   {
    "duration": 19,
    "start_time": "2024-06-12T19:59:00.782Z"
   },
   {
    "duration": 14,
    "start_time": "2024-06-12T19:59:42.965Z"
   },
   {
    "duration": 24,
    "start_time": "2024-06-12T20:00:48.572Z"
   },
   {
    "duration": 30,
    "start_time": "2024-06-12T20:01:13.729Z"
   },
   {
    "duration": 31,
    "start_time": "2024-06-12T20:01:19.541Z"
   },
   {
    "duration": 24,
    "start_time": "2024-06-12T20:21:00.035Z"
   },
   {
    "duration": 17,
    "start_time": "2024-06-12T20:25:23.005Z"
   },
   {
    "duration": 12,
    "start_time": "2024-06-12T20:25:29.028Z"
   },
   {
    "duration": 18,
    "start_time": "2024-06-12T20:27:51.694Z"
   },
   {
    "duration": 17,
    "start_time": "2024-06-12T20:28:11.550Z"
   },
   {
    "duration": 54,
    "start_time": "2024-06-12T20:28:15.835Z"
   },
   {
    "duration": 39,
    "start_time": "2024-06-12T20:28:25.218Z"
   },
   {
    "duration": 38,
    "start_time": "2024-06-12T20:28:31.408Z"
   },
   {
    "duration": 37,
    "start_time": "2024-06-12T20:29:10.114Z"
   },
   {
    "duration": 22,
    "start_time": "2024-06-12T20:29:50.997Z"
   },
   {
    "duration": 17,
    "start_time": "2024-06-12T20:30:03.677Z"
   },
   {
    "duration": 13,
    "start_time": "2024-06-12T20:31:50.711Z"
   },
   {
    "duration": 17,
    "start_time": "2024-06-12T20:36:10.146Z"
   },
   {
    "duration": 8,
    "start_time": "2024-06-12T20:36:15.504Z"
   },
   {
    "duration": 13,
    "start_time": "2024-06-12T20:36:46.794Z"
   },
   {
    "duration": 9,
    "start_time": "2024-06-12T20:36:56.476Z"
   },
   {
    "duration": 12,
    "start_time": "2024-06-12T20:37:46.515Z"
   },
   {
    "duration": 13,
    "start_time": "2024-06-12T20:38:14.199Z"
   },
   {
    "duration": 17,
    "start_time": "2024-06-12T20:38:20.615Z"
   },
   {
    "duration": 12,
    "start_time": "2024-06-12T20:38:33.182Z"
   },
   {
    "duration": 9,
    "start_time": "2024-06-12T20:39:23.140Z"
   },
   {
    "duration": 16,
    "start_time": "2024-06-12T20:45:20.769Z"
   },
   {
    "duration": 15,
    "start_time": "2024-06-12T20:45:28.270Z"
   },
   {
    "duration": 11,
    "start_time": "2024-06-12T20:46:07.418Z"
   },
   {
    "duration": 27,
    "start_time": "2024-06-12T20:46:25.526Z"
   },
   {
    "duration": 25,
    "start_time": "2024-06-12T20:47:33.376Z"
   },
   {
    "duration": 11,
    "start_time": "2024-06-12T20:47:47.969Z"
   },
   {
    "duration": 19,
    "start_time": "2024-06-12T20:49:42.129Z"
   },
   {
    "duration": 14,
    "start_time": "2024-06-12T20:51:46.486Z"
   },
   {
    "duration": 12,
    "start_time": "2024-06-12T20:51:58.295Z"
   },
   {
    "duration": 17,
    "start_time": "2024-06-12T20:52:18.817Z"
   },
   {
    "duration": 18,
    "start_time": "2024-06-12T20:52:22.030Z"
   },
   {
    "duration": 13,
    "start_time": "2024-06-12T20:52:32.352Z"
   },
   {
    "duration": 12,
    "start_time": "2024-06-12T20:53:27.879Z"
   },
   {
    "duration": 14,
    "start_time": "2024-06-12T20:54:17.382Z"
   },
   {
    "duration": 11,
    "start_time": "2024-06-12T20:58:47.851Z"
   },
   {
    "duration": 11,
    "start_time": "2024-06-12T20:59:04.693Z"
   },
   {
    "duration": 14,
    "start_time": "2024-06-12T21:00:52.627Z"
   },
   {
    "duration": 13,
    "start_time": "2024-06-12T21:01:09.754Z"
   },
   {
    "duration": 12,
    "start_time": "2024-06-12T21:01:23.546Z"
   },
   {
    "duration": 14,
    "start_time": "2024-06-12T21:01:29.162Z"
   },
   {
    "duration": 18,
    "start_time": "2024-06-12T21:03:24.045Z"
   },
   {
    "duration": 13,
    "start_time": "2024-06-12T21:03:56.708Z"
   },
   {
    "duration": 11,
    "start_time": "2024-06-12T21:04:36.625Z"
   },
   {
    "duration": 539,
    "start_time": "2024-06-13T09:31:17.417Z"
   },
   {
    "duration": 3,
    "start_time": "2024-06-13T09:31:17.958Z"
   },
   {
    "duration": 5059,
    "start_time": "2024-06-13T09:31:17.963Z"
   },
   {
    "duration": 60,
    "start_time": "2024-06-13T09:31:23.024Z"
   },
   {
    "duration": 47,
    "start_time": "2024-06-13T09:31:23.086Z"
   },
   {
    "duration": 11,
    "start_time": "2024-06-13T09:31:23.134Z"
   },
   {
    "duration": 11,
    "start_time": "2024-06-13T09:31:23.147Z"
   },
   {
    "duration": 12,
    "start_time": "2024-06-13T09:31:23.160Z"
   },
   {
    "duration": 10,
    "start_time": "2024-06-13T09:31:23.174Z"
   },
   {
    "duration": 17,
    "start_time": "2024-06-13T09:31:23.186Z"
   },
   {
    "duration": 35,
    "start_time": "2024-06-13T09:31:23.204Z"
   },
   {
    "duration": 26,
    "start_time": "2024-06-13T09:31:23.240Z"
   },
   {
    "duration": 35,
    "start_time": "2024-06-13T09:31:23.267Z"
   },
   {
    "duration": 12,
    "start_time": "2024-06-13T09:31:23.303Z"
   },
   {
    "duration": 12,
    "start_time": "2024-06-13T09:31:23.317Z"
   },
   {
    "duration": 12,
    "start_time": "2024-06-13T09:31:23.331Z"
   },
   {
    "duration": 55,
    "start_time": "2024-06-13T12:10:35.979Z"
   },
   {
    "duration": 506,
    "start_time": "2024-06-13T12:10:43.178Z"
   },
   {
    "duration": 3,
    "start_time": "2024-06-13T12:10:43.686Z"
   },
   {
    "duration": 5991,
    "start_time": "2024-06-13T12:10:43.691Z"
   },
   {
    "duration": 315,
    "start_time": "2024-06-13T12:10:49.684Z"
   },
   {
    "duration": 0,
    "start_time": "2024-06-13T12:10:50.001Z"
   },
   {
    "duration": 0,
    "start_time": "2024-06-13T12:10:50.002Z"
   },
   {
    "duration": 0,
    "start_time": "2024-06-13T12:10:50.004Z"
   },
   {
    "duration": 0,
    "start_time": "2024-06-13T12:10:50.005Z"
   },
   {
    "duration": 0,
    "start_time": "2024-06-13T12:10:50.006Z"
   },
   {
    "duration": 0,
    "start_time": "2024-06-13T12:10:50.008Z"
   },
   {
    "duration": 0,
    "start_time": "2024-06-13T12:10:50.010Z"
   },
   {
    "duration": 0,
    "start_time": "2024-06-13T12:10:50.012Z"
   },
   {
    "duration": 0,
    "start_time": "2024-06-13T12:10:50.013Z"
   },
   {
    "duration": 0,
    "start_time": "2024-06-13T12:10:50.015Z"
   },
   {
    "duration": 0,
    "start_time": "2024-06-13T12:10:50.016Z"
   },
   {
    "duration": 0,
    "start_time": "2024-06-13T12:10:50.017Z"
   },
   {
    "duration": 175,
    "start_time": "2024-06-13T12:11:03.198Z"
   },
   {
    "duration": 9,
    "start_time": "2024-06-13T12:11:11.223Z"
   },
   {
    "duration": 11,
    "start_time": "2024-06-13T12:11:17.398Z"
   },
   {
    "duration": 67,
    "start_time": "2024-06-13T12:11:42.068Z"
   },
   {
    "duration": 10,
    "start_time": "2024-06-13T12:11:49.436Z"
   },
   {
    "duration": 109,
    "start_time": "2024-06-13T12:12:38.612Z"
   },
   {
    "duration": 11,
    "start_time": "2024-06-13T12:12:47.261Z"
   },
   {
    "duration": 99,
    "start_time": "2024-06-13T12:13:03.859Z"
   },
   {
    "duration": 10,
    "start_time": "2024-06-13T12:13:14.628Z"
   },
   {
    "duration": 540,
    "start_time": "2024-06-13T12:13:19.892Z"
   },
   {
    "duration": 3,
    "start_time": "2024-06-13T12:13:20.434Z"
   },
   {
    "duration": 6099,
    "start_time": "2024-06-13T12:13:20.438Z"
   },
   {
    "duration": 268,
    "start_time": "2024-06-13T12:13:26.539Z"
   },
   {
    "duration": 10,
    "start_time": "2024-06-13T12:13:26.809Z"
   },
   {
    "duration": 190,
    "start_time": "2024-06-13T12:13:26.821Z"
   },
   {
    "duration": 10,
    "start_time": "2024-06-13T12:13:27.012Z"
   },
   {
    "duration": 92,
    "start_time": "2024-06-13T12:13:27.024Z"
   },
   {
    "duration": 10,
    "start_time": "2024-06-13T12:13:27.117Z"
   },
   {
    "duration": 104,
    "start_time": "2024-06-13T12:13:27.129Z"
   },
   {
    "duration": 11,
    "start_time": "2024-06-13T12:13:27.235Z"
   },
   {
    "duration": 95,
    "start_time": "2024-06-13T12:13:27.247Z"
   },
   {
    "duration": 14,
    "start_time": "2024-06-13T12:13:27.344Z"
   },
   {
    "duration": 55,
    "start_time": "2024-06-13T12:13:27.361Z"
   },
   {
    "duration": 54,
    "start_time": "2024-06-13T12:13:27.418Z"
   },
   {
    "duration": 72,
    "start_time": "2024-06-13T12:13:27.474Z"
   },
   {
    "duration": 82,
    "start_time": "2024-06-13T12:13:27.548Z"
   },
   {
    "duration": 64,
    "start_time": "2024-06-13T12:13:27.631Z"
   },
   {
    "duration": 52,
    "start_time": "2024-06-13T12:13:27.696Z"
   },
   {
    "duration": 57,
    "start_time": "2024-06-13T12:13:27.750Z"
   },
   {
    "duration": 55,
    "start_time": "2024-06-13T12:13:27.808Z"
   },
   {
    "duration": 130,
    "start_time": "2024-06-13T12:20:29.157Z"
   },
   {
    "duration": 67,
    "start_time": "2024-06-13T12:20:48.969Z"
   },
   {
    "duration": 147,
    "start_time": "2024-06-13T12:20:58.557Z"
   },
   {
    "duration": 142,
    "start_time": "2024-06-13T12:21:05.904Z"
   },
   {
    "duration": 178,
    "start_time": "2024-06-13T12:21:29.294Z"
   },
   {
    "duration": 91,
    "start_time": "2024-06-13T12:22:16.581Z"
   },
   {
    "duration": 53,
    "start_time": "2024-06-13T12:24:14.336Z"
   },
   {
    "duration": 58,
    "start_time": "2024-06-13T12:25:38.338Z"
   },
   {
    "duration": 56,
    "start_time": "2024-06-13T12:25:41.928Z"
   },
   {
    "duration": 56,
    "start_time": "2024-06-13T12:26:55.656Z"
   },
   {
    "duration": 100,
    "start_time": "2024-06-13T12:37:52.615Z"
   },
   {
    "duration": 534,
    "start_time": "2024-06-13T16:11:53.726Z"
   },
   {
    "duration": 3,
    "start_time": "2024-06-13T16:11:54.262Z"
   },
   {
    "duration": 4859,
    "start_time": "2024-06-13T16:11:54.267Z"
   },
   {
    "duration": 58,
    "start_time": "2024-06-13T16:11:59.128Z"
   },
   {
    "duration": 11,
    "start_time": "2024-06-13T16:11:59.188Z"
   },
   {
    "duration": 40,
    "start_time": "2024-06-13T16:11:59.201Z"
   },
   {
    "duration": 10,
    "start_time": "2024-06-13T16:11:59.243Z"
   },
   {
    "duration": 17,
    "start_time": "2024-06-13T16:11:59.255Z"
   },
   {
    "duration": 10,
    "start_time": "2024-06-13T16:11:59.274Z"
   },
   {
    "duration": 39,
    "start_time": "2024-06-13T16:11:59.287Z"
   },
   {
    "duration": 10,
    "start_time": "2024-06-13T16:11:59.327Z"
   },
   {
    "duration": 20,
    "start_time": "2024-06-13T16:11:59.339Z"
   },
   {
    "duration": 10,
    "start_time": "2024-06-13T16:11:59.360Z"
   },
   {
    "duration": 15,
    "start_time": "2024-06-13T16:11:59.372Z"
   },
   {
    "duration": 28,
    "start_time": "2024-06-13T16:11:59.399Z"
   },
   {
    "duration": 12,
    "start_time": "2024-06-13T16:11:59.429Z"
   },
   {
    "duration": 14,
    "start_time": "2024-06-13T16:11:59.442Z"
   },
   {
    "duration": 12,
    "start_time": "2024-06-13T16:11:59.457Z"
   },
   {
    "duration": 51,
    "start_time": "2024-06-13T18:17:21.227Z"
   },
   {
    "duration": 573,
    "start_time": "2024-06-13T18:17:31.815Z"
   },
   {
    "duration": 4,
    "start_time": "2024-06-13T18:17:32.390Z"
   },
   {
    "duration": 6535,
    "start_time": "2024-06-13T18:17:32.395Z"
   },
   {
    "duration": 248,
    "start_time": "2024-06-13T18:17:38.932Z"
   },
   {
    "duration": 11,
    "start_time": "2024-06-13T18:17:39.182Z"
   },
   {
    "duration": 147,
    "start_time": "2024-06-13T18:17:39.195Z"
   },
   {
    "duration": 10,
    "start_time": "2024-06-13T18:17:39.344Z"
   },
   {
    "duration": 55,
    "start_time": "2024-06-13T18:17:39.356Z"
   },
   {
    "duration": 11,
    "start_time": "2024-06-13T18:17:39.413Z"
   },
   {
    "duration": 103,
    "start_time": "2024-06-13T18:17:39.427Z"
   },
   {
    "duration": 12,
    "start_time": "2024-06-13T18:17:39.532Z"
   },
   {
    "duration": 90,
    "start_time": "2024-06-13T18:17:39.545Z"
   },
   {
    "duration": 9,
    "start_time": "2024-06-13T18:17:39.637Z"
   },
   {
    "duration": 63,
    "start_time": "2024-06-13T18:17:39.648Z"
   },
   {
    "duration": 71,
    "start_time": "2024-06-13T18:17:39.713Z"
   },
   {
    "duration": 52,
    "start_time": "2024-06-13T18:17:39.785Z"
   },
   {
    "duration": 55,
    "start_time": "2024-06-13T18:17:39.838Z"
   },
   {
    "duration": 134,
    "start_time": "2024-06-13T18:17:39.895Z"
   },
   {
    "duration": 0,
    "start_time": "2024-06-13T18:17:40.031Z"
   },
   {
    "duration": 46,
    "start_time": "2024-06-13T18:18:10.110Z"
   },
   {
    "duration": 150,
    "start_time": "2024-06-13T18:20:41.938Z"
   },
   {
    "duration": 46,
    "start_time": "2024-06-13T18:21:06.318Z"
   },
   {
    "duration": 181,
    "start_time": "2024-06-13T18:22:44.722Z"
   },
   {
    "duration": 152,
    "start_time": "2024-06-13T18:23:06.992Z"
   },
   {
    "duration": 106,
    "start_time": "2024-06-13T18:23:15.830Z"
   },
   {
    "duration": 98,
    "start_time": "2024-06-13T18:23:40.248Z"
   },
   {
    "duration": 104,
    "start_time": "2024-06-13T18:23:51.456Z"
   },
   {
    "duration": 115,
    "start_time": "2024-06-13T18:24:07.691Z"
   },
   {
    "duration": 163,
    "start_time": "2024-06-13T18:24:23.055Z"
   },
   {
    "duration": 103,
    "start_time": "2024-06-13T18:25:02.767Z"
   },
   {
    "duration": 78,
    "start_time": "2024-06-13T18:25:29.043Z"
   },
   {
    "duration": 46,
    "start_time": "2024-06-13T18:25:49.366Z"
   },
   {
    "duration": 76,
    "start_time": "2024-06-13T18:28:28.434Z"
   },
   {
    "duration": 45,
    "start_time": "2024-06-13T18:28:57.258Z"
   },
   {
    "duration": 137,
    "start_time": "2024-06-13T18:29:16.803Z"
   },
   {
    "duration": 55,
    "start_time": "2024-06-13T18:29:24.266Z"
   },
   {
    "duration": 535,
    "start_time": "2024-06-13T18:30:50.478Z"
   },
   {
    "duration": 3,
    "start_time": "2024-06-13T18:30:51.015Z"
   },
   {
    "duration": 6204,
    "start_time": "2024-06-13T18:30:51.019Z"
   },
   {
    "duration": 257,
    "start_time": "2024-06-13T18:30:57.226Z"
   },
   {
    "duration": 11,
    "start_time": "2024-06-13T18:30:57.485Z"
   },
   {
    "duration": 143,
    "start_time": "2024-06-13T18:30:57.498Z"
   },
   {
    "duration": 18,
    "start_time": "2024-06-13T18:30:57.643Z"
   },
   {
    "duration": 82,
    "start_time": "2024-06-13T18:30:57.663Z"
   },
   {
    "duration": 16,
    "start_time": "2024-06-13T18:30:57.748Z"
   },
   {
    "duration": 118,
    "start_time": "2024-06-13T18:30:57.768Z"
   },
   {
    "duration": 10,
    "start_time": "2024-06-13T18:30:57.888Z"
   },
   {
    "duration": 115,
    "start_time": "2024-06-13T18:30:57.900Z"
   },
   {
    "duration": 15,
    "start_time": "2024-06-13T18:30:58.017Z"
   },
   {
    "duration": 61,
    "start_time": "2024-06-13T18:30:58.034Z"
   },
   {
    "duration": 75,
    "start_time": "2024-06-13T18:30:58.097Z"
   },
   {
    "duration": 52,
    "start_time": "2024-06-13T18:30:58.173Z"
   },
   {
    "duration": 55,
    "start_time": "2024-06-13T18:30:58.227Z"
   },
   {
    "duration": 53,
    "start_time": "2024-06-13T18:30:58.284Z"
   }
  ],
  "kernelspec": {
   "display_name": "Python 3 (ipykernel)",
   "language": "python",
   "name": "python3"
  },
  "language_info": {
   "codemirror_mode": {
    "name": "ipython",
    "version": 3
   },
   "file_extension": ".py",
   "mimetype": "text/x-python",
   "name": "python",
   "nbconvert_exporter": "python",
   "pygments_lexer": "ipython3",
   "version": "3.11.7"
  },
  "toc": {
   "base_numbering": 1,
   "nav_menu": {},
   "number_sections": true,
   "sideBar": true,
   "skip_h1_title": true,
   "title_cell": "Table of Contents",
   "title_sidebar": "Contents",
   "toc_cell": false,
   "toc_position": {},
   "toc_section_display": true,
   "toc_window_display": false
  }
 },
 "nbformat": 4,
 "nbformat_minor": 2
}
